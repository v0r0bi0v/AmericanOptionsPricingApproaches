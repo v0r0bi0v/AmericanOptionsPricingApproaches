{
 "cells": [
  {
   "cell_type": "code",
   "execution_count": 16,
   "metadata": {},
   "outputs": [],
   "source": [
    "if 'already_executed' not in globals():\n",
    "    already_executed = False\n",
    "\n",
    "if not already_executed:\n",
    "    import os\n",
    "    os.chdir(\"../\")\n",
    "    %load_ext autoreload\n",
    "    %autoreload 2\n",
    "    already_executed = True"
   ]
  },
  {
   "cell_type": "code",
   "execution_count": 17,
   "metadata": {},
   "outputs": [],
   "source": [
    "import numpy as np\n",
    "import matplotlib.pyplot as plt"
   ]
  },
  {
   "cell_type": "code",
   "execution_count": 18,
   "metadata": {},
   "outputs": [],
   "source": [
    "from src.pricers.pricers import LSPIBookPricer as LSPIPricer\n",
    "from src.samplers.samplers import GeometricBrownianMotionPutSampler"
   ]
  },
  {
   "cell_type": "code",
   "execution_count": 22,
   "metadata": {},
   "outputs": [],
   "source": [
    "sampler = GeometricBrownianMotionPutSampler(**{\n",
    "    \"asset0\": 100.0,\n",
    "    \"sigma\": 0.2,\n",
    "    \"r\": 0.05,\n",
    "    \"strike\": 100.0,\n",
    "    \"t\": 1.0,\n",
    "    \"cnt_times\": 365,\n",
    "    \"seed\": 42, \n",
    "    \"cnt_trajectories\": 1_000_00\n",
    "})"
   ]
  },
  {
   "cell_type": "code",
   "execution_count": 23,
   "metadata": {},
   "outputs": [],
   "source": [
    "pricer = LSPIPricer(sampler=sampler, **{\n",
    "    \"iterations\": 25,\n",
    "    \"lambda_reg\": 0,\n",
    "    \"tol\": 1e-9\n",
    "})"
   ]
  },
  {
   "cell_type": "code",
   "execution_count": 24,
   "metadata": {},
   "outputs": [
    {
     "data": {
      "application/vnd.jupyter.widget-view+json": {
       "model_id": "9a1b24cd62794a108b6a087fad49ef56",
       "version_major": 2,
       "version_minor": 0
      },
      "text/plain": [
       "GBM sampling:   0%|          | 0/364 [00:00<?, ?it/s]"
      ]
     },
     "metadata": {},
     "output_type": "display_data"
    },
    {
     "name": "stdout",
     "output_type": "stream",
     "text": [
      "Iteration 0: ||Δw|| = 1050.800070560\n",
      "Iteration 1: ||Δw|| = 1863.799720607\n",
      "Iteration 2: ||Δw|| = 149.487359109\n",
      "Iteration 3: ||Δw|| = 165.449631632\n",
      "Iteration 4: ||Δw|| = 133.134423062\n",
      "Iteration 5: ||Δw|| = 58.898011253\n",
      "Iteration 6: ||Δw|| = 19.170773559\n",
      "Iteration 7: ||Δw|| = 30.536672252\n",
      "Iteration 8: ||Δw|| = 18.023303110\n",
      "Iteration 9: ||Δw|| = 2.561987354\n",
      "Iteration 10: ||Δw|| = 0.038247343\n",
      "Iteration 11: ||Δw|| = 0.000022433\n",
      "Iteration 12: ||Δw|| = 0.000000000\n",
      "Converged after 12 iterations\n",
      "q-value at 0: 7.3796874371403405\n",
      "Option price: 5.600145087774533\n"
     ]
    },
    {
     "data": {
      "text/plain": [
       "array([5.60014509])"
      ]
     },
     "execution_count": 24,
     "metadata": {},
     "output_type": "execute_result"
    }
   ],
   "source": [
    "pricer.price(test=False, quiet=False)"
   ]
  },
  {
   "cell_type": "code",
   "execution_count": 25,
   "metadata": {},
   "outputs": [],
   "source": [
    "K = sampler.strike\n",
    "T = sampler.time_grid[-1]\n",
    "r = -np.log(sampler.discount_factor[0, 1] / sampler.discount_factor[0, 0]) / sampler.time_deltas[0]\n",
    "n_paths, n_times, _ = sampler.markov_state.shape\n",
    "gamma = np.exp(-r * sampler.time_deltas[0])\n",
    "S_paths = sampler.markov_state[:, :, 0]\n",
    "time_grid_expanded = np.tile(sampler.time_grid, (n_paths, 1))\n",
    "phi_all_raw = pricer._basis_functions_raw(S_paths, K, time_grid_expanded, T)\n",
    "phi_all = pricer._scale_features(phi_all_raw, fit=True)\n",
    "\n",
    "phi_curr = phi_all[:, :-1, :]  # Текущие состояния (t)\n",
    "phi_next = phi_all[:, 1:, :]   # Следующие состояния (t+1)\n",
    "payoff = sampler.payoff\n",
    "payoff_next = sampler.payoff[:, 1:]  # Выплаты в t+1\n",
    "\n",
    "# Выравнивание в 1D\n",
    "n_features = phi_all.shape[-1]\n",
    "phi_all_flat = phi_all.reshape(-1, n_features)\n",
    "phi_curr_flat = phi_curr.reshape(-1, n_features)\n",
    "phi_next_flat = phi_next.reshape(-1, n_features)\n",
    "payoff_flat = payoff.reshape(-1)\n",
    "payoff_next_flat = payoff_next.reshape(-1)"
   ]
  },
  {
   "cell_type": "code",
   "execution_count": 26,
   "metadata": {},
   "outputs": [],
   "source": [
    "def bellman_opt_eq(phi_curr, phi_next, payoff_next, w, gamma, w_next=None):\n",
    "    if w_next is None:\n",
    "        w_next = w\n",
    "    return ((\n",
    "        phi_curr @ w - \n",
    "        gamma * np.max(\n",
    "            np.concat([\n",
    "                payoff_next[np.newaxis], \n",
    "                (phi_next @ w_next)[np.newaxis] \\\n",
    "                    * np.array(\n",
    "                        (([1] * (n_times - 2)) + [0]) * n_paths\n",
    "                    )\n",
    "            ]), \n",
    "            axis=0\n",
    "        )\n",
    "    ) ** 2).mean()"
   ]
  },
  {
   "cell_type": "code",
   "execution_count": 27,
   "metadata": {},
   "outputs": [
    {
     "data": {
      "text/plain": [
       "np.float64(0.26496060685931794)"
      ]
     },
     "execution_count": 27,
     "metadata": {},
     "output_type": "execute_result"
    }
   ],
   "source": [
    "bellman_opt_eq(\n",
    "    phi_curr_flat, \n",
    "    phi_next_flat, \n",
    "    payoff_next_flat, \n",
    "    pricer.w, \n",
    "    gamma\n",
    ")"
   ]
  },
  {
   "cell_type": "code",
   "execution_count": 31,
   "metadata": {},
   "outputs": [
    {
     "data": {
      "text/plain": [
       "np.float64(0.2588271731444673)"
      ]
     },
     "execution_count": 31,
     "metadata": {},
     "output_type": "execute_result"
    }
   ],
   "source": [
    "bellman_opt_eq(\n",
    "    phi_curr_flat, \n",
    "    phi_next_flat, \n",
    "    payoff_next_flat, \n",
    "    pricer.w * 0.98, \n",
    "    gamma\n",
    ")"
   ]
  },
  {
   "cell_type": "code",
   "execution_count": 32,
   "metadata": {},
   "outputs": [
    {
     "data": {
      "text/plain": [
       "np.float64(0.3038999223968314)"
      ]
     },
     "execution_count": 32,
     "metadata": {},
     "output_type": "execute_result"
    }
   ],
   "source": [
    "bellman_opt_eq(\n",
    "    phi_curr_flat, \n",
    "    phi_next_flat, \n",
    "    payoff_next_flat, \n",
    "    pricer.w * 0.98, \n",
    "    gamma,\n",
    "    pricer.w\n",
    ")"
   ]
  },
  {
   "cell_type": "code",
   "execution_count": 33,
   "metadata": {},
   "outputs": [],
   "source": [
    "def price(phi_all, n_paths, payoff, w, gamma):\n",
    "    pv_payoffs = np.zeros(n_paths)\n",
    "    for p in range(n_paths):\n",
    "        for t in range(n_times):\n",
    "            phi_t = phi_all[p, t]\n",
    "            Q_cont = phi_t @ w\n",
    "            payoff_t = payoff[p, t]\n",
    "            \n",
    "            disc_factor = gamma**t\n",
    "            if payoff_t >= Q_cont or t == n_times - 1:\n",
    "                pv_payoffs[p] = disc_factor * payoff_t\n",
    "                break\n",
    "    return pv_payoffs.mean()"
   ]
  },
  {
   "cell_type": "code",
   "execution_count": 34,
   "metadata": {},
   "outputs": [
    {
     "data": {
      "text/plain": [
       "np.float64(5.600145087774431)"
      ]
     },
     "execution_count": 34,
     "metadata": {},
     "output_type": "execute_result"
    }
   ],
   "source": [
    "price(\n",
    "    phi_all,\n",
    "    n_paths, \n",
    "    sampler.payoff,\n",
    "    pricer.w,\n",
    "    gamma\n",
    ")"
   ]
  },
  {
   "cell_type": "code",
   "execution_count": 36,
   "metadata": {},
   "outputs": [
    {
     "data": {
      "text/plain": [
       "np.float64(5.8368875780642)"
      ]
     },
     "execution_count": 36,
     "metadata": {},
     "output_type": "execute_result"
    }
   ],
   "source": [
    "price(\n",
    "    phi_all,\n",
    "    n_paths, \n",
    "    sampler.payoff,\n",
    "    pricer.w * 0.98,\n",
    "    gamma\n",
    ")"
   ]
  },
  {
   "cell_type": "code",
   "execution_count": 15,
   "metadata": {},
   "outputs": [
    {
     "data": {
      "text/plain": [
       "array([   7.52693753,  195.28036558, -265.33745541,   77.75098162,\n",
       "          5.57437547,    1.18904145,    5.68642219])"
      ]
     },
     "execution_count": 15,
     "metadata": {},
     "output_type": "execute_result"
    }
   ],
   "source": [
    "pricer.w"
   ]
  },
  {
   "cell_type": "code",
   "execution_count": null,
   "metadata": {},
   "outputs": [],
   "source": []
  },
  {
   "cell_type": "code",
   "execution_count": null,
   "metadata": {},
   "outputs": [],
   "source": []
  },
  {
   "cell_type": "code",
   "execution_count": null,
   "metadata": {},
   "outputs": [],
   "source": []
  },
  {
   "cell_type": "code",
   "execution_count": null,
   "metadata": {},
   "outputs": [],
   "source": []
  },
  {
   "cell_type": "code",
   "execution_count": null,
   "metadata": {},
   "outputs": [],
   "source": []
  },
  {
   "cell_type": "code",
   "execution_count": null,
   "metadata": {},
   "outputs": [],
   "source": []
  },
  {
   "cell_type": "code",
   "execution_count": null,
   "metadata": {},
   "outputs": [],
   "source": []
  },
  {
   "cell_type": "code",
   "execution_count": null,
   "metadata": {},
   "outputs": [],
   "source": [
    "raise"
   ]
  },
  {
   "cell_type": "code",
   "execution_count": 5,
   "metadata": {},
   "outputs": [],
   "source": [
    "import numpy as np\n",
    "from numba import njit\n",
    "\n",
    "@njit\n",
    "def spread_with_gamma(arr, gamma):\n",
    "    result = np.zeros_like(arr)\n",
    "    rows, cols = np.where(np.abs(arr) > 1e-6)\n",
    "    \n",
    "    for i, j in zip(rows, cols):\n",
    "        if arr[i, j] == 0:\n",
    "            continue\n",
    "            \n",
    "        # Создаем диапазон для влияния\n",
    "        k_values = np.arange(j + 1)\n",
    "        powers = j - k_values\n",
    "        influences = (gamma ** powers) * arr[i, j]\n",
    "        \n",
    "        # Находим позиции, которые еще не заполнены\n",
    "        target_pos = k_values[result[i, k_values] == 0]\n",
    "        result[i, target_pos] = influences[target_pos]\n",
    "        \n",
    "        # Обнуляем где power == 0\n",
    "        result[i, j] = 0\n",
    "        \n",
    "    return result"
   ]
  },
  {
   "cell_type": "code",
   "execution_count": 9,
   "metadata": {},
   "outputs": [],
   "source": [
    "a = np.array([\n",
    "    [0, 0, 0, 1, 0, 0],\n",
    "    [0,1,0,3,0,0]\n",
    "])\n",
    "gamma = 2"
   ]
  },
  {
   "cell_type": "code",
   "execution_count": null,
   "metadata": {},
   "outputs": [],
   "source": [
    "spread_with_gamma(a, gamma)"
   ]
  },
  {
   "cell_type": "code",
   "execution_count": 3,
   "metadata": {},
   "outputs": [],
   "source": [
    "from copy import deepcopy\n",
    "import numpy as np\n",
    "from typing import Optional\n",
    "from sklearn.preprocessing import StandardScaler\n",
    "from src.pricers.abstract_pricer import PricerAbstract\n",
    "from src.samplers.abstract_sampler import SamplerAbstract\n",
    "\n",
    "\n",
    "import numpy as np\n",
    "from sklearn.preprocessing import PolynomialFeatures, StandardScaler\n",
    "from tqdm.auto import tqdm\n",
    "import matplotlib.pyplot as plt"
   ]
  },
  {
   "cell_type": "code",
   "execution_count": 21,
   "metadata": {},
   "outputs": [],
   "source": [
    "from src.samplers.geometric_brownian_motion_put_sampler import GeometricBrownianMotionPutSampler\n",
    "sampler = GeometricBrownianMotionPutSampler(**{\n",
    "    \"asset0\": 100.0,\n",
    "    \"sigma\": 0.2,\n",
    "    \"r\": 0.05,\n",
    "    \"strike\": 100.0,\n",
    "    \"t\": 1.0,\n",
    "    \"cnt_times\": 60,\n",
    "    \"seed\": None, \n",
    "    \"cnt_trajectories\": 1_000_000\n",
    "})"
   ]
  },
  {
   "cell_type": "markdown",
   "metadata": {},
   "source": [
    "# LSPI"
   ]
  },
  {
   "cell_type": "code",
   "execution_count": 5,
   "metadata": {},
   "outputs": [],
   "source": [
    "from dataclasses import dataclass\n",
    "@dataclass \n",
    "class A:\n",
    "    _: int\n",
    "\n",
    "self = A(0)\n",
    "\n",
    "def _create_features(self, markov_state: np.ndarray, time_grid: np.ndarray) -> np.ndarray:\n",
    "    n_paths, n_times, state_dim = markov_state.shape\n",
    "    T = time_grid[-1]\n",
    "    \n",
    "    # Нормализованное время до экспирации\n",
    "    time_to_exp = (T - time_grid) / T\n",
    "    time_to_exp = np.tile(time_to_exp, (n_paths, 1))[..., None]\n",
    "    \n",
    "    # Объединяем время и состояние\n",
    "    features = np.concatenate([time_to_exp, markov_state], axis=-1)\n",
    "    flat_features = features.reshape(-1, features.shape[-1])\n",
    "    \n",
    "    # Первый вызов - инициализируем и фитим трансформеры\n",
    "    if not self.is_fitted_:\n",
    "        self.scaler_ = StandardScaler()\n",
    "        self.poly_ = PolynomialFeatures(degree=self.degree, include_bias=True)\n",
    "        \n",
    "        scaled = self.scaler_.fit_transform(flat_features)\n",
    "        poly_features = self.poly_.fit_transform(scaled)\n",
    "        self.n_features_ = poly_features.shape[1]\n",
    "        self.is_fitted_ = True\n",
    "    else:\n",
    "        # Используем обученные трансформеры\n",
    "        scaled = self.scaler_.transform(flat_features)\n",
    "        poly_features = self.poly_.transform(scaled)\n",
    "    \n",
    "    return poly_features.reshape(n_paths, n_times, -1)\n",
    "\n",
    "def _create_features(self, markov_state: np.ndarray, time_grid: np.ndarray) -> np.ndarray:\n",
    "    M = markov_state[:, :, 0] / 100.\n",
    "    exp_term = np.exp(-M / 2.0)\n",
    "    T = time_grid[-1]\n",
    "    t = time_grid\n",
    "\n",
    "    phi = np.zeros((*markov_state[:, :, 0].shape, 7), dtype = float)\n",
    "    phi[:, :, 0] = 1.0\n",
    "    phi[:, :, 1] = exp_term\n",
    "    phi[:, :, 2] = exp_term * (1.0 - M)\n",
    "    phi[:, :, 3] = exp_term * (1.0 - 2.0 * M + 0.5 * M * M)\n",
    "    phi[:, :, 4] = np.sin(np.pi * (T - t) / (2.0 * T))\n",
    "    phi[:, :, 5] = np.log(np.maximum(T - t, 1e-10)) # 1e-10 чтобы не было log(0)\n",
    "    phi[:, :, 6] = (t / T) ** 2\n",
    "\n",
    "    scaler = StandardScaler()\n",
    "    phi_reshaped = phi[:, :, 1:].reshape(-1, 6)\n",
    "    phi_scaled = scaler.fit_transform(phi_reshaped)\n",
    "    phi_scaled = phi_scaled.reshape(phi.shape[0], phi.shape[1], 6)\n",
    "\n",
    "\n",
    "    phi_final = np.zeros_like(phi)\n",
    "    phi_final[:, :, 0] = phi[:, :, 0]\n",
    "    phi_final[:, :, 1:] = phi_scaled\n",
    "\n",
    "    return phi_final"
   ]
  },
  {
   "cell_type": "code",
   "execution_count": null,
   "metadata": {},
   "outputs": [],
   "source": [
    "self.sampler = sampler\n",
    "self.sampler.sample()"
   ]
  },
  {
   "cell_type": "code",
   "execution_count": 27,
   "metadata": {},
   "outputs": [],
   "source": [
    "r = -np.log(self.sampler.discount_factor[0, 1] / self.sampler.discount_factor[0, 0]) / (self.sampler.time_deltas[0])\n",
    "self.dt = sampler.time_deltas[0]\n",
    "self.is_fitted_ = False\n",
    "self.degree = 3\n",
    "self.iterations = 100\n",
    "self.tol = 1e-6\n",
    "self.reg_alpha = 1e-2\n",
    "quiet = False"
   ]
  },
  {
   "cell_type": "code",
   "execution_count": null,
   "metadata": {},
   "outputs": [],
   "source": [
    "# Параметры\n",
    "n_paths, n_times, _ = self.sampler.markov_state.shape\n",
    "gamma = np.exp(-r * self.dt)  # Коэффициент дисконтирования\n",
    "\n",
    "# Создаем признаки\n",
    "phi_all = _create_features(self,\n",
    "    self.sampler.markov_state, \n",
    "    self.sampler.time_grid\n",
    ")\n",
    "n_features = phi_all.shape[-1]\n",
    "\n",
    "\n",
    "w = np.zeros(n_features)\n",
    "\n",
    "# Подготовка данных\n",
    "phi_curr = phi_all[:, :-1, :]  # Текущие состояния (t)\n",
    "phi_next = phi_all[:, 1:, :]    # Следующие состояния (t+1)\n",
    "payoff_next = self.sampler.payoff[:, 1:]  # Выплаты в t+1\n",
    "\n",
    "# Выравнивание в 1D\n",
    "phi_curr_flat = phi_curr.reshape(-1, n_features)\n",
    "phi_next_flat = phi_next.reshape(-1, n_features)\n",
    "payoff_next_flat = payoff_next.reshape(-1)\n",
    "\n",
    "# Флаг нетерминальных состояний\n",
    "non_terminal = np.tile(\n",
    "    np.arange(n_times-1, dtype=int) < n_times-2, \n",
    "    (n_paths, 1)\n",
    ")\n",
    "non_terminal_flat = non_terminal.reshape(-1)\n",
    "\n",
    "# Итерации LSPI\n",
    "for it in tqdm(range(self.iterations), desc=\"LSPI iterations\"):\n",
    "    prev_w = deepcopy(w)\n",
    "    \n",
    "    # Вычисляем Q-значения продолжения\n",
    "    Q_cont_next = phi_next_flat @ w\n",
    "    \n",
    "    # Условие продолжения\n",
    "    continue_cond = non_terminal_flat & (Q_cont_next >= payoff_next_flat)\n",
    "    \n",
    "    # Формируем систему уравнений\n",
    "    diff_phi = phi_curr_flat - gamma * continue_cond[:, None] * phi_next_flat\n",
    "    A = phi_curr_flat.T @ diff_phi\n",
    "    b = gamma * phi_curr_flat.T @ ((~continue_cond) * payoff_next_flat)\n",
    "\n",
    "    if self.reg_alpha is not None:\n",
    "        A += np.eye(A.shape[0]) * self.reg_alpha\n",
    "    w = np.linalg.solve(A, b)\n",
    "    \n",
    "    # Проверка сходимости\n",
    "    diff_norm = np.linalg.norm(w - prev_w)\n",
    "    if not quiet:\n",
    "        print(f\"Iteration {it}: ||Δw|| = {diff_norm:.9f}\")\n",
    "    if diff_norm < self.tol:\n",
    "        if not quiet:\n",
    "            print(f\"Converged after {it} iterations\")\n",
    "        break\n",
    "\n",
    "self.w = w"
   ]
  },
  {
   "cell_type": "code",
   "execution_count": null,
   "metadata": {},
   "outputs": [],
   "source": [
    "pv_payoffs = np.zeros(n_paths)\n",
    "for p in range(n_paths):\n",
    "    for t in range(n_times):\n",
    "        # Признаки текущего состояния\n",
    "        phi_t = phi_all[p, t]\n",
    "        Q_cont = phi_t @ w\n",
    "        payoff_t = self.sampler.payoff[p, t]\n",
    "        \n",
    "        # Условие исполнения\n",
    "        if payoff_t >= Q_cont or t == n_times - 1:\n",
    "            disc_factor = self.sampler.discount_factor[p, t]\n",
    "            pv_payoffs[p] = disc_factor * payoff_t\n",
    "            break\n",
    "mean = pv_payoffs.mean()\n",
    "\n",
    "plt.figure(figsize=(10, 6))\n",
    "plt.hist(pv_payoffs)\n",
    "plt.axvline(mean)\n",
    "plt.title(\"Train\")\n",
    "plt.grid()\n",
    "plt.show()\n",
    "mean"
   ]
  },
  {
   "cell_type": "code",
   "execution_count": null,
   "metadata": {},
   "outputs": [],
   "source": [
    "self.sampler.sample()"
   ]
  },
  {
   "cell_type": "code",
   "execution_count": null,
   "metadata": {},
   "outputs": [],
   "source": [
    "phi_all = _create_features(self,\n",
    "    self.sampler.markov_state, \n",
    "    self.sampler.time_grid\n",
    ")\n",
    "pv_payoffs = np.zeros(n_paths)\n",
    "for p in range(n_paths):\n",
    "    for t in range(n_times):\n",
    "        # Признаки текущего состояния\n",
    "        phi_t = phi_all[p, t]\n",
    "        Q_cont = phi_t @ w\n",
    "        payoff_t = self.sampler.payoff[p, t]\n",
    "        \n",
    "        # Условие исполнения\n",
    "        if payoff_t >= Q_cont or t == n_times - 1:\n",
    "            disc_factor = self.sampler.discount_factor[p, t]\n",
    "            pv_payoffs[p] = disc_factor * payoff_t\n",
    "            break\n",
    "mean = pv_payoffs.mean()\n",
    "\n",
    "plt.figure(figsize=(10, 6))\n",
    "plt.hist(pv_payoffs)\n",
    "plt.axvline(mean)\n",
    "plt.title(\"Test\")\n",
    "plt.grid()\n",
    "plt.show()\n",
    "mean"
   ]
  },
  {
   "cell_type": "code",
   "execution_count": null,
   "metadata": {},
   "outputs": [],
   "source": [
    "n_traj = 10\n",
    "\n",
    "plt.figure(figsize=(10, 6))\n",
    "plt.plot(self.sampler.time_grid, self.sampler.payoff[:n_traj, :].T)\n",
    "plt.show()\n",
    "\n",
    "plt.figure(figsize=(10, 6))\n",
    "plt.plot(self.sampler.time_grid, (self.sampler.payoff[:, :] * self.sampler.discount_factor)[:n_traj, :].T)\n",
    "plt.show()"
   ]
  },
  {
   "cell_type": "markdown",
   "metadata": {},
   "source": [
    "# LSMC"
   ]
  },
  {
   "cell_type": "code",
   "execution_count": null,
   "metadata": {},
   "outputs": [],
   "source": [
    "from src.pricers.american_monte_carlo import AmericanMonteCarloPricer\n",
    "pricer = AmericanMonteCarloPricer(sampler, degree=3)\n",
    "pricer.price();\n",
    "pricer.result"
   ]
  },
  {
   "cell_type": "code",
   "execution_count": null,
   "metadata": {},
   "outputs": [],
   "source": [
    "import scipy\n",
    "exercise_boundary_lsmc = []\n",
    "for i, t in tqdm(list(\n",
    "    enumerate(sampler.time_grid)\n",
    ")):\n",
    "    if pricer.weights[i] is None:\n",
    "        print(\"None\")\n",
    "        exercise_boundary_lsmc.append(None)\n",
    "        continue\n",
    "\n",
    "    func_to_find_root = lambda x: (\n",
    "        sampler.discount_factor[0, i] * max(0, 100. - x) - \n",
    "        (\n",
    "            pricer.basis_functions_transformer.transform(\n",
    "                pricer.scalers[i].transform([[x]])\n",
    "            ) @ pricer.weights[i]\n",
    "        ).reshape(-1)[0]\n",
    "    )\n",
    "\n",
    "    root = scipy.optimize.minimize_scalar(\n",
    "        lambda x: func_to_find_root(x)**2,\n",
    "        bounds=[np.percentile(sampler.markov_state[:, i, 0], 0.99), 100]\n",
    "    )[\"x\"]\n",
    "    \n",
    "    if abs(func_to_find_root(root)) < 1e-6:\n",
    "        exercise_boundary_lsmc.append(\n",
    "            root\n",
    "        )\n",
    "    else:\n",
    "        exercise_boundary_lsmc.append(\n",
    "            None\n",
    "        )\n",
    "\n",
    "    payoff = np.vectorize(lambda x: sampler.discount_factor[0, i] * max(0, 100. - x))\n",
    "    continuation_value = np.vectorize(lambda x: (\n",
    "        pricer.basis_functions_transformer.transform(\n",
    "            pricer.scalers[i].transform([[x]])\n",
    "        ) @ pricer.weights[i]\n",
    "    ).reshape(-1)[0])\n",
    "    plt.figure(figsize=(10, 6))\n",
    "    plt.title(f\"Continuation value at t={t}\")\n",
    "    grid = np.linspace(np.percentile(sampler.markov_state[:, i, 0], 0.99), 100, 30)\n",
    "    plt.plot(grid, continuation_value(grid), label=\"CV\")\n",
    "    plt.plot(grid, payoff(grid), label=\"Payoff\")\n",
    "    plt.legend()\n",
    "    plt.grid()\n",
    "    plt.show()\n",
    "\n",
    "plt.figure(figsize=(10, 6))\n",
    "plt.plot(sampler.time_grid, exercise_boundary_lsmc, \"-o\", markersize=2)\n",
    "plt.show()"
   ]
  },
  {
   "cell_type": "code",
   "execution_count": null,
   "metadata": {},
   "outputs": [],
   "source": [
    "exercise_boundary_lsmc"
   ]
  },
  {
   "cell_type": "code",
   "execution_count": null,
   "metadata": {},
   "outputs": [],
   "source": []
  },
  {
   "cell_type": "code",
   "execution_count": null,
   "metadata": {},
   "outputs": [],
   "source": [
    "sampler.discount_factor[0, i]"
   ]
  },
  {
   "cell_type": "code",
   "execution_count": null,
   "metadata": {},
   "outputs": [],
   "source": [
    "exercise_boundary_lsmc"
   ]
  },
  {
   "cell_type": "code",
   "execution_count": 15,
   "metadata": {},
   "outputs": [],
   "source": [
    "# import scipy\n",
    "# exercise_boundary_lsmc = []\n",
    "# for i, t in tqdm(list(enumerate(range(len(sampler.time_grid))))):\n",
    "#     if pricer.weights[i] is None:\n",
    "#         exercise_boundary_lsmc.append(None)\n",
    "#         continue\n",
    "#     exercise_boundary_lsmc.append(\n",
    "#         scipy.optimize.minimize_scalar(\n",
    "#             lambda x: (\n",
    "#                 sampler.discount_factor[0, i] * max(0, 100. - x) - \n",
    "#                 (\n",
    "#                     pricer.basis_functions_transformer.transform([[x]]) @ pricer.weights[i]\n",
    "#                 ).reshape(-1)[0]\n",
    "#             )**2,\n",
    "#             bounds=[0, 100]\n",
    "#         )[\"x\"]\n",
    "#     )\n",
    "\n",
    "# plt.figure(figsize=(10, 6))\n",
    "# plt.plot(sampler.time_grid, exercise_boundary_lsmc)\n",
    "# plt.show()"
   ]
  },
  {
   "cell_type": "code",
   "execution_count": null,
   "metadata": {},
   "outputs": [],
   "source": [
    "pricer.weights"
   ]
  }
 ],
 "metadata": {
  "kernelspec": {
   "display_name": ".venv",
   "language": "python",
   "name": "python3"
  },
  "language_info": {
   "codemirror_mode": {
    "name": "ipython",
    "version": 3
   },
   "file_extension": ".py",
   "mimetype": "text/x-python",
   "name": "python",
   "nbconvert_exporter": "python",
   "pygments_lexer": "ipython3",
   "version": "3.12.7"
  }
 },
 "nbformat": 4,
 "nbformat_minor": 2
}
