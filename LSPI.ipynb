{
 "cells": [
  {
   "metadata": {
    "ExecuteTime": {
     "end_time": "2024-08-01T07:36:57.714352Z",
     "start_time": "2024-08-01T07:36:57.601236Z"
    }
   },
   "cell_type": "code",
   "source": [
    "from operator import itemgetter\n",
    "import itertools\n",
    "from typing import Callable, Iterable, Iterator, TypeVar, Sequence, Tuple\n",
    "\n",
    "\n",
    "import numpy as np\n",
    "\n",
    "from src.function_approx import LinearFunctionApprox, Weights\n",
    "from src.markov_decision_process import TransitionStep, NonTerminal\n",
    "from src.monte_carlo import greedy_policy_from_qvf\n",
    "from src.policy import DeterministicPolicy\n",
    "\n",
    "S = TypeVar('S')\n",
    "A = TypeVar('A')"
   ],
   "id": "cda2a1197e6d87a8",
   "outputs": [],
   "execution_count": 1
  },
  {
   "cell_type": "code",
   "id": "initial_id",
   "metadata": {
    "collapsed": true,
    "ExecuteTime": {
     "end_time": "2024-08-01T07:36:57.721778Z",
     "start_time": "2024-08-01T07:36:57.715356Z"
    }
   },
   "source": [
    "def least_squares_tdq(\n",
    "    transitions: Iterable[TransitionStep[S, A]],\n",
    "    feature_functions: Sequence[Callable[[Tuple[NonTerminal[S], A]], float]],\n",
    "    target_policy: DeterministicPolicy[S, A],\n",
    "    γ: float,\n",
    "    ε: float\n",
    ") -> LinearFunctionApprox[Tuple[NonTerminal[S], A]]:\n",
    "    '''transitions is a finite iterable'''\n",
    "    num_features: int = len(feature_functions)\n",
    "    a_inv: np.ndarray = np.eye(num_features) / ε\n",
    "    b_vec: np.ndarray = np.zeros(num_features)\n",
    "    for tr in transitions:\n",
    "        phi1: np.ndarray = np.array([f((tr.state, tr.action))\n",
    "                                     for f in feature_functions])\n",
    "        if isinstance(tr.next_state, NonTerminal):\n",
    "            phi2 = phi1 - γ * np.array([\n",
    "                f((tr.next_state, target_policy.action_for(tr.next_state.state)))\n",
    "                for f in feature_functions])\n",
    "        else:\n",
    "            phi2 = phi1\n",
    "        temp: np.ndarray = a_inv.T.dot(phi2)\n",
    "        a_inv = a_inv - np.outer(a_inv.dot(phi1), temp) / (1 + phi1.dot(temp))\n",
    "        b_vec += phi1 * tr.reward\n",
    "\n",
    "    opt_wts: np.ndarray = a_inv.dot(b_vec)\n",
    "    return LinearFunctionApprox.create(\n",
    "        feature_functions=feature_functions,\n",
    "        weights=Weights.create(opt_wts)\n",
    "    )\n",
    "\n",
    "\n",
    "def least_squares_policy_iteration(\n",
    "    transitions: Iterable[TransitionStep[S, A]],\n",
    "    actions: Callable[[NonTerminal[S]], Iterable[A]],\n",
    "    feature_functions: Sequence[Callable[[Tuple[NonTerminal[S], A]], float]],\n",
    "    initial_target_policy: DeterministicPolicy[S, A],\n",
    "    γ: float,\n",
    "    ε: float\n",
    ") -> Iterator[LinearFunctionApprox[Tuple[NonTerminal[S], A]]]:\n",
    "    '''transitions is a finite iterable'''\n",
    "    target_policy: DeterministicPolicy[S, A] = initial_target_policy\n",
    "    transitions_seq: Sequence[TransitionStep[S, A]] = list(transitions)\n",
    "    while True:\n",
    "        q: LinearFunctionApprox[Tuple[NonTerminal[S], A]] = \\\n",
    "            least_squares_tdq(\n",
    "                transitions=transitions_seq,\n",
    "                feature_functions=feature_functions,\n",
    "                target_policy=target_policy,\n",
    "                γ=γ,\n",
    "                ε=ε,\n",
    "            )\n",
    "        target_policy = greedy_policy_from_qvf(q, actions)\n",
    "        yield q"
   ],
   "outputs": [],
   "execution_count": 2
  },
  {
   "metadata": {
    "ExecuteTime": {
     "end_time": "2024-08-01T07:36:57.727156Z",
     "start_time": "2024-08-01T07:36:57.722785Z"
    }
   },
   "cell_type": "code",
   "source": [
    "import numpy as np\n",
    "\n",
    "class AmericanOptionLSPI:\n",
    "    def __init__(self, sampler, feature_functions, gamma, epsilon, num_iterations):\n",
    "        self.sampler = sampler\n",
    "        self.feature_functions = feature_functions\n",
    "        self.gamma = gamma\n",
    "        self.epsilon = epsilon\n",
    "        self.num_iterations = num_iterations\n",
    "\n",
    "    def simulate_data(self, num_samples):\n",
    "        transitions = []\n",
    "        self.sampler.sample()\n",
    "        for _ in range(num_samples):\n",
    "            state = self.sampler.get_current_state() #Note: в реализации по другому\n",
    "            action = np.random.choice([0, 1])  # random policy\n",
    "            reward, next_state = self.sampler.step(action) #Note: в реализации по другому\n",
    "            transitions.append((state, action, reward, next_state))\n",
    "        return transitions\n",
    "\n",
    "    def learn_policy(self):\n",
    "        transitions = self.simulate_data(10000)  # 10000 transitions\n",
    "        initial_policy = lambda s: np.random.choice([0, 1])\n",
    "        \n",
    "        qvf = least_squares_policy_iteration(\n",
    "            transitions=transitions,\n",
    "            feature_functions=self.feature_functions,\n",
    "            initial_target_policy=DeterministicPolicy(initial_policy),\n",
    "            γ=self.gamma,\n",
    "            ε=self.epsilon\n",
    "        )\n",
    "        return qvf\n",
    "\n",
    "    def price_option(self):\n",
    "        qvf = self.learn_policy()"
   ],
   "id": "9c4773f9e74de140",
   "outputs": [],
   "execution_count": 3
  },
  {
   "metadata": {
    "ExecuteTime": {
     "end_time": "2024-08-01T07:36:58.026330Z",
     "start_time": "2024-08-01T07:36:57.728163Z"
    }
   },
   "cell_type": "code",
   "source": [
    "from src.samplers import WienerRainbowPutOptionSampler\n",
    "our_sampler = WienerRainbowPutOptionSampler(\n",
    "        cnt_trajectories=1_000_0, # кол-во траекторий\n",
    "        cnt_times=30, # кол-во временных точек\n",
    "        t=1,\n",
    "        time_grid = None,\n",
    "        seed = 345,\n",
    "        sigmas = [1., 1.], # волатильность цен базовых активов\n",
    "        strike=0.\n",
    ")"
   ],
   "id": "4687f523442a8347",
   "outputs": [],
   "execution_count": 4
  },
  {
   "metadata": {
    "ExecuteTime": {
     "end_time": "2024-08-01T07:36:58.030062Z",
     "start_time": "2024-08-01T07:36:58.027334Z"
    }
   },
   "cell_type": "code",
   "source": [
    "def feature_functions(state_action_pair):\n",
    "    state, action = state_action_pair\n",
    "    # разница в цене от страйка, time to maturity, actions\n",
    "    features = [\n",
    "        state[0] - strike,  # price difference of first asset\n",
    "        state[1] - strike,  # price difference of second asset\n",
    "        state[2],  # time to maturity\n",
    "        action  # action taken: 0 for hold, 1 for exercise\n",
    "    ]\n",
    "    return np.array(features)\n"
   ],
   "id": "ed3391d90ea4dc2",
   "outputs": [],
   "execution_count": 5
  },
  {
   "metadata": {
    "ExecuteTime": {
     "end_time": "2024-08-01T07:36:58.462754Z",
     "start_time": "2024-08-01T07:36:58.031068Z"
    }
   },
   "cell_type": "code",
   "source": [
    "lspi = AmericanOptionLSPI(\n",
    "    sampler=our_sampler,\n",
    "    feature_functions=feature_functions,\n",
    "    gamma=0.95,  \n",
    "    epsilon=1e-5,  \n",
    "    num_iterations=20  # num of policy iterations\n",
    ")\n",
    "\n",
    "policy = lspi.learn_policy()\n"
   ],
   "id": "59bdf6dc7cce7fde",
   "outputs": [
    {
     "data": {
      "text/plain": [
       "  0%|          | 0/10000 [00:00<?, ?it/s]"
      ],
      "application/vnd.jupyter.widget-view+json": {
       "version_major": 2,
       "version_minor": 0,
       "model_id": "4279f8be6a374d0484e43b99dd0c0f26"
      }
     },
     "metadata": {},
     "output_type": "display_data"
    },
    {
     "data": {
      "text/plain": [
       "  0%|          | 0/10000 [00:00<?, ?it/s]"
      ],
      "application/vnd.jupyter.widget-view+json": {
       "version_major": 2,
       "version_minor": 0,
       "model_id": "b594fe748b4c486ba8f446ec26e2e90a"
      }
     },
     "metadata": {},
     "output_type": "display_data"
    },
    {
     "ename": "AttributeError",
     "evalue": "'WienerRainbowPutOptionSampler' object has no attribute 'get_current_state'",
     "output_type": "error",
     "traceback": [
      "\u001B[1;31m---------------------------------------------------------------------------\u001B[0m",
      "\u001B[1;31mAttributeError\u001B[0m                            Traceback (most recent call last)",
      "Cell \u001B[1;32mIn[6], line 9\u001B[0m\n\u001B[0;32m      1\u001B[0m lspi \u001B[38;5;241m=\u001B[39m AmericanOptionLSPI(\n\u001B[0;32m      2\u001B[0m     sampler\u001B[38;5;241m=\u001B[39mour_sampler,\n\u001B[0;32m      3\u001B[0m     feature_functions\u001B[38;5;241m=\u001B[39mfeature_functions,\n\u001B[1;32m   (...)\u001B[0m\n\u001B[0;32m      6\u001B[0m     num_iterations\u001B[38;5;241m=\u001B[39m\u001B[38;5;241m20\u001B[39m  \u001B[38;5;66;03m# num of policy iterations\u001B[39;00m\n\u001B[0;32m      7\u001B[0m )\n\u001B[1;32m----> 9\u001B[0m policy \u001B[38;5;241m=\u001B[39m lspi\u001B[38;5;241m.\u001B[39mlearn_policy()\n",
      "Cell \u001B[1;32mIn[3], line 22\u001B[0m, in \u001B[0;36mAmericanOptionLSPI.learn_policy\u001B[1;34m(self)\u001B[0m\n\u001B[0;32m     21\u001B[0m \u001B[38;5;28;01mdef\u001B[39;00m \u001B[38;5;21mlearn_policy\u001B[39m(\u001B[38;5;28mself\u001B[39m):\n\u001B[1;32m---> 22\u001B[0m     transitions \u001B[38;5;241m=\u001B[39m \u001B[38;5;28mself\u001B[39m\u001B[38;5;241m.\u001B[39msimulate_data(\u001B[38;5;241m10000\u001B[39m)  \u001B[38;5;66;03m# 10000 transitions\u001B[39;00m\n\u001B[0;32m     23\u001B[0m     initial_policy \u001B[38;5;241m=\u001B[39m \u001B[38;5;28;01mlambda\u001B[39;00m s: np\u001B[38;5;241m.\u001B[39mrandom\u001B[38;5;241m.\u001B[39mchoice([\u001B[38;5;241m0\u001B[39m, \u001B[38;5;241m1\u001B[39m])\n\u001B[0;32m     25\u001B[0m     qvf \u001B[38;5;241m=\u001B[39m least_squares_policy_iteration(\n\u001B[0;32m     26\u001B[0m         transitions\u001B[38;5;241m=\u001B[39mtransitions,\n\u001B[0;32m     27\u001B[0m         feature_functions\u001B[38;5;241m=\u001B[39m\u001B[38;5;28mself\u001B[39m\u001B[38;5;241m.\u001B[39mfeature_functions,\n\u001B[1;32m   (...)\u001B[0m\n\u001B[0;32m     30\u001B[0m         ε\u001B[38;5;241m=\u001B[39m\u001B[38;5;28mself\u001B[39m\u001B[38;5;241m.\u001B[39mepsilon\n\u001B[0;32m     31\u001B[0m     )\n",
      "Cell \u001B[1;32mIn[3], line 15\u001B[0m, in \u001B[0;36mAmericanOptionLSPI.simulate_data\u001B[1;34m(self, num_samples)\u001B[0m\n\u001B[0;32m     13\u001B[0m \u001B[38;5;28mself\u001B[39m\u001B[38;5;241m.\u001B[39msampler\u001B[38;5;241m.\u001B[39msample()\n\u001B[0;32m     14\u001B[0m \u001B[38;5;28;01mfor\u001B[39;00m _ \u001B[38;5;129;01min\u001B[39;00m \u001B[38;5;28mrange\u001B[39m(num_samples):\n\u001B[1;32m---> 15\u001B[0m     state \u001B[38;5;241m=\u001B[39m \u001B[38;5;28mself\u001B[39m\u001B[38;5;241m.\u001B[39msampler\u001B[38;5;241m.\u001B[39mget_current_state() \u001B[38;5;66;03m#Note: в реализации по другому\u001B[39;00m\n\u001B[0;32m     16\u001B[0m     action \u001B[38;5;241m=\u001B[39m np\u001B[38;5;241m.\u001B[39mrandom\u001B[38;5;241m.\u001B[39mchoice([\u001B[38;5;241m0\u001B[39m, \u001B[38;5;241m1\u001B[39m])  \u001B[38;5;66;03m# random policy\u001B[39;00m\n\u001B[0;32m     17\u001B[0m     reward, next_state \u001B[38;5;241m=\u001B[39m \u001B[38;5;28mself\u001B[39m\u001B[38;5;241m.\u001B[39msampler\u001B[38;5;241m.\u001B[39mstep(action) \u001B[38;5;66;03m#Note: в реализации по другому\u001B[39;00m\n",
      "\u001B[1;31mAttributeError\u001B[0m: 'WienerRainbowPutOptionSampler' object has no attribute 'get_current_state'"
     ]
    }
   ],
   "execution_count": 6
  },
  {
   "metadata": {
    "ExecuteTime": {
     "end_time": "2024-08-01T07:37:02.222666Z",
     "start_time": "2024-08-01T07:37:02.218889Z"
    }
   },
   "cell_type": "code",
   "source": [
    "def price_option(policy, num_simulations=1000):\n",
    "    total_payoff = 0\n",
    "    for _ in range(num_simulations):\n",
    "        for t in range(sampler.cnt_times):\n",
    "            action = policy(state)\n",
    "            if action == 1:  # exercise option\n",
    "                payoff = max(strike - min(state), 0)\n",
    "                total_payoff += payoff\n",
    "                break\n",
    "            state = sampler.step()  # move to next state\n",
    "    return total_payoff / num_simulations"
   ],
   "id": "5127690565f8247b",
   "outputs": [],
   "execution_count": 7
  },
  {
   "metadata": {
    "ExecuteTime": {
     "end_time": "2024-08-07T19:06:47.325806Z",
     "start_time": "2024-08-07T19:06:46.540416Z"
    }
   },
   "cell_type": "code",
   "source": [
    "import numpy as np\n",
    "from sklearn.preprocessing import PolynomialFeatures\n",
    "from tqdm import tqdm\n",
    "\n",
    "class LSPI:\n",
    "    def __init__(self, feature_functions, gamma, regularization_alpha=1e-4):\n",
    "        self.feature_functions = feature_functions\n",
    "        self.gamma = gamma\n",
    "        self.regularization_alpha = regularization_alpha\n",
    "        self.weights = None\n",
    "\n",
    "    def train(self, experiences):\n",
    "        # Construct design matrix and target vector\n",
    "        phi = np.array([self.feature_functions(state) for state, _, _ in experiences])\n",
    "        rewards = np.array([reward for _, action, reward in experiences])\n",
    "        transitions = np.array([self.feature_functions(next_state) for _, next_state, _ in experiences])\n",
    "\n",
    "        # Regression target\n",
    "        y = rewards + self.gamma * np.dot(transitions, self.weights) if self.weights is not None else rewards\n",
    "\n",
    "        # Regularized least squares (Ridge regression)\n",
    "        A = np.dot(phi.T, phi) + self.regularization_alpha * np.eye(phi.shape[1])\n",
    "        b = np.dot(phi.T, y)\n",
    "        self.weights = np.linalg.solve(A, b)\n",
    "\n",
    "    def value(self, state):\n",
    "        features = self.feature_functions(state)\n",
    "        return np.dot(features, self.weights)\n",
    "\n",
    "class AmericanMonteCarloWithLSPI:\n",
    "    def __init__(\n",
    "            self,\n",
    "            sampler,\n",
    "            feature_functions,\n",
    "            gamma=0.95,\n",
    "            regularization_alpha=1e-4\n",
    "    ):\n",
    "        self.sampler = sampler\n",
    "        self.gamma = gamma\n",
    "        self.regularization_alpha = regularization_alpha\n",
    "        self.lspi = LSPI(feature_functions, gamma, regularization_alpha)\n",
    "        self.price_history = None\n",
    "        self.option_price = None\n",
    "        self.result = {}\n",
    "\n",
    "    def price(self, num_episodes=1000, episode_length=30, quiet=False):\n",
    "        # Generate training data from simulation\n",
    "        experiences = []\n",
    "        for _ in tqdm(range(num_episodes)):\n",
    "            self.sampler.sample()\n",
    "            for time_index in range(episode_length - 1):\n",
    "                current_state = self.sampler.markov_state[:, time_index]\n",
    "                next_state = self.sampler.markov_state[:, time_index + 1]\n",
    "                reward = self.sampler.payoff[:, time_index]  # Reward is the payoff at exercising time\n",
    "                experiences.append((current_state, next_state, reward))\n",
    "\n",
    "        # Train LSPI with collected data\n",
    "        self.lspi.train(experiences)\n",
    "\n",
    "        # Simulate option pricing with LSPI estimated values\n",
    "        self.sampler.sample()  # Resample for pricing\n",
    "        discounted_payoff = self.sampler.payoff * self.sampler.discount_factor\n",
    "        self.option_price = np.zeros_like(discounted_payoff[:, -1])\n",
    "\n",
    "        for time_index in range(self.sampler.cnt_times - 1, -1, -1):\n",
    "            current_state = self.sampler.markov_state[:, time_index]\n",
    "            continuation_value = self.lspi.value(current_state)\n",
    "            exercise_value = discounted_payoff[:, time_index]\n",
    "\n",
    "            # Decide to exercise based on LSPI value function approximation\n",
    "            exercise = exercise_value > continuation_value\n",
    "            self.option_price = np.where(exercise, exercise_value, self.option_price)\n",
    "\n",
    "            if not quiet:\n",
    "                print(f\"Time {time_index}: Exercise {'Yes' if np.any(exercise) else 'No'}\")\n",
    "\n",
    "        # Compute statistics\n",
    "        self.result['price'] = float(np.mean(self.option_price))\n",
    "        self.result['std'] = float(np.std(self.option_price))\n",
    "\n",
    "        return self.result\n",
    "\n",
    "# Feature functions should be defined based on domain knowledge or experimental tuning\n",
    "def feature_functions(state):\n",
    "    return PolynomialFeatures(degree=2).fit_transform(state.reshape(-1, 1))\n"
   ],
   "id": "f79fc7c3ed35f831",
   "outputs": [],
   "execution_count": 1
  }
 ],
 "metadata": {
  "kernelspec": {
   "display_name": "Python 3",
   "language": "python",
   "name": "python3"
  },
  "language_info": {
   "codemirror_mode": {
    "name": "ipython",
    "version": 2
   },
   "file_extension": ".py",
   "mimetype": "text/x-python",
   "name": "python",
   "nbconvert_exporter": "python",
   "pygments_lexer": "ipython2",
   "version": "2.7.6"
  }
 },
 "nbformat": 4,
 "nbformat_minor": 5
}
