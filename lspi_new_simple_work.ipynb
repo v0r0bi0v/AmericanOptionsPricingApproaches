{
 "cells": [
  {
   "cell_type": "code",
   "id": "221ff131-ba60-4721-a78f-ba5a0321a408",
   "metadata": {
    "ExecuteTime": {
     "end_time": "2024-08-09T11:14:13.332662Z",
     "start_time": "2024-08-09T11:14:12.945145Z"
    }
   },
   "source": [
    "from dataclasses import dataclass\n",
    "from abc import ABC, abstractmethod\n",
    "from typing import Callable, Iterable, Iterator, TypeVar, Sequence, Tuple, Generic, Optional, Mapping\n",
    "import numpy as np\n",
    "from src.returns import plot_progress_\n",
    "\n",
    "S = TypeVar('S')\n",
    "X = TypeVar('X')\n",
    "A = TypeVar('A')\n",
    "\n",
    "class State(ABC, Generic[S]):\n",
    "    state: S\n",
    "    pass\n",
    "\n",
    "@dataclass(frozen=True)\n",
    "class ReturnStep():\n",
    "    pass\n",
    "\n",
    "@dataclass(frozen=True)\n",
    "class NonTerminal(State[S]):\n",
    "    state: S\n",
    "        \n",
    "    def __eq__(self, other):\n",
    "        return self.state == other.state\n",
    "\n",
    "    def __lt__(self, other):\n",
    "        return self.state < other.state\n",
    "\n",
    "class State(ABC, Generic[S]):\n",
    "    state: S\n",
    "\n",
    "    def on_non_terminal(\n",
    "        self,\n",
    "        f: Callable[[NonTerminal[S]], X],\n",
    "        default: X\n",
    "    ) -> X:\n",
    "        if isinstance(self, NonTerminal):\n",
    "            return f(self)\n",
    "        else:\n",
    "            return default\n",
    "\n",
    "@dataclass(frozen=True)\n",
    "class TransitionStep(Generic[S, A]):\n",
    "    '''A single step in the simulation of an MDP, containing:\n",
    "\n",
    "    state -- the state we start from\n",
    "    action -- the action we took at that state\n",
    "    next_state -- the state we ended up in after the action\n",
    "    reward -- the instantaneous reward we got for this transition\n",
    "    '''\n",
    "    state: NonTerminal[S]\n",
    "    action: A\n",
    "    next_state: State[S]\n",
    "    reward: float\n",
    "\n",
    "    def add_return(self, γ: float, return_: float) -> ReturnStep:\n",
    "        '''Given a γ and the return from 'next_state', this annotates the\n",
    "        transition with a return for 'state'.\n",
    "\n",
    "        '''\n",
    "        return ReturnStep(\n",
    "            self.state,\n",
    "            self.action,\n",
    "            self.next_state,\n",
    "            self.reward,\n",
    "            return_=self.reward + γ * return_\n",
    "        )\n",
    "\n",
    "@dataclass(frozen=True)\n",
    "class ReturnStep(TransitionStep[S, A]):\n",
    "    '''A Transition that also contains the total *return* for its starting\n",
    "    state.\n",
    "\n",
    "    '''\n",
    "    return_: float\n"
   ],
   "outputs": [],
   "execution_count": 1
  },
  {
   "cell_type": "code",
   "id": "6dfc2a36-d2a6-467d-9635-0145f9818a2b",
   "metadata": {
    "ExecuteTime": {
     "end_time": "2024-08-09T11:14:13.348108Z",
     "start_time": "2024-08-09T11:14:13.333660Z"
    }
   },
   "source": [
    "F = TypeVar('F', bound='FunctionApprox')\n",
    "\n",
    "@dataclass(frozen=True)\n",
    "class Gradient(Generic[F]):\n",
    "    pass\n",
    "\n",
    "class FunctionApprox(ABC, Generic[X]):\n",
    "    '''Interface for function approximations.\n",
    "    An object of this class approximates some function X ↦ ℝ in a way\n",
    "    that can be evaluated at specific points in X and updated with\n",
    "    additional (X, ℝ) points.\n",
    "    '''\n",
    "\n",
    "    @abstractmethod\n",
    "    def __add__(self: F, other: F) -> F:\n",
    "        pass\n",
    "\n",
    "    @abstractmethod\n",
    "    def __mul__(self: F, scalar: float) -> F:\n",
    "        pass\n",
    "\n",
    "    @abstractmethod\n",
    "    def objective_gradient(\n",
    "        self: F,\n",
    "        xy_vals_seq: Iterable[Tuple[X, float]],\n",
    "        obj_deriv_out_fun: Callable[[Sequence[X], Sequence[float]], np.ndarray]\n",
    "    ) -> Gradient[F]:\n",
    "        '''Computes the gradient of an objective function of the self\n",
    "        FunctionApprox with respect to the parameters in the internal\n",
    "        representation of the FunctionApprox. The gradient is output\n",
    "        in the form of a Gradient[FunctionApprox] whose internal parameters are\n",
    "        equal to the gradient values. The argument `obj_deriv_out_fun'\n",
    "        represents the derivative of the objective with respect to the output\n",
    "        (evaluate) of the FunctionApprox, when evaluated at a Sequence of\n",
    "        x values and a Sequence of y values (to be obtained from 'xy_vals_seq')\n",
    "        '''\n",
    "\n",
    "    @abstractmethod\n",
    "    def evaluate(self, x_values_seq: Iterable[X]) -> np.ndarray:\n",
    "        '''Computes expected value of y for each x in\n",
    "        x_values_seq (with the probability distribution\n",
    "        function of y|x estimated as FunctionApprox)\n",
    "        '''\n",
    "\n",
    "    def __call__(self, x_value: X) -> float:\n",
    "        return self.evaluate([x_value]).item()\n",
    "\n",
    "    @abstractmethod\n",
    "    def update_with_gradient(\n",
    "        self: F,\n",
    "        gradient: Gradient[F]\n",
    "    ) -> F:\n",
    "        '''Update the internal parameters of self FunctionApprox using the\n",
    "        input gradient that is presented as a Gradient[FunctionApprox]\n",
    "        '''\n",
    "\n",
    "    def update(\n",
    "        self: F,\n",
    "        xy_vals_seq: Iterable[Tuple[X, float]]\n",
    "    ) -> F:\n",
    "\n",
    "        '''Update the internal parameters of the FunctionApprox\n",
    "        based on incremental data provided in the form of (x,y)\n",
    "        pairs as a xy_vals_seq data structure\n",
    "        '''\n",
    "        def deriv_func(x: Sequence[X], y: Sequence[float]) -> np.ndarray:\n",
    "            return self.evaluate(x) - np.array(y)\n",
    "\n",
    "        return self.update_with_gradient(\n",
    "            self.objective_gradient(xy_vals_seq, deriv_func)\n",
    "        )\n",
    "\n",
    "    @abstractmethod\n",
    "    def solve(\n",
    "        self: F,\n",
    "        xy_vals_seq: Iterable[Tuple[X, float]],\n",
    "        error_tolerance: Optional[float] = None\n",
    "    ) -> F:\n",
    "        '''Assuming the entire data set of (x,y) pairs is available\n",
    "        in the form of the given input xy_vals_seq data structure,\n",
    "        solve for the internal parameters of the FunctionApprox\n",
    "        such that the internal parameters are fitted to xy_vals_seq.\n",
    "        Since this is a best-fit, the internal parameters are fitted\n",
    "        to within the input error_tolerance (where applicable, since\n",
    "        some methods involve a direct solve for the fit that don't\n",
    "        require an error_tolerance)\n",
    "        '''\n",
    "\n",
    "    @abstractmethod\n",
    "    def within(self: F, other: F, tolerance: float) -> bool:\n",
    "        '''Is this function approximation within a given tolerance of\n",
    "        another function approximation of the same type?\n",
    "        '''\n",
    "\n",
    "    def iterate_updates(\n",
    "        self: F,\n",
    "        xy_seq_stream: Iterator[Iterable[Tuple[X, float]]]\n",
    "    ) -> Iterator[F]:\n",
    "        '''Given a stream (Iterator) of data sets of (x,y) pairs,\n",
    "        perform a series of incremental updates to the internal\n",
    "        parameters (using update method), with each internal\n",
    "        parameter update done for each data set of (x,y) pairs in the\n",
    "        input stream of xy_seq_stream\n",
    "        '''\n",
    "        return iterate.accumulate(\n",
    "            xy_seq_stream,\n",
    "            lambda fa, xy: fa.update(xy),\n",
    "            initial=self\n",
    "        )\n",
    "\n",
    "    def rmse(\n",
    "        self,\n",
    "        xy_vals_seq: Iterable[Tuple[X, float]]\n",
    "    ) -> float:\n",
    "        '''The Root-Mean-Squared-Error between FunctionApprox's\n",
    "        predictions (from evaluate) and the associated (supervisory)\n",
    "        y values\n",
    "        '''\n",
    "        x_seq, y_seq = zip(*xy_vals_seq)\n",
    "        errors: np.ndarray = self.evaluate(x_seq) - np.array(y_seq)\n",
    "        return np.sqrt(np.mean(errors * errors))\n",
    "\n",
    "    def argmax(self, xs: Iterable[X]) -> X:\n",
    "        '''Return the input X that maximizes the function being approximated.\n",
    "        Arguments:\n",
    "          xs -- list of inputs to evaluate and maximize, cannot be empty\n",
    "        Returns the X that maximizes the function this approximates.\n",
    "        '''\n",
    "        args: Sequence[X] = list(xs)\n",
    "        return args[np.argmax(self.evaluate(args))]\n",
    "\n",
    "@dataclass(frozen=True)\n",
    "class Gradient(Generic[F]):\n",
    "    function_approx: F\n",
    "\n",
    "    # @overload\n",
    "    # def __add__(self, x: Gradient[F]) -> Gradient[F]:\n",
    "    #     ...\n",
    "\n",
    "    # @overload\n",
    "    # def __add__(self, x: F) -> F:\n",
    "    #     ...\n",
    "\n",
    "    def __add__(self, x):\n",
    "        if isinstance(x, Gradient):\n",
    "            return Gradient(self.function_approx + x.function_approx)\n",
    "\n",
    "        return self.function_approx + x\n",
    "\n",
    "    def __mul__(self: Gradient[F], x: float) -> Gradient[F]:\n",
    "        return Gradient(self.function_approx * x)\n",
    "\n",
    "    def zero(self) -> Gradient[F]:\n",
    "        return Gradient(self.function_approx * 0.0)"
   ],
   "outputs": [],
   "execution_count": 2
  },
  {
   "cell_type": "code",
   "id": "78a76e41-30b9-4424-aa9f-6cb62f1c2b2d",
   "metadata": {
    "ExecuteTime": {
     "end_time": "2024-08-09T11:14:13.357101Z",
     "start_time": "2024-08-09T11:14:13.349107Z"
    }
   },
   "source": [
    "B = TypeVar('B')\n",
    "\n",
    "class Distribution(ABC, Generic[A]):\n",
    "    pass\n",
    "\n",
    "class FiniteDistribution(Distribution[A], ABC):\n",
    "    pass\n",
    "\n",
    "class Distribution(ABC, Generic[A]):\n",
    "    '''A probability distribution that we can sample.\n",
    "\n",
    "    '''\n",
    "    @abstractmethod\n",
    "    def sample(self) -> A:\n",
    "        '''Return a random sample from this distribution.\n",
    "\n",
    "        '''\n",
    "        pass\n",
    "\n",
    "    def sample_n(self, n: int) -> Sequence[A]:\n",
    "        '''Return n samples from this distribution.'''\n",
    "        return [self.sample() for _ in range(n)]\n",
    "\n",
    "    @abstractmethod\n",
    "    def expectation(\n",
    "        self,\n",
    "        f: Callable[[A], float]\n",
    "    ) -> float:\n",
    "        '''Return the expecation of f(X) where X is the\n",
    "        random variable for the distribution and f is an\n",
    "        arbitrary function from X to float\n",
    "\n",
    "        '''\n",
    "        pass\n",
    "\n",
    "    def map(\n",
    "        self,\n",
    "        f: Callable[[A], B]\n",
    "    ) -> Distribution[B]:\n",
    "        '''Apply a function to the outcomes of this distribution.'''\n",
    "        return SampledDistribution(lambda: f(self.sample()))\n",
    "\n",
    "    def apply(\n",
    "        self,\n",
    "        f: Callable[[A], Distribution[B]]\n",
    "    ) -> Distribution[B]:\n",
    "        '''Apply a function that returns a distribution to the outcomes of\n",
    "        this distribution. This lets us express *dependent random\n",
    "        variables*.\n",
    "\n",
    "        '''\n",
    "        def sample():\n",
    "            a = self.sample()\n",
    "            b_dist = f(a)\n",
    "            return b_dist.sample()\n",
    "\n",
    "        return SampledDistribution(sample)\n",
    "\n",
    "class FiniteDistribution(Distribution[A], ABC):\n",
    "    '''A probability distribution with a finite number of outcomes, which\n",
    "    means we can render it as a PDF or CDF table.\n",
    "\n",
    "    '''\n",
    "    @abstractmethod\n",
    "    def table(self) -> Mapping[A, float]:\n",
    "        '''Returns a tabular representation of the probability density\n",
    "        function (PDF) for this distribution.\n",
    "\n",
    "        '''\n",
    "        pass\n",
    "\n",
    "    def probability(self, outcome: A) -> float:\n",
    "        '''Returns the probability of the given outcome according to this\n",
    "        distribution.\n",
    "\n",
    "        '''\n",
    "        return self.table()[outcome]\n",
    "\n",
    "    def map(self, f: Callable[[A], B]) -> FiniteDistribution[B]:\n",
    "        '''Return a new distribution that is the result of applying a function\n",
    "        to each element of this distribution.\n",
    "\n",
    "        '''\n",
    "        result: Dict[B, float] = defaultdict(float)\n",
    "\n",
    "        for x, p in self:\n",
    "            result[f(x)] += p\n",
    "\n",
    "        return Categorical(result)\n",
    "\n",
    "    def sample(self) -> A:\n",
    "        outcomes = list(self.table().keys())\n",
    "        weights = list(self.table().values())\n",
    "        return random.choices(outcomes, weights=weights)[0]\n",
    "\n",
    "    # TODO: Can we get rid of f or make it optional? Right now, I\n",
    "    # don't think that's possible with mypy.\n",
    "    def expectation(self, f: Callable[[A], float]) -> float:\n",
    "        '''Calculate the expected value of the distribution, using the given\n",
    "        function to turn the outcomes into numbers.\n",
    "\n",
    "        '''\n",
    "        return sum(p * f(x) for x, p in self)\n",
    "\n",
    "    def __iter__(self) -> Iterator[Tuple[A, float]]:\n",
    "        return iter(self.table().items())\n",
    "\n",
    "    def __eq__(self, other: object) -> bool:\n",
    "        if isinstance(other, FiniteDistribution):\n",
    "            return self.table() == other.table()\n",
    "        else:\n",
    "            return False\n",
    "\n",
    "    def __repr__(self) -> str:\n",
    "        return repr(self.table())\n",
    "\n",
    "@dataclass(frozen=True)\n",
    "class Constant(FiniteDistribution[A]):\n",
    "    '''A distribution that has a single outcome with probability 1.\n",
    "\n",
    "    '''\n",
    "    value: A\n",
    "\n",
    "    def sample(self) -> A:\n",
    "        return self.value\n",
    "\n",
    "    def table(self) -> Mapping[A, float]:\n",
    "        return {self.value: 1}\n",
    "\n",
    "    def probability(self, outcome: A) -> float:\n",
    "        return 1. if outcome == self.value else 0."
   ],
   "outputs": [],
   "execution_count": 3
  },
  {
   "cell_type": "code",
   "id": "2bd40697-16b7-470b-a69f-209bc5a9e281",
   "metadata": {
    "ExecuteTime": {
     "end_time": "2024-08-09T11:14:13.361100Z",
     "start_time": "2024-08-09T11:14:13.358100Z"
    }
   },
   "source": [
    "class Policy(ABC, Generic[S, A]):\n",
    "    '''A policy is a function that specifies what we should do (the\n",
    "    action) at a given state of our MDP.\n",
    "\n",
    "    '''\n",
    "    @abstractmethod\n",
    "    def act(self, state: NonTerminal[S]) -> Distribution[A]:\n",
    "        '''A distribution of actions to take from the given non-terminal\n",
    "        state.\n",
    "        '''\n",
    "\n",
    "@dataclass(frozen=True)\n",
    "class DeterministicPolicy(Policy[S, A]):\n",
    "    action_for: Callable[[S], A]\n",
    "\n",
    "    def act(self, state: NonTerminal[S]) -> Constant[A]:\n",
    "        return Constant(self.action_for(state.state))"
   ],
   "outputs": [],
   "execution_count": 4
  },
  {
   "cell_type": "code",
   "id": "42bc4e39-25bc-45ef-92ab-a2c19bf3ba2a",
   "metadata": {
    "ExecuteTime": {
     "end_time": "2024-08-09T11:14:13.364959Z",
     "start_time": "2024-08-09T11:14:13.362099Z"
    }
   },
   "source": [
    "# A representation of a value function for a finite MDP with states of\n",
    "# type S\n",
    "ValueFunctionApprox = FunctionApprox[NonTerminal[S]]\n",
    "QValueFunctionApprox = FunctionApprox[Tuple[NonTerminal[S], A]]\n",
    "\n",
    "def greedy_policy_from_qvf(\n",
    "    q: QValueFunctionApprox[S, A],\n",
    "    actions: Callable[[NonTerminal[S]], Iterable[A]]\n",
    ") -> DeterministicPolicy[S, A]:\n",
    "    '''Return the policy that takes the optimal action at each state based\n",
    "    on the given approximation of the process's Q function.\n",
    "\n",
    "    '''\n",
    "    def optimal_action(s: S) -> A:\n",
    "        _, a = q.argmax((NonTerminal(s), a) for a in actions(NonTerminal(s)))\n",
    "        return a\n",
    "    return DeterministicPolicy(optimal_action)"
   ],
   "outputs": [],
   "execution_count": 5
  },
  {
   "cell_type": "code",
   "id": "ed351c50-025b-4aac-b43d-79b3d5fc357c",
   "metadata": {
    "ExecuteTime": {
     "end_time": "2024-08-09T11:14:13.475112Z",
     "start_time": "2024-08-09T11:14:13.458957Z"
    }
   },
   "source": [
    "# from src.function_approx import LinearFunctionApprox, Weights\n",
    "\n",
    "class AdamGradient:\n",
    "    pass\n",
    "\n",
    "class Weights:\n",
    "    pass\n",
    "\n",
    "class LinearFunctionApprox(FunctionApprox[X]):\n",
    "    pass\n",
    "\n",
    "@dataclass(frozen=True)\n",
    "class AdamGradient:\n",
    "    learning_rate: float\n",
    "    decay1: float\n",
    "    decay2: float\n",
    "\n",
    "    @staticmethod\n",
    "    def default_settings() -> AdamGradient:\n",
    "        return AdamGradient(\n",
    "            learning_rate=0.001,\n",
    "            decay1=0.9,\n",
    "            decay2=0.999\n",
    "        )\n",
    "\n",
    "\n",
    "@dataclass(frozen=True)\n",
    "class Weights:\n",
    "    adam_gradient: AdamGradient\n",
    "    time: int\n",
    "    weights: np.ndarray\n",
    "    adam_cache1: np.ndarray\n",
    "    adam_cache2: np.ndarray\n",
    "\n",
    "    @staticmethod\n",
    "    def create(\n",
    "        weights: np.ndarray,\n",
    "        adam_gradient: AdamGradient = AdamGradient.default_settings(),\n",
    "        adam_cache1: Optional[np.ndarray] = None,\n",
    "        adam_cache2: Optional[np.ndarray] = None\n",
    "    ) -> Weights:\n",
    "        return Weights(\n",
    "            adam_gradient=adam_gradient,\n",
    "            time=0,\n",
    "            weights=weights,\n",
    "            adam_cache1=np.zeros_like(\n",
    "                weights\n",
    "            ) if adam_cache1 is None else adam_cache1,\n",
    "            adam_cache2=np.zeros_like(\n",
    "                weights\n",
    "            ) if adam_cache2 is None else adam_cache2\n",
    "        )\n",
    "\n",
    "    def update(self, gradient: np.ndarray) -> Weights:\n",
    "        time: int = self.time + 1\n",
    "        new_adam_cache1: np.ndarray = self.adam_gradient.decay1 * \\\n",
    "            self.adam_cache1 + (1 - self.adam_gradient.decay1) * gradient\n",
    "        new_adam_cache2: np.ndarray = self.adam_gradient.decay2 * \\\n",
    "            self.adam_cache2 + (1 - self.adam_gradient.decay2) * gradient ** 2\n",
    "        corrected_m: np.ndarray = new_adam_cache1 / \\\n",
    "            (1 - self.adam_gradient.decay1 ** time)\n",
    "        corrected_v: np.ndarray = new_adam_cache2 / \\\n",
    "            (1 - self.adam_gradient.decay2 ** time)\n",
    "\n",
    "        new_weights: np.ndarray = self.weights - \\\n",
    "            self.adam_gradient.learning_rate * corrected_m / \\\n",
    "            (np.sqrt(corrected_v) + SMALL_NUM)\n",
    "\n",
    "        return replace(\n",
    "            self,\n",
    "            time=time,\n",
    "            weights=new_weights,\n",
    "            adam_cache1=new_adam_cache1,\n",
    "            adam_cache2=new_adam_cache2,\n",
    "        )\n",
    "\n",
    "    def within(self, other: Weights, tolerance: float) -> bool:\n",
    "        return np.all(np.abs(self.weights - other.weights) <= tolerance).item()\n",
    "\n",
    "\n",
    "@dataclass(frozen=True)\n",
    "class LinearFunctionApprox(FunctionApprox[X]):\n",
    "\n",
    "    feature_functions: Sequence[Callable[[X], float]]\n",
    "    regularization_coeff: float\n",
    "    weights: Weights\n",
    "    direct_solve: bool\n",
    "\n",
    "    @staticmethod\n",
    "    def create(\n",
    "        feature_functions: Sequence[Callable[[X], float]],\n",
    "        adam_gradient: AdamGradient = AdamGradient.default_settings(),\n",
    "        regularization_coeff: float = 0.,\n",
    "        weights: Optional[Weights] = None,\n",
    "        direct_solve: bool = True\n",
    "    ) -> LinearFunctionApprox[X]:\n",
    "        return LinearFunctionApprox(\n",
    "            feature_functions=feature_functions,\n",
    "            regularization_coeff=regularization_coeff,\n",
    "            weights=Weights.create(\n",
    "                adam_gradient=adam_gradient,\n",
    "                weights=np.zeros(len(feature_functions))\n",
    "            ) if weights is None else weights,\n",
    "            direct_solve=direct_solve\n",
    "        )\n",
    "\n",
    "    def get_feature_values(self, x_values_seq: Iterable[X]) -> np.ndarray:\n",
    "        return np.array(\n",
    "            [[f(x) for f in self.feature_functions] for x in x_values_seq]\n",
    "        )\n",
    "\n",
    "    def objective_gradient(\n",
    "        self,\n",
    "        xy_vals_seq: Iterable[Tuple[X, float]],\n",
    "        obj_deriv_out_fun: Callable[[Sequence[X], Sequence[float]], float]\n",
    "    ) -> Gradient[LinearFunctionApprox[X]]:\n",
    "        x_vals, y_vals = zip(*xy_vals_seq)\n",
    "        obj_deriv_out: np.ndarray = obj_deriv_out_fun(x_vals, y_vals)\n",
    "        features: np.ndarray = self.get_feature_values(x_vals)\n",
    "        gradient: np.ndarray = \\\n",
    "            features.T.dot(obj_deriv_out) / len(obj_deriv_out) \\\n",
    "            + self.regularization_coeff * self.weights.weights\n",
    "        return Gradient(replace(\n",
    "            self,\n",
    "            weights=replace(\n",
    "                self.weights,\n",
    "                weights=gradient\n",
    "            )\n",
    "        ))\n",
    "\n",
    "    def __add__(self, other: LinearFunctionApprox[X]) -> \\\n",
    "            LinearFunctionApprox[X]:\n",
    "        return replace(\n",
    "            self,\n",
    "            weights=replace(\n",
    "                self.weights,\n",
    "                weights=self.weights.weights + other.weights.weights\n",
    "            )\n",
    "        )\n",
    "\n",
    "    def __mul__(self, scalar: float) -> LinearFunctionApprox[X]:\n",
    "        return replace(\n",
    "            self,\n",
    "            weights=replace(\n",
    "                self.weights,\n",
    "                weights=self.weights.weights * scalar\n",
    "            )\n",
    "        )\n",
    "\n",
    "    def evaluate(self, x_values_seq: Iterable[X]) -> np.ndarray:\n",
    "        return np.dot(\n",
    "            self.get_feature_values(x_values_seq),\n",
    "            self.weights.weights\n",
    "        )\n",
    "\n",
    "    def update_with_gradient(\n",
    "        self,\n",
    "        gradient: Gradient[LinearFunctionApprox[X]]\n",
    "    ) -> LinearFunctionApprox[X]:\n",
    "        return replace(\n",
    "            self,\n",
    "            weights=self.weights.update(\n",
    "                gradient.function_approx.weights.weights\n",
    "            )\n",
    "        )\n",
    "\n",
    "    def solve(\n",
    "        self,\n",
    "        xy_vals_seq: Iterable[Tuple[X, float]],\n",
    "        error_tolerance: Optional[float] = None\n",
    "    ) -> LinearFunctionApprox[X]:\n",
    "        if self.direct_solve:\n",
    "            x_vals, y_vals = zip(*xy_vals_seq)\n",
    "            feature_vals: np.ndarray = self.get_feature_values(x_vals)\n",
    "            feature_vals_T: np.ndarray = feature_vals.T\n",
    "            left: np.ndarray = np.dot(feature_vals_T, feature_vals) \\\n",
    "                + feature_vals.shape[0] * self.regularization_coeff * \\\n",
    "                np.eye(len(self.weights.weights))\n",
    "            right: np.ndarray = np.dot(feature_vals_T, y_vals)\n",
    "            ret = replace(\n",
    "                self,\n",
    "                weights=Weights.create(\n",
    "                    adam_gradient=self.weights.adam_gradient,\n",
    "                    weights=np.linalg.solve(left, right)\n",
    "                )\n",
    "            )\n",
    "        else:\n",
    "            tol: float = 1e-6 if error_tolerance is None else error_tolerance\n",
    "\n",
    "            def done(\n",
    "                a: LinearFunctionApprox[X],\n",
    "                b: LinearFunctionApprox[X],\n",
    "                tol: float = tol\n",
    "            ) -> bool:\n",
    "                return a.within(b, tol)\n",
    "\n",
    "            ret = iterate.converged(\n",
    "                self.iterate_updates(itertools.repeat(list(xy_vals_seq))),\n",
    "                done=done\n",
    "            )\n",
    "\n",
    "        return ret\n",
    "\n",
    "    def within(self, other: FunctionApprox[X], tolerance: float) -> bool:\n",
    "        if isinstance(other, LinearFunctionApprox):\n",
    "            return self.weights.within(other.weights, tolerance)\n",
    "\n",
    "        return False"
   ],
   "outputs": [],
   "execution_count": 6
  },
  {
   "cell_type": "code",
   "id": "69605c2ac66aec0c",
   "metadata": {
    "ExecuteTime": {
     "end_time": "2024-08-09T11:14:13.926111Z",
     "start_time": "2024-08-09T11:14:13.920112Z"
    }
   },
   "source": [
    "#LSPI\n",
    "\n",
    "def least_squares_tdq(\n",
    "    transitions: Iterable[Tuple[S, A, float, S, int]],\n",
    "    feature_functions: Sequence[Callable[[Tuple[NonTerminal[S], A]], float]],\n",
    "    target_policy: DeterministicPolicy[S, A],\n",
    "    gamma: float,\n",
    "    epsilon: float\n",
    ") -> LinearFunctionApprox[Tuple[NonTerminal[S], A]]:\n",
    "    num_features: int = len(feature_functions)\n",
    "    a_inv: np.ndarray = np.eye(num_features) / epsilon\n",
    "    b_vec: np.ndarray = np.zeros(num_features)\n",
    "\n",
    "    for tr in transitions:\n",
    "        state, action, reward, next_state, _ = tr\n",
    "        phi1 = np.array([f((NonTerminal(state), action)) for f in feature_functions])\n",
    "\n",
    "        if next_state is not None:  # Check if next_state is terminal\n",
    "            phi2 = phi1 - gamma * np.array([f((NonTerminal(next_state), target_policy.action_for(NonTerminal(next_state))))\n",
    "                                        for f in feature_functions])\n",
    "        else:\n",
    "            phi2 = phi1\n",
    "\n",
    "        temp = a_inv.T.dot(phi2)\n",
    "        a_inv -= np.outer(a_inv.dot(phi1), temp) / (1 + phi1.dot(temp))\n",
    "        b_vec += phi1 * reward\n",
    "\n",
    "    opt_wts = a_inv.dot(b_vec)\n",
    "    return LinearFunctionApprox.create(\n",
    "        feature_functions=feature_functions,\n",
    "        weights=Weights.create(opt_wts)\n",
    "    )\n",
    "\n",
    "\n",
    "def least_squares_policy_iteration(\n",
    "    transitions: Iterable[TransitionStep[S, A]],\n",
    "    actions: Callable[[NonTerminal[S]], Iterable[A]],\n",
    "    feature_functions: Sequence[Callable[[Tuple[NonTerminal[S], A]], float]],\n",
    "    initial_target_policy: DeterministicPolicy[S, A],\n",
    "    gamma: float,\n",
    "    epsilon: float\n",
    ") -> Iterator[LinearFunctionApprox[Tuple[NonTerminal[S], A]]]:\n",
    "    '''transitions is a finite iterable'''\n",
    "    target_policy: DeterministicPolicy[S, A] = initial_target_policy\n",
    "    transitions_seq: Sequence[TransitionStep[S, A]] = list(transitions)\n",
    "    while True:\n",
    "        q: LinearFunctionApprox[Tuple[NonTerminal[S], A]] = \\\n",
    "            least_squares_tdq(\n",
    "                transitions=transitions_seq,\n",
    "                feature_functions=feature_functions,\n",
    "                target_policy=target_policy,\n",
    "                gamma=gamma,\n",
    "                epsilon=epsilon,\n",
    "            )\n",
    "        target_policy = greedy_policy_from_qvf(q, actions)\n",
    "        yield q"
   ],
   "outputs": [],
   "execution_count": 7
  },
  {
   "cell_type": "code",
   "id": "adcf104f-7bbe-4c94-9fc0-54edf87ea875",
   "metadata": {
    "ExecuteTime": {
     "end_time": "2024-08-09T11:14:14.146112Z",
     "start_time": "2024-08-09T11:14:14.138112Z"
    }
   },
   "source": [
    "from src.samplers import GeometricBrownianMotionPutSampler"
   ],
   "outputs": [],
   "execution_count": 8
  },
  {
   "cell_type": "code",
   "id": "5a841d7a-7ede-421e-a768-37bed4c18c37",
   "metadata": {
    "ExecuteTime": {
     "end_time": "2024-08-09T11:14:14.517163Z",
     "start_time": "2024-08-09T11:14:14.514112Z"
    }
   },
   "source": [
    "# pip install --upgrade  jupyterlab-plotly"
   ],
   "outputs": [],
   "execution_count": 9
  },
  {
   "cell_type": "markdown",
   "id": "bd7c21a6-307d-4d12-9073-7830288663cc",
   "metadata": {},
   "source": [
    "### Упрощенная реализация"
   ]
  },
  {
   "cell_type": "code",
   "id": "e12aa912-a9ce-4857-b83b-9bcd14b2e698",
   "metadata": {
    "scrolled": true,
    "ExecuteTime": {
     "end_time": "2024-08-09T11:14:15.408705Z",
     "start_time": "2024-08-09T11:14:14.518160Z"
    }
   },
   "source": [
    "import numpy as np\n",
    "from sklearn.base import BaseEstimator, TransformerMixin\n",
    "\n",
    "class LaguerrePolynomialFeatures(BaseEstimator, TransformerMixin):\n",
    "    def __init__(self, strike):\n",
    "        self.strike = strike\n",
    "\n",
    "    def fit(self, X, y=None):\n",
    "        return self\n",
    "\n",
    "    def transform(self, X):\n",
    "        X = np.array(X, ndmin=2)\n",
    "        S_prime = X / self.strike\n",
    "        features = np.zeros((S_prime.shape[0], 4))\n",
    "        features[:, 0] = 1  # phi_0\n",
    "        features[:, 1] = np.exp(-S_prime / 2).squeeze()  # phi_1\n",
    "        features[:, 2] = (np.exp(-S_prime / 2) * (1 - S_prime)).squeeze()  # phi_2\n",
    "        features[:, 3] = (np.exp(-S_prime / 2) * (1 - 2 * S_prime + S_prime**2 / 2)).squeeze()  # phi_3\n",
    "        return features\n",
    "\n",
    "\n",
    "class TimeFeatures(BaseEstimator, TransformerMixin):\n",
    "    def __init__(self, maturity):\n",
    "        self.maturity = maturity\n",
    "\n",
    "    def fit(self, X, y=None):\n",
    "        return self\n",
    "\n",
    "    def transform(self, X):\n",
    "        X = np.array(X, ndmin=2)  # Ensure X is at least 2D\n",
    "        time_to_maturity = self.maturity - X\n",
    "        features = np.zeros((X.shape[0], 3))\n",
    "        features[:, 0] = np.sin(np.pi * time_to_maturity / (2 * self.maturity)).flatten()  # phi_0^t\n",
    "        features[:, 1] = np.log(time_to_maturity + 1e-10).flatten()  # phi_1^t\n",
    "        features[:, 2] = (X / self.maturity).flatten()**2  # phi_2^t\n",
    "        return features\n",
    "\n",
    "class LSPI_AmericanOptions:\n",
    "    def __init__(self, sampler, strike, maturity, rf_rate, sigma, seed):\n",
    "        self.sampler = sampler\n",
    "        self.strike = strike\n",
    "        self.maturity = maturity\n",
    "        self.rf_rate = rf_rate\n",
    "        self.sigma = sigma\n",
    "        self.seed = seed\n",
    "        self.price_feature_transformer = LaguerrePolynomialFeatures(strike)\n",
    "        self.time_feature_transformer = TimeFeatures(maturity)\n",
    "        \n",
    "        if sampler.time_grid is not None:\n",
    "            self.dt = np.diff(sampler.time_grid).mean()\n",
    "        else:\n",
    "            self.dt = self.maturity / (sampler.cnt_times - 1)\n",
    "\n",
    "    def get_features(self, prices, times):\n",
    "        price_features = self.price_feature_transformer.transform(prices)\n",
    "        time_features = self.time_feature_transformer.transform(times)\n",
    "        return np.concatenate([price_features, time_features], axis=1)\n",
    "\n",
    "    def lstd(self, features, rewards, gamma=0.95, lambda_reg=0.01):\n",
    "        A = np.zeros((features.shape[1], features.shape[1]))\n",
    "        b = np.zeros(features.shape[1])\n",
    "        for i in range(len(rewards) - 1):\n",
    "            phi_t = features[i]\n",
    "            phi_t_next = features[i + 1]\n",
    "            A += np.outer(phi_t, phi_t - gamma * phi_t_next)\n",
    "            b += rewards[i] * phi_t\n",
    "        A += lambda_reg * np.eye(A.shape[0])\n",
    "        weights = np.linalg.solve(A, b)\n",
    "        return weights\n",
    "\n",
    "    def policy_improvement(self, features, weights):\n",
    "        Q_values = np.dot(features, weights)\n",
    "        if Q_values.ndim > 1:\n",
    "            policy = np.argmax(Q_values, axis=1)\n",
    "        else:\n",
    "            policy = np.argmax(Q_values)\n",
    "        return policy\n",
    "\n",
    "    def run_lspi(self, initial_policy, max_iterations=10):\n",
    "        policy = initial_policy\n",
    "        for _ in range(max_iterations):\n",
    "            features, rewards = self.generate_samples(policy)\n",
    "            weights = self.lstd(features, rewards)\n",
    "            policy = self.policy_improvement(features, weights)\n",
    "        return policy, weights\n",
    "\n",
    "    def generate_samples(self, policy):\n",
    "        self.sampler.sample()\n",
    "        prices = self.sampler.markov_state[:, -1, 0].reshape(-1, 1)\n",
    "        times = np.full((prices.shape[0], 1), self.maturity)\n",
    "    \n",
    "        payoffs = np.maximum(self.strike - prices.flatten(), 0)\n",
    "        rewards = payoffs * np.exp(-self.rf_rate * self.maturity)\n",
    "    \n",
    "        features = self.get_features(prices, times)\n",
    "        return features, rewards\n",
    "\n",
    "    def estimate_option_price(self):\n",
    "        num_paths = self.sampler.cnt_trajectories\n",
    "        total_payoff = 0\n",
    "        estimated_price = []\n",
    "        \n",
    "        for _ in range(num_paths):\n",
    "            features, rewards = self.generate_samples(np.zeros(num_paths))  # initial_policy is all zeros\n",
    "            _, weights = self.run_lspi(np.zeros(num_paths))\n",
    "            policy = self.policy_improvement(features, weights)\n",
    "            \n",
    "            exercise_times = np.where(np.atleast_1d(policy) == 1)[0]\n",
    "            \n",
    "            if len(exercise_times) > 0:\n",
    "                first_exercise_time = exercise_times[0]\n",
    "                payoff = max(self.strike - self.sampler.markov_state[0, first_exercise_time, 0], 0)\n",
    "                discounted_payoff = np.exp(-self.rf_rate * first_exercise_time * self.dt) * payoff\n",
    "            else:\n",
    "                discounted_payoff = 0\n",
    "    \n",
    "            total_payoff += discounted_payoff\n",
    "        \n",
    "        estimated_price.append(total_payoff / num_paths)\n",
    "        plot_progress_(estimated_price)\n",
    "        return np.round(estimated_price[0], 2)\n",
    "\n",
    "    def plot_progress(self, price_history, lower_bound, upper_bound):\n",
    "        plt.figure(figsize=(10, 5))\n",
    "        plt.plot(price_history, label='Price')\n",
    "        plt.plot(lower_bound, label='Lower Bound')\n",
    "        plt.plot(upper_bound, label='Upper Bound')\n",
    "        plt.title('Option Price Progression')\n",
    "        plt.xlabel('Iterations')\n",
    "        plt.ylabel('Price')\n",
    "        plt.legend()\n",
    "        plt.grid(True)\n",
    "        plt.show()\n",
    "\n",
    "sampler = GeometricBrownianMotionPutSampler(\n",
    "    cnt_trajectories=50,\n",
    "    cnt_times=30,\n",
    "    t=1,\n",
    "    time_grid=None,\n",
    "    seed=345,\n",
    "    sigma=0.2,\n",
    "    asset0=100,\n",
    "    strike=100,\n",
    "    mu=0.05\n",
    ")\n",
    "\n",
    "model = LSPI_AmericanOptions(sampler, 100, 1, 0.05, 0.2, seed=42)\n",
    "initial_policy = np.zeros(sampler.cnt_trajectories)  # Assuming a binary policy: 0 for continue, 1 for exercise\n",
    "policy, weights = model.run_lspi(initial_policy)\n",
    "print(\"Final Policy:\", policy)\n",
    "\n"
   ],
   "outputs": [
    {
     "data": {
      "text/plain": [
       "  0%|          | 0/29 [00:00<?, ?it/s]"
      ],
      "application/vnd.jupyter.widget-view+json": {
       "version_major": 2,
       "version_minor": 0,
       "model_id": "669ddb7af1fc4304bc45ad395d118d97"
      }
     },
     "metadata": {},
     "output_type": "display_data"
    },
    {
     "data": {
      "text/plain": [
       "  0%|          | 0/29 [00:00<?, ?it/s]"
      ],
      "application/vnd.jupyter.widget-view+json": {
       "version_major": 2,
       "version_minor": 0,
       "model_id": "8a720261a6004159a7e640f0bafbfc25"
      }
     },
     "metadata": {},
     "output_type": "display_data"
    },
    {
     "data": {
      "text/plain": [
       "  0%|          | 0/29 [00:00<?, ?it/s]"
      ],
      "application/vnd.jupyter.widget-view+json": {
       "version_major": 2,
       "version_minor": 0,
       "model_id": "9f7bcef076b342b2bb88dfe074c4b20b"
      }
     },
     "metadata": {},
     "output_type": "display_data"
    },
    {
     "data": {
      "text/plain": [
       "  0%|          | 0/29 [00:00<?, ?it/s]"
      ],
      "application/vnd.jupyter.widget-view+json": {
       "version_major": 2,
       "version_minor": 0,
       "model_id": "30e25cb0a42a4c1086afb2b48acbcc0f"
      }
     },
     "metadata": {},
     "output_type": "display_data"
    },
    {
     "data": {
      "text/plain": [
       "  0%|          | 0/29 [00:00<?, ?it/s]"
      ],
      "application/vnd.jupyter.widget-view+json": {
       "version_major": 2,
       "version_minor": 0,
       "model_id": "6f95bcd3cbd04a1cabbe8dd462314dfc"
      }
     },
     "metadata": {},
     "output_type": "display_data"
    },
    {
     "data": {
      "text/plain": [
       "  0%|          | 0/29 [00:00<?, ?it/s]"
      ],
      "application/vnd.jupyter.widget-view+json": {
       "version_major": 2,
       "version_minor": 0,
       "model_id": "3d1b87c2f1b34d659c179362a74bb7a9"
      }
     },
     "metadata": {},
     "output_type": "display_data"
    },
    {
     "data": {
      "text/plain": [
       "  0%|          | 0/29 [00:00<?, ?it/s]"
      ],
      "application/vnd.jupyter.widget-view+json": {
       "version_major": 2,
       "version_minor": 0,
       "model_id": "a093905c13d44bf2979005bf0372f16f"
      }
     },
     "metadata": {},
     "output_type": "display_data"
    },
    {
     "data": {
      "text/plain": [
       "  0%|          | 0/29 [00:00<?, ?it/s]"
      ],
      "application/vnd.jupyter.widget-view+json": {
       "version_major": 2,
       "version_minor": 0,
       "model_id": "b8ba78888d1248589ce8bfc17f827237"
      }
     },
     "metadata": {},
     "output_type": "display_data"
    },
    {
     "data": {
      "text/plain": [
       "  0%|          | 0/29 [00:00<?, ?it/s]"
      ],
      "application/vnd.jupyter.widget-view+json": {
       "version_major": 2,
       "version_minor": 0,
       "model_id": "1541d2b8bdab4159873c615a34e4c6cc"
      }
     },
     "metadata": {},
     "output_type": "display_data"
    },
    {
     "data": {
      "text/plain": [
       "  0%|          | 0/29 [00:00<?, ?it/s]"
      ],
      "application/vnd.jupyter.widget-view+json": {
       "version_major": 2,
       "version_minor": 0,
       "model_id": "d649fec893184dde894e24842d1950d8"
      }
     },
     "metadata": {},
     "output_type": "display_data"
    },
    {
     "name": "stdout",
     "output_type": "stream",
     "text": [
      "Final Policy: 25\n"
     ]
    }
   ],
   "execution_count": 10
  },
  {
   "cell_type": "code",
   "id": "c5a6e240-e086-473d-a0b2-32e57ed5c03f",
   "metadata": {
    "ExecuteTime": {
     "end_time": "2024-08-09T11:14:18.091218Z",
     "start_time": "2024-08-09T11:14:15.409705Z"
    }
   },
   "source": [
    "option_price = model.estimate_option_price()\n",
    "print(\"Estimated Option Price:\", option_price)"
   ],
   "outputs": [
    {
     "data": {
      "text/plain": [
       "  0%|          | 0/29 [00:00<?, ?it/s]"
      ],
      "application/vnd.jupyter.widget-view+json": {
       "version_major": 2,
       "version_minor": 0,
       "model_id": "53dc9de094394bd2873df4539101630d"
      }
     },
     "metadata": {},
     "output_type": "display_data"
    },
    {
     "data": {
      "text/plain": [
       "  0%|          | 0/29 [00:00<?, ?it/s]"
      ],
      "application/vnd.jupyter.widget-view+json": {
       "version_major": 2,
       "version_minor": 0,
       "model_id": "d3068956127f432b823f8fe17810c601"
      }
     },
     "metadata": {},
     "output_type": "display_data"
    },
    {
     "data": {
      "text/plain": [
       "  0%|          | 0/29 [00:00<?, ?it/s]"
      ],
      "application/vnd.jupyter.widget-view+json": {
       "version_major": 2,
       "version_minor": 0,
       "model_id": "86ecf0458f8149b0a8a4cc32de1d9c5f"
      }
     },
     "metadata": {},
     "output_type": "display_data"
    },
    {
     "data": {
      "text/plain": [
       "  0%|          | 0/29 [00:00<?, ?it/s]"
      ],
      "application/vnd.jupyter.widget-view+json": {
       "version_major": 2,
       "version_minor": 0,
       "model_id": "a4dc10213e8949b38c123cd034184322"
      }
     },
     "metadata": {},
     "output_type": "display_data"
    },
    {
     "data": {
      "text/plain": [
       "  0%|          | 0/29 [00:00<?, ?it/s]"
      ],
      "application/vnd.jupyter.widget-view+json": {
       "version_major": 2,
       "version_minor": 0,
       "model_id": "d8b68a7eada44e938e5a69b10957cc72"
      }
     },
     "metadata": {},
     "output_type": "display_data"
    },
    {
     "data": {
      "text/plain": [
       "  0%|          | 0/29 [00:00<?, ?it/s]"
      ],
      "application/vnd.jupyter.widget-view+json": {
       "version_major": 2,
       "version_minor": 0,
       "model_id": "8dcaec482010468c990f02d7fc0ac814"
      }
     },
     "metadata": {},
     "output_type": "display_data"
    },
    {
     "data": {
      "text/plain": [
       "  0%|          | 0/29 [00:00<?, ?it/s]"
      ],
      "application/vnd.jupyter.widget-view+json": {
       "version_major": 2,
       "version_minor": 0,
       "model_id": "576308bdc74a4bc6968d92862b823422"
      }
     },
     "metadata": {},
     "output_type": "display_data"
    },
    {
     "data": {
      "text/plain": [
       "  0%|          | 0/29 [00:00<?, ?it/s]"
      ],
      "application/vnd.jupyter.widget-view+json": {
       "version_major": 2,
       "version_minor": 0,
       "model_id": "885d317f3fc4405a95dd898b8f647af3"
      }
     },
     "metadata": {},
     "output_type": "display_data"
    },
    {
     "data": {
      "text/plain": [
       "  0%|          | 0/29 [00:00<?, ?it/s]"
      ],
      "application/vnd.jupyter.widget-view+json": {
       "version_major": 2,
       "version_minor": 0,
       "model_id": "b4609386a7bd42b69d6a9d5a3ee5c7bc"
      }
     },
     "metadata": {},
     "output_type": "display_data"
    },
    {
     "data": {
      "text/plain": [
       "  0%|          | 0/29 [00:00<?, ?it/s]"
      ],
      "application/vnd.jupyter.widget-view+json": {
       "version_major": 2,
       "version_minor": 0,
       "model_id": "48faf2c67bea49fb9e60434a84e56905"
      }
     },
     "metadata": {},
     "output_type": "display_data"
    },
    {
     "data": {
      "text/plain": [
       "  0%|          | 0/29 [00:00<?, ?it/s]"
      ],
      "application/vnd.jupyter.widget-view+json": {
       "version_major": 2,
       "version_minor": 0,
       "model_id": "47cf9b84821f4e878586a3b756beaf5f"
      }
     },
     "metadata": {},
     "output_type": "display_data"
    },
    {
     "data": {
      "text/plain": [
       "  0%|          | 0/29 [00:00<?, ?it/s]"
      ],
      "application/vnd.jupyter.widget-view+json": {
       "version_major": 2,
       "version_minor": 0,
       "model_id": "63c0c4121d3849bcbb5fba35376e70b9"
      }
     },
     "metadata": {},
     "output_type": "display_data"
    },
    {
     "data": {
      "text/plain": [
       "  0%|          | 0/29 [00:00<?, ?it/s]"
      ],
      "application/vnd.jupyter.widget-view+json": {
       "version_major": 2,
       "version_minor": 0,
       "model_id": "7d0f40e4c1464323b611c36d4ae61743"
      }
     },
     "metadata": {},
     "output_type": "display_data"
    },
    {
     "data": {
      "text/plain": [
       "  0%|          | 0/29 [00:00<?, ?it/s]"
      ],
      "application/vnd.jupyter.widget-view+json": {
       "version_major": 2,
       "version_minor": 0,
       "model_id": "eb3a127110e94fb892146d500c5f819f"
      }
     },
     "metadata": {},
     "output_type": "display_data"
    },
    {
     "data": {
      "text/plain": [
       "  0%|          | 0/29 [00:00<?, ?it/s]"
      ],
      "application/vnd.jupyter.widget-view+json": {
       "version_major": 2,
       "version_minor": 0,
       "model_id": "816729f8d02a4f6a8148294c350bef55"
      }
     },
     "metadata": {},
     "output_type": "display_data"
    },
    {
     "data": {
      "text/plain": [
       "  0%|          | 0/29 [00:00<?, ?it/s]"
      ],
      "application/vnd.jupyter.widget-view+json": {
       "version_major": 2,
       "version_minor": 0,
       "model_id": "cdae6578b8bb41359773dd23e4d0c4d2"
      }
     },
     "metadata": {},
     "output_type": "display_data"
    },
    {
     "data": {
      "text/plain": [
       "  0%|          | 0/29 [00:00<?, ?it/s]"
      ],
      "application/vnd.jupyter.widget-view+json": {
       "version_major": 2,
       "version_minor": 0,
       "model_id": "4722feeabe9149f4806560fb1493bd24"
      }
     },
     "metadata": {},
     "output_type": "display_data"
    },
    {
     "data": {
      "text/plain": [
       "  0%|          | 0/29 [00:00<?, ?it/s]"
      ],
      "application/vnd.jupyter.widget-view+json": {
       "version_major": 2,
       "version_minor": 0,
       "model_id": "b2188fc9f6b34db4b2289a027d8de8f5"
      }
     },
     "metadata": {},
     "output_type": "display_data"
    },
    {
     "data": {
      "text/plain": [
       "  0%|          | 0/29 [00:00<?, ?it/s]"
      ],
      "application/vnd.jupyter.widget-view+json": {
       "version_major": 2,
       "version_minor": 0,
       "model_id": "8ca30de11043494ea7a204adb2af8ecb"
      }
     },
     "metadata": {},
     "output_type": "display_data"
    },
    {
     "data": {
      "text/plain": [
       "  0%|          | 0/29 [00:00<?, ?it/s]"
      ],
      "application/vnd.jupyter.widget-view+json": {
       "version_major": 2,
       "version_minor": 0,
       "model_id": "4018f10c3dfd42248c3ef516b104e919"
      }
     },
     "metadata": {},
     "output_type": "display_data"
    },
    {
     "data": {
      "text/plain": [
       "  0%|          | 0/29 [00:00<?, ?it/s]"
      ],
      "application/vnd.jupyter.widget-view+json": {
       "version_major": 2,
       "version_minor": 0,
       "model_id": "beeaf6babc354e60af7fd92395c89110"
      }
     },
     "metadata": {},
     "output_type": "display_data"
    },
    {
     "data": {
      "text/plain": [
       "  0%|          | 0/29 [00:00<?, ?it/s]"
      ],
      "application/vnd.jupyter.widget-view+json": {
       "version_major": 2,
       "version_minor": 0,
       "model_id": "482e410831ad4ff99c13cec5fd908d72"
      }
     },
     "metadata": {},
     "output_type": "display_data"
    },
    {
     "data": {
      "text/plain": [
       "  0%|          | 0/29 [00:00<?, ?it/s]"
      ],
      "application/vnd.jupyter.widget-view+json": {
       "version_major": 2,
       "version_minor": 0,
       "model_id": "90f5d433386346aba3aa367b3337b9eb"
      }
     },
     "metadata": {},
     "output_type": "display_data"
    },
    {
     "data": {
      "text/plain": [
       "  0%|          | 0/29 [00:00<?, ?it/s]"
      ],
      "application/vnd.jupyter.widget-view+json": {
       "version_major": 2,
       "version_minor": 0,
       "model_id": "1b59f91edf9c41a7b929aa82f6543244"
      }
     },
     "metadata": {},
     "output_type": "display_data"
    },
    {
     "data": {
      "text/plain": [
       "  0%|          | 0/29 [00:00<?, ?it/s]"
      ],
      "application/vnd.jupyter.widget-view+json": {
       "version_major": 2,
       "version_minor": 0,
       "model_id": "e2fcbd8fed1b4f07aefcbac2c46821cc"
      }
     },
     "metadata": {},
     "output_type": "display_data"
    },
    {
     "data": {
      "text/plain": [
       "  0%|          | 0/29 [00:00<?, ?it/s]"
      ],
      "application/vnd.jupyter.widget-view+json": {
       "version_major": 2,
       "version_minor": 0,
       "model_id": "9b5f06b76ef741afa927bf701e79ac84"
      }
     },
     "metadata": {},
     "output_type": "display_data"
    },
    {
     "data": {
      "text/plain": [
       "  0%|          | 0/29 [00:00<?, ?it/s]"
      ],
      "application/vnd.jupyter.widget-view+json": {
       "version_major": 2,
       "version_minor": 0,
       "model_id": "92f7ced527a24b239108046dc537ee34"
      }
     },
     "metadata": {},
     "output_type": "display_data"
    },
    {
     "data": {
      "text/plain": [
       "  0%|          | 0/29 [00:00<?, ?it/s]"
      ],
      "application/vnd.jupyter.widget-view+json": {
       "version_major": 2,
       "version_minor": 0,
       "model_id": "049ab7da118b4504acf8aa691c0520e9"
      }
     },
     "metadata": {},
     "output_type": "display_data"
    },
    {
     "data": {
      "text/plain": [
       "  0%|          | 0/29 [00:00<?, ?it/s]"
      ],
      "application/vnd.jupyter.widget-view+json": {
       "version_major": 2,
       "version_minor": 0,
       "model_id": "3af2cee9b62d44d3be29bb59d5189a10"
      }
     },
     "metadata": {},
     "output_type": "display_data"
    },
    {
     "data": {
      "text/plain": [
       "  0%|          | 0/29 [00:00<?, ?it/s]"
      ],
      "application/vnd.jupyter.widget-view+json": {
       "version_major": 2,
       "version_minor": 0,
       "model_id": "17a0cc91545842fbbdf702cfb85e7564"
      }
     },
     "metadata": {},
     "output_type": "display_data"
    },
    {
     "data": {
      "text/plain": [
       "  0%|          | 0/29 [00:00<?, ?it/s]"
      ],
      "application/vnd.jupyter.widget-view+json": {
       "version_major": 2,
       "version_minor": 0,
       "model_id": "f5c2f6d50ba640ff8645a7c0969d9791"
      }
     },
     "metadata": {},
     "output_type": "display_data"
    },
    {
     "data": {
      "text/plain": [
       "  0%|          | 0/29 [00:00<?, ?it/s]"
      ],
      "application/vnd.jupyter.widget-view+json": {
       "version_major": 2,
       "version_minor": 0,
       "model_id": "8342a941cb444643834be99e56356db8"
      }
     },
     "metadata": {},
     "output_type": "display_data"
    },
    {
     "data": {
      "text/plain": [
       "  0%|          | 0/29 [00:00<?, ?it/s]"
      ],
      "application/vnd.jupyter.widget-view+json": {
       "version_major": 2,
       "version_minor": 0,
       "model_id": "ef0f2ee283354ebfbdfe289107d65a8f"
      }
     },
     "metadata": {},
     "output_type": "display_data"
    },
    {
     "data": {
      "text/plain": [
       "  0%|          | 0/29 [00:00<?, ?it/s]"
      ],
      "application/vnd.jupyter.widget-view+json": {
       "version_major": 2,
       "version_minor": 0,
       "model_id": "aeb72121d60341b0874c64291f35515a"
      }
     },
     "metadata": {},
     "output_type": "display_data"
    },
    {
     "data": {
      "text/plain": [
       "  0%|          | 0/29 [00:00<?, ?it/s]"
      ],
      "application/vnd.jupyter.widget-view+json": {
       "version_major": 2,
       "version_minor": 0,
       "model_id": "649690b2faf942ca93157eb97f25d095"
      }
     },
     "metadata": {},
     "output_type": "display_data"
    },
    {
     "data": {
      "text/plain": [
       "  0%|          | 0/29 [00:00<?, ?it/s]"
      ],
      "application/vnd.jupyter.widget-view+json": {
       "version_major": 2,
       "version_minor": 0,
       "model_id": "801bb6dd050c481f97a1faf238c9e829"
      }
     },
     "metadata": {},
     "output_type": "display_data"
    },
    {
     "data": {
      "text/plain": [
       "  0%|          | 0/29 [00:00<?, ?it/s]"
      ],
      "application/vnd.jupyter.widget-view+json": {
       "version_major": 2,
       "version_minor": 0,
       "model_id": "ef8b06c865074cec8701226c5d9733a6"
      }
     },
     "metadata": {},
     "output_type": "display_data"
    },
    {
     "data": {
      "text/plain": [
       "  0%|          | 0/29 [00:00<?, ?it/s]"
      ],
      "application/vnd.jupyter.widget-view+json": {
       "version_major": 2,
       "version_minor": 0,
       "model_id": "90073a96c80c4fd0b6ee50bed1660879"
      }
     },
     "metadata": {},
     "output_type": "display_data"
    },
    {
     "data": {
      "text/plain": [
       "  0%|          | 0/29 [00:00<?, ?it/s]"
      ],
      "application/vnd.jupyter.widget-view+json": {
       "version_major": 2,
       "version_minor": 0,
       "model_id": "5c9e8b8505214ccaaa464b48fee82fb1"
      }
     },
     "metadata": {},
     "output_type": "display_data"
    },
    {
     "data": {
      "text/plain": [
       "  0%|          | 0/29 [00:00<?, ?it/s]"
      ],
      "application/vnd.jupyter.widget-view+json": {
       "version_major": 2,
       "version_minor": 0,
       "model_id": "99f3d40a11b349b5bb4621cf7584a5e4"
      }
     },
     "metadata": {},
     "output_type": "display_data"
    },
    {
     "data": {
      "text/plain": [
       "  0%|          | 0/29 [00:00<?, ?it/s]"
      ],
      "application/vnd.jupyter.widget-view+json": {
       "version_major": 2,
       "version_minor": 0,
       "model_id": "f910b5f3266d4b899d0557b570d545d8"
      }
     },
     "metadata": {},
     "output_type": "display_data"
    },
    {
     "data": {
      "text/plain": [
       "  0%|          | 0/29 [00:00<?, ?it/s]"
      ],
      "application/vnd.jupyter.widget-view+json": {
       "version_major": 2,
       "version_minor": 0,
       "model_id": "620cdc30848044d3addfb704e9c86a12"
      }
     },
     "metadata": {},
     "output_type": "display_data"
    },
    {
     "data": {
      "text/plain": [
       "  0%|          | 0/29 [00:00<?, ?it/s]"
      ],
      "application/vnd.jupyter.widget-view+json": {
       "version_major": 2,
       "version_minor": 0,
       "model_id": "7596d9255cd044c2907beff616c88464"
      }
     },
     "metadata": {},
     "output_type": "display_data"
    },
    {
     "data": {
      "text/plain": [
       "  0%|          | 0/29 [00:00<?, ?it/s]"
      ],
      "application/vnd.jupyter.widget-view+json": {
       "version_major": 2,
       "version_minor": 0,
       "model_id": "87156991021e4bab826c28d3852ec415"
      }
     },
     "metadata": {},
     "output_type": "display_data"
    },
    {
     "data": {
      "text/plain": [
       "  0%|          | 0/29 [00:00<?, ?it/s]"
      ],
      "application/vnd.jupyter.widget-view+json": {
       "version_major": 2,
       "version_minor": 0,
       "model_id": "81226e6f04b54fa4a489f5d4025710c3"
      }
     },
     "metadata": {},
     "output_type": "display_data"
    },
    {
     "data": {
      "text/plain": [
       "  0%|          | 0/29 [00:00<?, ?it/s]"
      ],
      "application/vnd.jupyter.widget-view+json": {
       "version_major": 2,
       "version_minor": 0,
       "model_id": "047585e7f380480c81db4343aec01413"
      }
     },
     "metadata": {},
     "output_type": "display_data"
    },
    {
     "data": {
      "text/plain": [
       "  0%|          | 0/29 [00:00<?, ?it/s]"
      ],
      "application/vnd.jupyter.widget-view+json": {
       "version_major": 2,
       "version_minor": 0,
       "model_id": "de262b23968a435fae954c70f587884c"
      }
     },
     "metadata": {},
     "output_type": "display_data"
    },
    {
     "data": {
      "text/plain": [
       "  0%|          | 0/29 [00:00<?, ?it/s]"
      ],
      "application/vnd.jupyter.widget-view+json": {
       "version_major": 2,
       "version_minor": 0,
       "model_id": "2ea4b91195714b7d84532b7e5342262a"
      }
     },
     "metadata": {},
     "output_type": "display_data"
    },
    {
     "data": {
      "text/plain": [
       "  0%|          | 0/29 [00:00<?, ?it/s]"
      ],
      "application/vnd.jupyter.widget-view+json": {
       "version_major": 2,
       "version_minor": 0,
       "model_id": "43e26a24108947d9b2d1c40d341d3a05"
      }
     },
     "metadata": {},
     "output_type": "display_data"
    },
    {
     "data": {
      "text/plain": [
       "  0%|          | 0/29 [00:00<?, ?it/s]"
      ],
      "application/vnd.jupyter.widget-view+json": {
       "version_major": 2,
       "version_minor": 0,
       "model_id": "da18f309e15d4e38bdb5c9cec566eb34"
      }
     },
     "metadata": {},
     "output_type": "display_data"
    },
    {
     "data": {
      "text/plain": [
       "  0%|          | 0/29 [00:00<?, ?it/s]"
      ],
      "application/vnd.jupyter.widget-view+json": {
       "version_major": 2,
       "version_minor": 0,
       "model_id": "ce9cfbe196644165b3398b49c5650d88"
      }
     },
     "metadata": {},
     "output_type": "display_data"
    },
    {
     "data": {
      "text/plain": [
       "  0%|          | 0/29 [00:00<?, ?it/s]"
      ],
      "application/vnd.jupyter.widget-view+json": {
       "version_major": 2,
       "version_minor": 0,
       "model_id": "7e7e9b38f607427299ecfd7bcf31a6ee"
      }
     },
     "metadata": {},
     "output_type": "display_data"
    },
    {
     "data": {
      "text/plain": [
       "  0%|          | 0/29 [00:00<?, ?it/s]"
      ],
      "application/vnd.jupyter.widget-view+json": {
       "version_major": 2,
       "version_minor": 0,
       "model_id": "7bb9dbd338d14885aeae420d2472ab75"
      }
     },
     "metadata": {},
     "output_type": "display_data"
    },
    {
     "data": {
      "text/plain": [
       "  0%|          | 0/29 [00:00<?, ?it/s]"
      ],
      "application/vnd.jupyter.widget-view+json": {
       "version_major": 2,
       "version_minor": 0,
       "model_id": "1cbcac537c054fb7890297c5a4bb5d44"
      }
     },
     "metadata": {},
     "output_type": "display_data"
    },
    {
     "data": {
      "text/plain": [
       "  0%|          | 0/29 [00:00<?, ?it/s]"
      ],
      "application/vnd.jupyter.widget-view+json": {
       "version_major": 2,
       "version_minor": 0,
       "model_id": "a2d959df92714fd0972ca1113b0f5284"
      }
     },
     "metadata": {},
     "output_type": "display_data"
    },
    {
     "data": {
      "text/plain": [
       "  0%|          | 0/29 [00:00<?, ?it/s]"
      ],
      "application/vnd.jupyter.widget-view+json": {
       "version_major": 2,
       "version_minor": 0,
       "model_id": "a35385f3931c4741864b61c2ae31d3ba"
      }
     },
     "metadata": {},
     "output_type": "display_data"
    },
    {
     "data": {
      "text/plain": [
       "  0%|          | 0/29 [00:00<?, ?it/s]"
      ],
      "application/vnd.jupyter.widget-view+json": {
       "version_major": 2,
       "version_minor": 0,
       "model_id": "1f4c5aa515734649983614188fe8a9f1"
      }
     },
     "metadata": {},
     "output_type": "display_data"
    },
    {
     "data": {
      "text/plain": [
       "  0%|          | 0/29 [00:00<?, ?it/s]"
      ],
      "application/vnd.jupyter.widget-view+json": {
       "version_major": 2,
       "version_minor": 0,
       "model_id": "4da5ec8b2a8349aea97bd39fed0ffdd1"
      }
     },
     "metadata": {},
     "output_type": "display_data"
    },
    {
     "data": {
      "text/plain": [
       "  0%|          | 0/29 [00:00<?, ?it/s]"
      ],
      "application/vnd.jupyter.widget-view+json": {
       "version_major": 2,
       "version_minor": 0,
       "model_id": "14f86dd3fea14180a156ef1ff6527fc9"
      }
     },
     "metadata": {},
     "output_type": "display_data"
    },
    {
     "data": {
      "text/plain": [
       "  0%|          | 0/29 [00:00<?, ?it/s]"
      ],
      "application/vnd.jupyter.widget-view+json": {
       "version_major": 2,
       "version_minor": 0,
       "model_id": "e66cde8c06494f528b8be338c2353f79"
      }
     },
     "metadata": {},
     "output_type": "display_data"
    },
    {
     "data": {
      "text/plain": [
       "  0%|          | 0/29 [00:00<?, ?it/s]"
      ],
      "application/vnd.jupyter.widget-view+json": {
       "version_major": 2,
       "version_minor": 0,
       "model_id": "f4501bd95639444e96488866aef7e7e2"
      }
     },
     "metadata": {},
     "output_type": "display_data"
    },
    {
     "data": {
      "text/plain": [
       "  0%|          | 0/29 [00:00<?, ?it/s]"
      ],
      "application/vnd.jupyter.widget-view+json": {
       "version_major": 2,
       "version_minor": 0,
       "model_id": "6e055800d052478a959c738f824ceb4d"
      }
     },
     "metadata": {},
     "output_type": "display_data"
    },
    {
     "data": {
      "text/plain": [
       "  0%|          | 0/29 [00:00<?, ?it/s]"
      ],
      "application/vnd.jupyter.widget-view+json": {
       "version_major": 2,
       "version_minor": 0,
       "model_id": "82889a0c20f540559ad898e553ced1a7"
      }
     },
     "metadata": {},
     "output_type": "display_data"
    },
    {
     "data": {
      "text/plain": [
       "  0%|          | 0/29 [00:00<?, ?it/s]"
      ],
      "application/vnd.jupyter.widget-view+json": {
       "version_major": 2,
       "version_minor": 0,
       "model_id": "6c0da50885474009a68c33ac5192ce3e"
      }
     },
     "metadata": {},
     "output_type": "display_data"
    },
    {
     "data": {
      "text/plain": [
       "  0%|          | 0/29 [00:00<?, ?it/s]"
      ],
      "application/vnd.jupyter.widget-view+json": {
       "version_major": 2,
       "version_minor": 0,
       "model_id": "c9e9f211d8b04496926f4bfdc691e07f"
      }
     },
     "metadata": {},
     "output_type": "display_data"
    },
    {
     "data": {
      "text/plain": [
       "  0%|          | 0/29 [00:00<?, ?it/s]"
      ],
      "application/vnd.jupyter.widget-view+json": {
       "version_major": 2,
       "version_minor": 0,
       "model_id": "19c7e3b304664d4f8b79e56bef081342"
      }
     },
     "metadata": {},
     "output_type": "display_data"
    },
    {
     "data": {
      "text/plain": [
       "  0%|          | 0/29 [00:00<?, ?it/s]"
      ],
      "application/vnd.jupyter.widget-view+json": {
       "version_major": 2,
       "version_minor": 0,
       "model_id": "c01ca6e1f5c04b7f9297a1c2b7d9092f"
      }
     },
     "metadata": {},
     "output_type": "display_data"
    },
    {
     "data": {
      "text/plain": [
       "  0%|          | 0/29 [00:00<?, ?it/s]"
      ],
      "application/vnd.jupyter.widget-view+json": {
       "version_major": 2,
       "version_minor": 0,
       "model_id": "fd847ae35d6c43f0bf856a380990eeb6"
      }
     },
     "metadata": {},
     "output_type": "display_data"
    },
    {
     "data": {
      "text/plain": [
       "  0%|          | 0/29 [00:00<?, ?it/s]"
      ],
      "application/vnd.jupyter.widget-view+json": {
       "version_major": 2,
       "version_minor": 0,
       "model_id": "969899da78e34e9f8401aaa267c55ed5"
      }
     },
     "metadata": {},
     "output_type": "display_data"
    },
    {
     "data": {
      "text/plain": [
       "  0%|          | 0/29 [00:00<?, ?it/s]"
      ],
      "application/vnd.jupyter.widget-view+json": {
       "version_major": 2,
       "version_minor": 0,
       "model_id": "ee731263ebc14e2cb4581ba8dcd97847"
      }
     },
     "metadata": {},
     "output_type": "display_data"
    },
    {
     "data": {
      "text/plain": [
       "  0%|          | 0/29 [00:00<?, ?it/s]"
      ],
      "application/vnd.jupyter.widget-view+json": {
       "version_major": 2,
       "version_minor": 0,
       "model_id": "dadd34ebd43344fcac784535f00d400c"
      }
     },
     "metadata": {},
     "output_type": "display_data"
    },
    {
     "data": {
      "text/plain": [
       "  0%|          | 0/29 [00:00<?, ?it/s]"
      ],
      "application/vnd.jupyter.widget-view+json": {
       "version_major": 2,
       "version_minor": 0,
       "model_id": "31a245d356b84e25a7b2ee0d30a849f1"
      }
     },
     "metadata": {},
     "output_type": "display_data"
    },
    {
     "data": {
      "text/plain": [
       "  0%|          | 0/29 [00:00<?, ?it/s]"
      ],
      "application/vnd.jupyter.widget-view+json": {
       "version_major": 2,
       "version_minor": 0,
       "model_id": "8894e4f063274255a61eb132aa3ff046"
      }
     },
     "metadata": {},
     "output_type": "display_data"
    },
    {
     "data": {
      "text/plain": [
       "  0%|          | 0/29 [00:00<?, ?it/s]"
      ],
      "application/vnd.jupyter.widget-view+json": {
       "version_major": 2,
       "version_minor": 0,
       "model_id": "9dcf008be3254e01ad0aac57330e978f"
      }
     },
     "metadata": {},
     "output_type": "display_data"
    },
    {
     "data": {
      "text/plain": [
       "  0%|          | 0/29 [00:00<?, ?it/s]"
      ],
      "application/vnd.jupyter.widget-view+json": {
       "version_major": 2,
       "version_minor": 0,
       "model_id": "2c673c9c3349426ca28667403f5cc8a7"
      }
     },
     "metadata": {},
     "output_type": "display_data"
    },
    {
     "data": {
      "text/plain": [
       "  0%|          | 0/29 [00:00<?, ?it/s]"
      ],
      "application/vnd.jupyter.widget-view+json": {
       "version_major": 2,
       "version_minor": 0,
       "model_id": "b0b85605813047b8a6e0d842b9a72257"
      }
     },
     "metadata": {},
     "output_type": "display_data"
    },
    {
     "data": {
      "text/plain": [
       "  0%|          | 0/29 [00:00<?, ?it/s]"
      ],
      "application/vnd.jupyter.widget-view+json": {
       "version_major": 2,
       "version_minor": 0,
       "model_id": "2bfcee8e482f43129bc5c08a821b7faa"
      }
     },
     "metadata": {},
     "output_type": "display_data"
    },
    {
     "data": {
      "text/plain": [
       "  0%|          | 0/29 [00:00<?, ?it/s]"
      ],
      "application/vnd.jupyter.widget-view+json": {
       "version_major": 2,
       "version_minor": 0,
       "model_id": "82170b0dcd984fa59b2094939e4bb153"
      }
     },
     "metadata": {},
     "output_type": "display_data"
    },
    {
     "data": {
      "text/plain": [
       "  0%|          | 0/29 [00:00<?, ?it/s]"
      ],
      "application/vnd.jupyter.widget-view+json": {
       "version_major": 2,
       "version_minor": 0,
       "model_id": "dcc9ecf13a48480281ce22ca9e9af48b"
      }
     },
     "metadata": {},
     "output_type": "display_data"
    },
    {
     "data": {
      "text/plain": [
       "  0%|          | 0/29 [00:00<?, ?it/s]"
      ],
      "application/vnd.jupyter.widget-view+json": {
       "version_major": 2,
       "version_minor": 0,
       "model_id": "adc0edecdce243aea869460ec2af2247"
      }
     },
     "metadata": {},
     "output_type": "display_data"
    },
    {
     "data": {
      "text/plain": [
       "  0%|          | 0/29 [00:00<?, ?it/s]"
      ],
      "application/vnd.jupyter.widget-view+json": {
       "version_major": 2,
       "version_minor": 0,
       "model_id": "cbf399b5f7354cd2acb4f1bae69e592a"
      }
     },
     "metadata": {},
     "output_type": "display_data"
    },
    {
     "data": {
      "text/plain": [
       "  0%|          | 0/29 [00:00<?, ?it/s]"
      ],
      "application/vnd.jupyter.widget-view+json": {
       "version_major": 2,
       "version_minor": 0,
       "model_id": "485270b2617b458f841813789ab4b5c1"
      }
     },
     "metadata": {},
     "output_type": "display_data"
    },
    {
     "data": {
      "text/plain": [
       "  0%|          | 0/29 [00:00<?, ?it/s]"
      ],
      "application/vnd.jupyter.widget-view+json": {
       "version_major": 2,
       "version_minor": 0,
       "model_id": "47b9a3827ce347bb91170e608e39a284"
      }
     },
     "metadata": {},
     "output_type": "display_data"
    },
    {
     "data": {
      "text/plain": [
       "  0%|          | 0/29 [00:00<?, ?it/s]"
      ],
      "application/vnd.jupyter.widget-view+json": {
       "version_major": 2,
       "version_minor": 0,
       "model_id": "47745138c29f46d1a8119233d2d85fc5"
      }
     },
     "metadata": {},
     "output_type": "display_data"
    },
    {
     "data": {
      "text/plain": [
       "  0%|          | 0/29 [00:00<?, ?it/s]"
      ],
      "application/vnd.jupyter.widget-view+json": {
       "version_major": 2,
       "version_minor": 0,
       "model_id": "7398390739e34f7c8d2c5d8324186cc6"
      }
     },
     "metadata": {},
     "output_type": "display_data"
    },
    {
     "data": {
      "text/plain": [
       "  0%|          | 0/29 [00:00<?, ?it/s]"
      ],
      "application/vnd.jupyter.widget-view+json": {
       "version_major": 2,
       "version_minor": 0,
       "model_id": "3daf9f5174e4479ebe0f5f379491f9b3"
      }
     },
     "metadata": {},
     "output_type": "display_data"
    },
    {
     "data": {
      "text/plain": [
       "  0%|          | 0/29 [00:00<?, ?it/s]"
      ],
      "application/vnd.jupyter.widget-view+json": {
       "version_major": 2,
       "version_minor": 0,
       "model_id": "4fbe1d49d2c242dc907745d67c3cf901"
      }
     },
     "metadata": {},
     "output_type": "display_data"
    },
    {
     "data": {
      "text/plain": [
       "  0%|          | 0/29 [00:00<?, ?it/s]"
      ],
      "application/vnd.jupyter.widget-view+json": {
       "version_major": 2,
       "version_minor": 0,
       "model_id": "4193457b18f943d5bfe09b47e8fa97aa"
      }
     },
     "metadata": {},
     "output_type": "display_data"
    },
    {
     "data": {
      "text/plain": [
       "  0%|          | 0/29 [00:00<?, ?it/s]"
      ],
      "application/vnd.jupyter.widget-view+json": {
       "version_major": 2,
       "version_minor": 0,
       "model_id": "690592bf2c9b46aa9ffe017352f472cb"
      }
     },
     "metadata": {},
     "output_type": "display_data"
    },
    {
     "data": {
      "text/plain": [
       "  0%|          | 0/29 [00:00<?, ?it/s]"
      ],
      "application/vnd.jupyter.widget-view+json": {
       "version_major": 2,
       "version_minor": 0,
       "model_id": "fc92a24e6c934d3785c20b899fc846db"
      }
     },
     "metadata": {},
     "output_type": "display_data"
    },
    {
     "data": {
      "text/plain": [
       "  0%|          | 0/29 [00:00<?, ?it/s]"
      ],
      "application/vnd.jupyter.widget-view+json": {
       "version_major": 2,
       "version_minor": 0,
       "model_id": "17c424760d1e49b28be314daae11c4ec"
      }
     },
     "metadata": {},
     "output_type": "display_data"
    },
    {
     "data": {
      "text/plain": [
       "  0%|          | 0/29 [00:00<?, ?it/s]"
      ],
      "application/vnd.jupyter.widget-view+json": {
       "version_major": 2,
       "version_minor": 0,
       "model_id": "c1741e3f931b4221aa8c1e87b844071a"
      }
     },
     "metadata": {},
     "output_type": "display_data"
    },
    {
     "data": {
      "text/plain": [
       "  0%|          | 0/29 [00:00<?, ?it/s]"
      ],
      "application/vnd.jupyter.widget-view+json": {
       "version_major": 2,
       "version_minor": 0,
       "model_id": "8fd588ebb0b94e1c997e0e860cf7068d"
      }
     },
     "metadata": {},
     "output_type": "display_data"
    },
    {
     "data": {
      "text/plain": [
       "  0%|          | 0/29 [00:00<?, ?it/s]"
      ],
      "application/vnd.jupyter.widget-view+json": {
       "version_major": 2,
       "version_minor": 0,
       "model_id": "ea3af5027ece4a1bb559ce5a59fdfde3"
      }
     },
     "metadata": {},
     "output_type": "display_data"
    },
    {
     "data": {
      "text/plain": [
       "  0%|          | 0/29 [00:00<?, ?it/s]"
      ],
      "application/vnd.jupyter.widget-view+json": {
       "version_major": 2,
       "version_minor": 0,
       "model_id": "6f8a9a676ce04a65bcd1931ad932c8a3"
      }
     },
     "metadata": {},
     "output_type": "display_data"
    },
    {
     "data": {
      "text/plain": [
       "  0%|          | 0/29 [00:00<?, ?it/s]"
      ],
      "application/vnd.jupyter.widget-view+json": {
       "version_major": 2,
       "version_minor": 0,
       "model_id": "49aba5eba07044bbaec7b6303104869a"
      }
     },
     "metadata": {},
     "output_type": "display_data"
    },
    {
     "data": {
      "text/plain": [
       "  0%|          | 0/29 [00:00<?, ?it/s]"
      ],
      "application/vnd.jupyter.widget-view+json": {
       "version_major": 2,
       "version_minor": 0,
       "model_id": "753309b9341e46e99c99a875d25ab82d"
      }
     },
     "metadata": {},
     "output_type": "display_data"
    },
    {
     "data": {
      "text/plain": [
       "  0%|          | 0/29 [00:00<?, ?it/s]"
      ],
      "application/vnd.jupyter.widget-view+json": {
       "version_major": 2,
       "version_minor": 0,
       "model_id": "8079fe77ff3b41b680b3c3ab10a20572"
      }
     },
     "metadata": {},
     "output_type": "display_data"
    },
    {
     "data": {
      "text/plain": [
       "  0%|          | 0/29 [00:00<?, ?it/s]"
      ],
      "application/vnd.jupyter.widget-view+json": {
       "version_major": 2,
       "version_minor": 0,
       "model_id": "0b187a67f6d3400a9d4310a15f712aad"
      }
     },
     "metadata": {},
     "output_type": "display_data"
    },
    {
     "data": {
      "text/plain": [
       "  0%|          | 0/29 [00:00<?, ?it/s]"
      ],
      "application/vnd.jupyter.widget-view+json": {
       "version_major": 2,
       "version_minor": 0,
       "model_id": "6d0380470a7d4f6cbf1657094f4347ef"
      }
     },
     "metadata": {},
     "output_type": "display_data"
    },
    {
     "data": {
      "text/plain": [
       "  0%|          | 0/29 [00:00<?, ?it/s]"
      ],
      "application/vnd.jupyter.widget-view+json": {
       "version_major": 2,
       "version_minor": 0,
       "model_id": "79f6f1dd67ab4595beb584f80ccc4630"
      }
     },
     "metadata": {},
     "output_type": "display_data"
    },
    {
     "data": {
      "text/plain": [
       "  0%|          | 0/29 [00:00<?, ?it/s]"
      ],
      "application/vnd.jupyter.widget-view+json": {
       "version_major": 2,
       "version_minor": 0,
       "model_id": "e4295f295cc242beb63941331dd1bae9"
      }
     },
     "metadata": {},
     "output_type": "display_data"
    },
    {
     "data": {
      "text/plain": [
       "  0%|          | 0/29 [00:00<?, ?it/s]"
      ],
      "application/vnd.jupyter.widget-view+json": {
       "version_major": 2,
       "version_minor": 0,
       "model_id": "6e30ced90f3f4391bfa9ca7dcccf9886"
      }
     },
     "metadata": {},
     "output_type": "display_data"
    },
    {
     "data": {
      "text/plain": [
       "  0%|          | 0/29 [00:00<?, ?it/s]"
      ],
      "application/vnd.jupyter.widget-view+json": {
       "version_major": 2,
       "version_minor": 0,
       "model_id": "e1ce26dc8187491787e514ef4bdad2ec"
      }
     },
     "metadata": {},
     "output_type": "display_data"
    },
    {
     "data": {
      "text/plain": [
       "  0%|          | 0/29 [00:00<?, ?it/s]"
      ],
      "application/vnd.jupyter.widget-view+json": {
       "version_major": 2,
       "version_minor": 0,
       "model_id": "a62ecd57a52b44e6854bcc7cf1383c7d"
      }
     },
     "metadata": {},
     "output_type": "display_data"
    },
    {
     "data": {
      "text/plain": [
       "  0%|          | 0/29 [00:00<?, ?it/s]"
      ],
      "application/vnd.jupyter.widget-view+json": {
       "version_major": 2,
       "version_minor": 0,
       "model_id": "d7d86cd151494f42a1dfe7470fb95220"
      }
     },
     "metadata": {},
     "output_type": "display_data"
    },
    {
     "data": {
      "text/plain": [
       "  0%|          | 0/29 [00:00<?, ?it/s]"
      ],
      "application/vnd.jupyter.widget-view+json": {
       "version_major": 2,
       "version_minor": 0,
       "model_id": "47f2a0768682485b834eb6fa72fa1b4b"
      }
     },
     "metadata": {},
     "output_type": "display_data"
    },
    {
     "data": {
      "text/plain": [
       "  0%|          | 0/29 [00:00<?, ?it/s]"
      ],
      "application/vnd.jupyter.widget-view+json": {
       "version_major": 2,
       "version_minor": 0,
       "model_id": "ec4c2f0f810f4061a82bacb654f04b6a"
      }
     },
     "metadata": {},
     "output_type": "display_data"
    },
    {
     "data": {
      "text/plain": [
       "  0%|          | 0/29 [00:00<?, ?it/s]"
      ],
      "application/vnd.jupyter.widget-view+json": {
       "version_major": 2,
       "version_minor": 0,
       "model_id": "6c46c6811e0b4861a9089e3b2825356f"
      }
     },
     "metadata": {},
     "output_type": "display_data"
    },
    {
     "data": {
      "text/plain": [
       "  0%|          | 0/29 [00:00<?, ?it/s]"
      ],
      "application/vnd.jupyter.widget-view+json": {
       "version_major": 2,
       "version_minor": 0,
       "model_id": "a98e5c5a5af8443d9aeabeb38a737817"
      }
     },
     "metadata": {},
     "output_type": "display_data"
    },
    {
     "data": {
      "text/plain": [
       "  0%|          | 0/29 [00:00<?, ?it/s]"
      ],
      "application/vnd.jupyter.widget-view+json": {
       "version_major": 2,
       "version_minor": 0,
       "model_id": "be6622dfae254645abb0045a7b55fde6"
      }
     },
     "metadata": {},
     "output_type": "display_data"
    },
    {
     "data": {
      "text/plain": [
       "  0%|          | 0/29 [00:00<?, ?it/s]"
      ],
      "application/vnd.jupyter.widget-view+json": {
       "version_major": 2,
       "version_minor": 0,
       "model_id": "1b5460efed844095b7447d47c751cecf"
      }
     },
     "metadata": {},
     "output_type": "display_data"
    },
    {
     "data": {
      "text/plain": [
       "  0%|          | 0/29 [00:00<?, ?it/s]"
      ],
      "application/vnd.jupyter.widget-view+json": {
       "version_major": 2,
       "version_minor": 0,
       "model_id": "21e28ca31bd04bfcb8f8ea6fb7f3b86e"
      }
     },
     "metadata": {},
     "output_type": "display_data"
    },
    {
     "data": {
      "text/plain": [
       "  0%|          | 0/29 [00:00<?, ?it/s]"
      ],
      "application/vnd.jupyter.widget-view+json": {
       "version_major": 2,
       "version_minor": 0,
       "model_id": "010731ba5407477baf3e2dcb2c680c4c"
      }
     },
     "metadata": {},
     "output_type": "display_data"
    },
    {
     "data": {
      "text/plain": [
       "  0%|          | 0/29 [00:00<?, ?it/s]"
      ],
      "application/vnd.jupyter.widget-view+json": {
       "version_major": 2,
       "version_minor": 0,
       "model_id": "ed5f98bd49574cf4b1c91db24a7c3088"
      }
     },
     "metadata": {},
     "output_type": "display_data"
    },
    {
     "data": {
      "text/plain": [
       "  0%|          | 0/29 [00:00<?, ?it/s]"
      ],
      "application/vnd.jupyter.widget-view+json": {
       "version_major": 2,
       "version_minor": 0,
       "model_id": "f9db115bd2174613a5fddaec9c12c80f"
      }
     },
     "metadata": {},
     "output_type": "display_data"
    },
    {
     "data": {
      "text/plain": [
       "  0%|          | 0/29 [00:00<?, ?it/s]"
      ],
      "application/vnd.jupyter.widget-view+json": {
       "version_major": 2,
       "version_minor": 0,
       "model_id": "dc67fcbd69d64b51beb6ad70dd4f16e7"
      }
     },
     "metadata": {},
     "output_type": "display_data"
    },
    {
     "data": {
      "text/plain": [
       "  0%|          | 0/29 [00:00<?, ?it/s]"
      ],
      "application/vnd.jupyter.widget-view+json": {
       "version_major": 2,
       "version_minor": 0,
       "model_id": "b4f7a6b71a78419db640d63975f7e104"
      }
     },
     "metadata": {},
     "output_type": "display_data"
    },
    {
     "data": {
      "text/plain": [
       "  0%|          | 0/29 [00:00<?, ?it/s]"
      ],
      "application/vnd.jupyter.widget-view+json": {
       "version_major": 2,
       "version_minor": 0,
       "model_id": "b2add92a6764441cbe0a5cc5e25a5616"
      }
     },
     "metadata": {},
     "output_type": "display_data"
    },
    {
     "data": {
      "text/plain": [
       "  0%|          | 0/29 [00:00<?, ?it/s]"
      ],
      "application/vnd.jupyter.widget-view+json": {
       "version_major": 2,
       "version_minor": 0,
       "model_id": "2e52767341644ebe895ec14a18055bb6"
      }
     },
     "metadata": {},
     "output_type": "display_data"
    },
    {
     "data": {
      "text/plain": [
       "  0%|          | 0/29 [00:00<?, ?it/s]"
      ],
      "application/vnd.jupyter.widget-view+json": {
       "version_major": 2,
       "version_minor": 0,
       "model_id": "4965c62ed3bb4c4583ed603b7bc898fe"
      }
     },
     "metadata": {},
     "output_type": "display_data"
    },
    {
     "data": {
      "text/plain": [
       "  0%|          | 0/29 [00:00<?, ?it/s]"
      ],
      "application/vnd.jupyter.widget-view+json": {
       "version_major": 2,
       "version_minor": 0,
       "model_id": "cb44448342cb4d0694d18b9e6cadb0ec"
      }
     },
     "metadata": {},
     "output_type": "display_data"
    },
    {
     "data": {
      "text/plain": [
       "  0%|          | 0/29 [00:00<?, ?it/s]"
      ],
      "application/vnd.jupyter.widget-view+json": {
       "version_major": 2,
       "version_minor": 0,
       "model_id": "886bbf73c0bf4dd192822ace055fb5ac"
      }
     },
     "metadata": {},
     "output_type": "display_data"
    },
    {
     "data": {
      "text/plain": [
       "  0%|          | 0/29 [00:00<?, ?it/s]"
      ],
      "application/vnd.jupyter.widget-view+json": {
       "version_major": 2,
       "version_minor": 0,
       "model_id": "1a54b04d1e2a484cbe8d6e76b67d5054"
      }
     },
     "metadata": {},
     "output_type": "display_data"
    },
    {
     "data": {
      "text/plain": [
       "  0%|          | 0/29 [00:00<?, ?it/s]"
      ],
      "application/vnd.jupyter.widget-view+json": {
       "version_major": 2,
       "version_minor": 0,
       "model_id": "0c540df98fbb4614b215b45c071b8f25"
      }
     },
     "metadata": {},
     "output_type": "display_data"
    },
    {
     "data": {
      "text/plain": [
       "  0%|          | 0/29 [00:00<?, ?it/s]"
      ],
      "application/vnd.jupyter.widget-view+json": {
       "version_major": 2,
       "version_minor": 0,
       "model_id": "33011955e94446c5a20f2dbc400acc1d"
      }
     },
     "metadata": {},
     "output_type": "display_data"
    },
    {
     "data": {
      "text/plain": [
       "  0%|          | 0/29 [00:00<?, ?it/s]"
      ],
      "application/vnd.jupyter.widget-view+json": {
       "version_major": 2,
       "version_minor": 0,
       "model_id": "31bcce4b797c4dcc9076d820b3821328"
      }
     },
     "metadata": {},
     "output_type": "display_data"
    },
    {
     "data": {
      "text/plain": [
       "  0%|          | 0/29 [00:00<?, ?it/s]"
      ],
      "application/vnd.jupyter.widget-view+json": {
       "version_major": 2,
       "version_minor": 0,
       "model_id": "a325fc7b1f9b4419b90df51076f8e2b2"
      }
     },
     "metadata": {},
     "output_type": "display_data"
    },
    {
     "data": {
      "text/plain": [
       "  0%|          | 0/29 [00:00<?, ?it/s]"
      ],
      "application/vnd.jupyter.widget-view+json": {
       "version_major": 2,
       "version_minor": 0,
       "model_id": "61626b11efc143a6a780364126cd35fa"
      }
     },
     "metadata": {},
     "output_type": "display_data"
    },
    {
     "data": {
      "text/plain": [
       "  0%|          | 0/29 [00:00<?, ?it/s]"
      ],
      "application/vnd.jupyter.widget-view+json": {
       "version_major": 2,
       "version_minor": 0,
       "model_id": "289e376d1d1e4e13935741ad1f4440da"
      }
     },
     "metadata": {},
     "output_type": "display_data"
    },
    {
     "data": {
      "text/plain": [
       "  0%|          | 0/29 [00:00<?, ?it/s]"
      ],
      "application/vnd.jupyter.widget-view+json": {
       "version_major": 2,
       "version_minor": 0,
       "model_id": "a13275d39c0a4b5c8c8d84038e6af2a9"
      }
     },
     "metadata": {},
     "output_type": "display_data"
    },
    {
     "data": {
      "text/plain": [
       "  0%|          | 0/29 [00:00<?, ?it/s]"
      ],
      "application/vnd.jupyter.widget-view+json": {
       "version_major": 2,
       "version_minor": 0,
       "model_id": "1310d2ba7fde4578b1eee03e8e182c76"
      }
     },
     "metadata": {},
     "output_type": "display_data"
    },
    {
     "data": {
      "text/plain": [
       "  0%|          | 0/29 [00:00<?, ?it/s]"
      ],
      "application/vnd.jupyter.widget-view+json": {
       "version_major": 2,
       "version_minor": 0,
       "model_id": "b23d6a5ab95d4a55a94c728b08bd894e"
      }
     },
     "metadata": {},
     "output_type": "display_data"
    },
    {
     "data": {
      "text/plain": [
       "  0%|          | 0/29 [00:00<?, ?it/s]"
      ],
      "application/vnd.jupyter.widget-view+json": {
       "version_major": 2,
       "version_minor": 0,
       "model_id": "383805dd3cd34b71b7ff546abd441d2f"
      }
     },
     "metadata": {},
     "output_type": "display_data"
    },
    {
     "data": {
      "text/plain": [
       "  0%|          | 0/29 [00:00<?, ?it/s]"
      ],
      "application/vnd.jupyter.widget-view+json": {
       "version_major": 2,
       "version_minor": 0,
       "model_id": "e63cddd9e44f47e2ba5fc0516280f8aa"
      }
     },
     "metadata": {},
     "output_type": "display_data"
    },
    {
     "data": {
      "text/plain": [
       "  0%|          | 0/29 [00:00<?, ?it/s]"
      ],
      "application/vnd.jupyter.widget-view+json": {
       "version_major": 2,
       "version_minor": 0,
       "model_id": "ec9d22b4620640d3916f9a2dd93704a1"
      }
     },
     "metadata": {},
     "output_type": "display_data"
    },
    {
     "data": {
      "text/plain": [
       "  0%|          | 0/29 [00:00<?, ?it/s]"
      ],
      "application/vnd.jupyter.widget-view+json": {
       "version_major": 2,
       "version_minor": 0,
       "model_id": "73b00455cea742e584b2308e05f7ee3f"
      }
     },
     "metadata": {},
     "output_type": "display_data"
    },
    {
     "data": {
      "text/plain": [
       "  0%|          | 0/29 [00:00<?, ?it/s]"
      ],
      "application/vnd.jupyter.widget-view+json": {
       "version_major": 2,
       "version_minor": 0,
       "model_id": "dfd58c50041b4eb08e315586e9f15f7e"
      }
     },
     "metadata": {},
     "output_type": "display_data"
    },
    {
     "data": {
      "text/plain": [
       "  0%|          | 0/29 [00:00<?, ?it/s]"
      ],
      "application/vnd.jupyter.widget-view+json": {
       "version_major": 2,
       "version_minor": 0,
       "model_id": "3fa1fc9a1e3e44c49b8d171ba1e673ad"
      }
     },
     "metadata": {},
     "output_type": "display_data"
    },
    {
     "data": {
      "text/plain": [
       "  0%|          | 0/29 [00:00<?, ?it/s]"
      ],
      "application/vnd.jupyter.widget-view+json": {
       "version_major": 2,
       "version_minor": 0,
       "model_id": "403f9bf2f46746a7939a9fa66403eab8"
      }
     },
     "metadata": {},
     "output_type": "display_data"
    },
    {
     "data": {
      "text/plain": [
       "  0%|          | 0/29 [00:00<?, ?it/s]"
      ],
      "application/vnd.jupyter.widget-view+json": {
       "version_major": 2,
       "version_minor": 0,
       "model_id": "e9c6bfbde4f84f459574f6b9758f3ea0"
      }
     },
     "metadata": {},
     "output_type": "display_data"
    },
    {
     "data": {
      "text/plain": [
       "  0%|          | 0/29 [00:00<?, ?it/s]"
      ],
      "application/vnd.jupyter.widget-view+json": {
       "version_major": 2,
       "version_minor": 0,
       "model_id": "072063e1a9d64b7ca7a8994260b92e58"
      }
     },
     "metadata": {},
     "output_type": "display_data"
    },
    {
     "data": {
      "text/plain": [
       "  0%|          | 0/29 [00:00<?, ?it/s]"
      ],
      "application/vnd.jupyter.widget-view+json": {
       "version_major": 2,
       "version_minor": 0,
       "model_id": "201c53e050ce4efcaed703f0a7b9b0a1"
      }
     },
     "metadata": {},
     "output_type": "display_data"
    },
    {
     "data": {
      "text/plain": [
       "  0%|          | 0/29 [00:00<?, ?it/s]"
      ],
      "application/vnd.jupyter.widget-view+json": {
       "version_major": 2,
       "version_minor": 0,
       "model_id": "2bf4aa01132943c8a9cb1f3e63a7a986"
      }
     },
     "metadata": {},
     "output_type": "display_data"
    },
    {
     "data": {
      "text/plain": [
       "  0%|          | 0/29 [00:00<?, ?it/s]"
      ],
      "application/vnd.jupyter.widget-view+json": {
       "version_major": 2,
       "version_minor": 0,
       "model_id": "78b865db90b7468d9ce82111885ff5a8"
      }
     },
     "metadata": {},
     "output_type": "display_data"
    },
    {
     "data": {
      "text/plain": [
       "  0%|          | 0/29 [00:00<?, ?it/s]"
      ],
      "application/vnd.jupyter.widget-view+json": {
       "version_major": 2,
       "version_minor": 0,
       "model_id": "4cce4c29cf5b492b85c07df842f03ce1"
      }
     },
     "metadata": {},
     "output_type": "display_data"
    },
    {
     "data": {
      "text/plain": [
       "  0%|          | 0/29 [00:00<?, ?it/s]"
      ],
      "application/vnd.jupyter.widget-view+json": {
       "version_major": 2,
       "version_minor": 0,
       "model_id": "a1f03ce657bf46c8a1e249b9c22ebe51"
      }
     },
     "metadata": {},
     "output_type": "display_data"
    },
    {
     "data": {
      "text/plain": [
       "  0%|          | 0/29 [00:00<?, ?it/s]"
      ],
      "application/vnd.jupyter.widget-view+json": {
       "version_major": 2,
       "version_minor": 0,
       "model_id": "8e478b66e3ad47b4a626e02f417e1df2"
      }
     },
     "metadata": {},
     "output_type": "display_data"
    },
    {
     "data": {
      "text/plain": [
       "  0%|          | 0/29 [00:00<?, ?it/s]"
      ],
      "application/vnd.jupyter.widget-view+json": {
       "version_major": 2,
       "version_minor": 0,
       "model_id": "1874330580e8472d8765fcac105fc6f1"
      }
     },
     "metadata": {},
     "output_type": "display_data"
    },
    {
     "data": {
      "text/plain": [
       "  0%|          | 0/29 [00:00<?, ?it/s]"
      ],
      "application/vnd.jupyter.widget-view+json": {
       "version_major": 2,
       "version_minor": 0,
       "model_id": "06bec9c794d1428fad0cd1d9fe951d82"
      }
     },
     "metadata": {},
     "output_type": "display_data"
    },
    {
     "data": {
      "text/plain": [
       "  0%|          | 0/29 [00:00<?, ?it/s]"
      ],
      "application/vnd.jupyter.widget-view+json": {
       "version_major": 2,
       "version_minor": 0,
       "model_id": "3d2f13c15e154c9e816a949a405a6971"
      }
     },
     "metadata": {},
     "output_type": "display_data"
    },
    {
     "data": {
      "text/plain": [
       "  0%|          | 0/29 [00:00<?, ?it/s]"
      ],
      "application/vnd.jupyter.widget-view+json": {
       "version_major": 2,
       "version_minor": 0,
       "model_id": "cb03c94e5b4045d68e558904b6550260"
      }
     },
     "metadata": {},
     "output_type": "display_data"
    },
    {
     "data": {
      "text/plain": [
       "  0%|          | 0/29 [00:00<?, ?it/s]"
      ],
      "application/vnd.jupyter.widget-view+json": {
       "version_major": 2,
       "version_minor": 0,
       "model_id": "a9add5ead0484585bbd108cc194c9dea"
      }
     },
     "metadata": {},
     "output_type": "display_data"
    },
    {
     "data": {
      "text/plain": [
       "  0%|          | 0/29 [00:00<?, ?it/s]"
      ],
      "application/vnd.jupyter.widget-view+json": {
       "version_major": 2,
       "version_minor": 0,
       "model_id": "f4c662d32e9740568a651a2ed9f1940e"
      }
     },
     "metadata": {},
     "output_type": "display_data"
    },
    {
     "data": {
      "text/plain": [
       "  0%|          | 0/29 [00:00<?, ?it/s]"
      ],
      "application/vnd.jupyter.widget-view+json": {
       "version_major": 2,
       "version_minor": 0,
       "model_id": "5ff9e2b4a0314e5685a13c340ed01b28"
      }
     },
     "metadata": {},
     "output_type": "display_data"
    },
    {
     "data": {
      "text/plain": [
       "  0%|          | 0/29 [00:00<?, ?it/s]"
      ],
      "application/vnd.jupyter.widget-view+json": {
       "version_major": 2,
       "version_minor": 0,
       "model_id": "74f3d2386f6b4ec1ad31cea537e3e02a"
      }
     },
     "metadata": {},
     "output_type": "display_data"
    },
    {
     "data": {
      "text/plain": [
       "  0%|          | 0/29 [00:00<?, ?it/s]"
      ],
      "application/vnd.jupyter.widget-view+json": {
       "version_major": 2,
       "version_minor": 0,
       "model_id": "bdd39b7cc3ce4dfa955f74847ee65d13"
      }
     },
     "metadata": {},
     "output_type": "display_data"
    },
    {
     "data": {
      "text/plain": [
       "  0%|          | 0/29 [00:00<?, ?it/s]"
      ],
      "application/vnd.jupyter.widget-view+json": {
       "version_major": 2,
       "version_minor": 0,
       "model_id": "ebc153de0f3b4d17a7df2bd3eb68f955"
      }
     },
     "metadata": {},
     "output_type": "display_data"
    },
    {
     "data": {
      "text/plain": [
       "  0%|          | 0/29 [00:00<?, ?it/s]"
      ],
      "application/vnd.jupyter.widget-view+json": {
       "version_major": 2,
       "version_minor": 0,
       "model_id": "254768896627421d957c6cee1a2ab96b"
      }
     },
     "metadata": {},
     "output_type": "display_data"
    },
    {
     "data": {
      "text/plain": [
       "  0%|          | 0/29 [00:00<?, ?it/s]"
      ],
      "application/vnd.jupyter.widget-view+json": {
       "version_major": 2,
       "version_minor": 0,
       "model_id": "864b4deb1e384b3aad956d6c1adb6436"
      }
     },
     "metadata": {},
     "output_type": "display_data"
    },
    {
     "data": {
      "text/plain": [
       "  0%|          | 0/29 [00:00<?, ?it/s]"
      ],
      "application/vnd.jupyter.widget-view+json": {
       "version_major": 2,
       "version_minor": 0,
       "model_id": "376b26d4b6594530954b4979abf391b6"
      }
     },
     "metadata": {},
     "output_type": "display_data"
    },
    {
     "data": {
      "text/plain": [
       "  0%|          | 0/29 [00:00<?, ?it/s]"
      ],
      "application/vnd.jupyter.widget-view+json": {
       "version_major": 2,
       "version_minor": 0,
       "model_id": "08a3fc515ed74fcd8f400a28dd4073c6"
      }
     },
     "metadata": {},
     "output_type": "display_data"
    },
    {
     "data": {
      "text/plain": [
       "  0%|          | 0/29 [00:00<?, ?it/s]"
      ],
      "application/vnd.jupyter.widget-view+json": {
       "version_major": 2,
       "version_minor": 0,
       "model_id": "6ca6d8b249824deeabb7466fb9615c9b"
      }
     },
     "metadata": {},
     "output_type": "display_data"
    },
    {
     "data": {
      "text/plain": [
       "  0%|          | 0/29 [00:00<?, ?it/s]"
      ],
      "application/vnd.jupyter.widget-view+json": {
       "version_major": 2,
       "version_minor": 0,
       "model_id": "5f9cb7987ecb47b887db2995bfc72c37"
      }
     },
     "metadata": {},
     "output_type": "display_data"
    },
    {
     "data": {
      "text/plain": [
       "  0%|          | 0/29 [00:00<?, ?it/s]"
      ],
      "application/vnd.jupyter.widget-view+json": {
       "version_major": 2,
       "version_minor": 0,
       "model_id": "001ad572963e4cbc80231ca5b61967b7"
      }
     },
     "metadata": {},
     "output_type": "display_data"
    },
    {
     "data": {
      "text/plain": [
       "  0%|          | 0/29 [00:00<?, ?it/s]"
      ],
      "application/vnd.jupyter.widget-view+json": {
       "version_major": 2,
       "version_minor": 0,
       "model_id": "ac838b0fd0e944158d23c49a9cc694c5"
      }
     },
     "metadata": {},
     "output_type": "display_data"
    },
    {
     "data": {
      "text/plain": [
       "  0%|          | 0/29 [00:00<?, ?it/s]"
      ],
      "application/vnd.jupyter.widget-view+json": {
       "version_major": 2,
       "version_minor": 0,
       "model_id": "9f57154e4a4145ce95ef12ad4159c3d6"
      }
     },
     "metadata": {},
     "output_type": "display_data"
    },
    {
     "data": {
      "text/plain": [
       "  0%|          | 0/29 [00:00<?, ?it/s]"
      ],
      "application/vnd.jupyter.widget-view+json": {
       "version_major": 2,
       "version_minor": 0,
       "model_id": "5daf9a2bb3af4c908eace8ac2444969b"
      }
     },
     "metadata": {},
     "output_type": "display_data"
    },
    {
     "data": {
      "text/plain": [
       "  0%|          | 0/29 [00:00<?, ?it/s]"
      ],
      "application/vnd.jupyter.widget-view+json": {
       "version_major": 2,
       "version_minor": 0,
       "model_id": "6cfb73d80c70426aa645963a8cc57eb0"
      }
     },
     "metadata": {},
     "output_type": "display_data"
    },
    {
     "data": {
      "text/plain": [
       "  0%|          | 0/29 [00:00<?, ?it/s]"
      ],
      "application/vnd.jupyter.widget-view+json": {
       "version_major": 2,
       "version_minor": 0,
       "model_id": "8691d56830e24d9b9e9d66e61a1ecafd"
      }
     },
     "metadata": {},
     "output_type": "display_data"
    },
    {
     "data": {
      "text/plain": [
       "  0%|          | 0/29 [00:00<?, ?it/s]"
      ],
      "application/vnd.jupyter.widget-view+json": {
       "version_major": 2,
       "version_minor": 0,
       "model_id": "9493f7f1a35549ebb79feb1bdd500ce1"
      }
     },
     "metadata": {},
     "output_type": "display_data"
    },
    {
     "data": {
      "text/plain": [
       "  0%|          | 0/29 [00:00<?, ?it/s]"
      ],
      "application/vnd.jupyter.widget-view+json": {
       "version_major": 2,
       "version_minor": 0,
       "model_id": "ef6e8ee4a11b4f629fe343543dfce35b"
      }
     },
     "metadata": {},
     "output_type": "display_data"
    },
    {
     "data": {
      "text/plain": [
       "  0%|          | 0/29 [00:00<?, ?it/s]"
      ],
      "application/vnd.jupyter.widget-view+json": {
       "version_major": 2,
       "version_minor": 0,
       "model_id": "42846faf47d0489999b02964f8353945"
      }
     },
     "metadata": {},
     "output_type": "display_data"
    },
    {
     "data": {
      "text/plain": [
       "  0%|          | 0/29 [00:00<?, ?it/s]"
      ],
      "application/vnd.jupyter.widget-view+json": {
       "version_major": 2,
       "version_minor": 0,
       "model_id": "f324b319e4f44906809b48c263fab66f"
      }
     },
     "metadata": {},
     "output_type": "display_data"
    },
    {
     "data": {
      "text/plain": [
       "  0%|          | 0/29 [00:00<?, ?it/s]"
      ],
      "application/vnd.jupyter.widget-view+json": {
       "version_major": 2,
       "version_minor": 0,
       "model_id": "2f7352f0410845a5b5f60d7ad9f128b2"
      }
     },
     "metadata": {},
     "output_type": "display_data"
    },
    {
     "data": {
      "text/plain": [
       "  0%|          | 0/29 [00:00<?, ?it/s]"
      ],
      "application/vnd.jupyter.widget-view+json": {
       "version_major": 2,
       "version_minor": 0,
       "model_id": "ae254b913e454676877c4d2f367b33a5"
      }
     },
     "metadata": {},
     "output_type": "display_data"
    },
    {
     "data": {
      "text/plain": [
       "  0%|          | 0/29 [00:00<?, ?it/s]"
      ],
      "application/vnd.jupyter.widget-view+json": {
       "version_major": 2,
       "version_minor": 0,
       "model_id": "8eb9f993a2da413d8af94cbbbbacc1f5"
      }
     },
     "metadata": {},
     "output_type": "display_data"
    },
    {
     "data": {
      "text/plain": [
       "  0%|          | 0/29 [00:00<?, ?it/s]"
      ],
      "application/vnd.jupyter.widget-view+json": {
       "version_major": 2,
       "version_minor": 0,
       "model_id": "3f1ab64a71de4204a16b87e3763dc413"
      }
     },
     "metadata": {},
     "output_type": "display_data"
    },
    {
     "data": {
      "text/plain": [
       "  0%|          | 0/29 [00:00<?, ?it/s]"
      ],
      "application/vnd.jupyter.widget-view+json": {
       "version_major": 2,
       "version_minor": 0,
       "model_id": "0155b03481bc4279a28db426e1b2f206"
      }
     },
     "metadata": {},
     "output_type": "display_data"
    },
    {
     "data": {
      "text/plain": [
       "  0%|          | 0/29 [00:00<?, ?it/s]"
      ],
      "application/vnd.jupyter.widget-view+json": {
       "version_major": 2,
       "version_minor": 0,
       "model_id": "878dd20d2b214b77bae374fb9c0f67f1"
      }
     },
     "metadata": {},
     "output_type": "display_data"
    },
    {
     "data": {
      "text/plain": [
       "  0%|          | 0/29 [00:00<?, ?it/s]"
      ],
      "application/vnd.jupyter.widget-view+json": {
       "version_major": 2,
       "version_minor": 0,
       "model_id": "fdd242e88bb84544b01763286b91d1a7"
      }
     },
     "metadata": {},
     "output_type": "display_data"
    },
    {
     "data": {
      "text/plain": [
       "  0%|          | 0/29 [00:00<?, ?it/s]"
      ],
      "application/vnd.jupyter.widget-view+json": {
       "version_major": 2,
       "version_minor": 0,
       "model_id": "61cbd2814d8f4c8399b14364329b3dc9"
      }
     },
     "metadata": {},
     "output_type": "display_data"
    },
    {
     "data": {
      "text/plain": [
       "  0%|          | 0/29 [00:00<?, ?it/s]"
      ],
      "application/vnd.jupyter.widget-view+json": {
       "version_major": 2,
       "version_minor": 0,
       "model_id": "dfa979cc4f344665acc093a33bfa12f8"
      }
     },
     "metadata": {},
     "output_type": "display_data"
    },
    {
     "data": {
      "text/plain": [
       "  0%|          | 0/29 [00:00<?, ?it/s]"
      ],
      "application/vnd.jupyter.widget-view+json": {
       "version_major": 2,
       "version_minor": 0,
       "model_id": "56b4b3c47af442e096dc4ebf231a47cc"
      }
     },
     "metadata": {},
     "output_type": "display_data"
    },
    {
     "data": {
      "text/plain": [
       "  0%|          | 0/29 [00:00<?, ?it/s]"
      ],
      "application/vnd.jupyter.widget-view+json": {
       "version_major": 2,
       "version_minor": 0,
       "model_id": "b04b6219c4974807a2e1ad823971d662"
      }
     },
     "metadata": {},
     "output_type": "display_data"
    },
    {
     "data": {
      "text/plain": [
       "  0%|          | 0/29 [00:00<?, ?it/s]"
      ],
      "application/vnd.jupyter.widget-view+json": {
       "version_major": 2,
       "version_minor": 0,
       "model_id": "1863f6ace65e446bbb37288e25eee912"
      }
     },
     "metadata": {},
     "output_type": "display_data"
    },
    {
     "data": {
      "text/plain": [
       "  0%|          | 0/29 [00:00<?, ?it/s]"
      ],
      "application/vnd.jupyter.widget-view+json": {
       "version_major": 2,
       "version_minor": 0,
       "model_id": "d704f135240845d2a1b34b502e453f59"
      }
     },
     "metadata": {},
     "output_type": "display_data"
    },
    {
     "data": {
      "text/plain": [
       "  0%|          | 0/29 [00:00<?, ?it/s]"
      ],
      "application/vnd.jupyter.widget-view+json": {
       "version_major": 2,
       "version_minor": 0,
       "model_id": "8fce4d249b5f4485ba51511016396134"
      }
     },
     "metadata": {},
     "output_type": "display_data"
    },
    {
     "data": {
      "text/plain": [
       "  0%|          | 0/29 [00:00<?, ?it/s]"
      ],
      "application/vnd.jupyter.widget-view+json": {
       "version_major": 2,
       "version_minor": 0,
       "model_id": "afd26ab9c0ae49d0a319785cf73b7d08"
      }
     },
     "metadata": {},
     "output_type": "display_data"
    },
    {
     "data": {
      "text/plain": [
       "  0%|          | 0/29 [00:00<?, ?it/s]"
      ],
      "application/vnd.jupyter.widget-view+json": {
       "version_major": 2,
       "version_minor": 0,
       "model_id": "03e04b1de3b04da786dba0f3a6d22c5c"
      }
     },
     "metadata": {},
     "output_type": "display_data"
    },
    {
     "data": {
      "text/plain": [
       "  0%|          | 0/29 [00:00<?, ?it/s]"
      ],
      "application/vnd.jupyter.widget-view+json": {
       "version_major": 2,
       "version_minor": 0,
       "model_id": "0cf0f68520164ef2bdd91a924d83690d"
      }
     },
     "metadata": {},
     "output_type": "display_data"
    },
    {
     "data": {
      "text/plain": [
       "  0%|          | 0/29 [00:00<?, ?it/s]"
      ],
      "application/vnd.jupyter.widget-view+json": {
       "version_major": 2,
       "version_minor": 0,
       "model_id": "6284a0b7a2784e60a6bf17fd39b5e4b1"
      }
     },
     "metadata": {},
     "output_type": "display_data"
    },
    {
     "data": {
      "text/plain": [
       "  0%|          | 0/29 [00:00<?, ?it/s]"
      ],
      "application/vnd.jupyter.widget-view+json": {
       "version_major": 2,
       "version_minor": 0,
       "model_id": "6dfb24250bef462daaa692b2d33cb395"
      }
     },
     "metadata": {},
     "output_type": "display_data"
    },
    {
     "data": {
      "text/plain": [
       "  0%|          | 0/29 [00:00<?, ?it/s]"
      ],
      "application/vnd.jupyter.widget-view+json": {
       "version_major": 2,
       "version_minor": 0,
       "model_id": "cde10d83fbe24f69906e82cb9b108a16"
      }
     },
     "metadata": {},
     "output_type": "display_data"
    },
    {
     "data": {
      "text/plain": [
       "  0%|          | 0/29 [00:00<?, ?it/s]"
      ],
      "application/vnd.jupyter.widget-view+json": {
       "version_major": 2,
       "version_minor": 0,
       "model_id": "95b64e9bd2cd4ae9815633d7ebeef3e8"
      }
     },
     "metadata": {},
     "output_type": "display_data"
    },
    {
     "data": {
      "text/plain": [
       "  0%|          | 0/29 [00:00<?, ?it/s]"
      ],
      "application/vnd.jupyter.widget-view+json": {
       "version_major": 2,
       "version_minor": 0,
       "model_id": "c1b4c98ebd254af6b4656f4651a27f42"
      }
     },
     "metadata": {},
     "output_type": "display_data"
    },
    {
     "data": {
      "text/plain": [
       "  0%|          | 0/29 [00:00<?, ?it/s]"
      ],
      "application/vnd.jupyter.widget-view+json": {
       "version_major": 2,
       "version_minor": 0,
       "model_id": "b33b2cb212fd40df9f1495cc8c892655"
      }
     },
     "metadata": {},
     "output_type": "display_data"
    },
    {
     "data": {
      "text/plain": [
       "  0%|          | 0/29 [00:00<?, ?it/s]"
      ],
      "application/vnd.jupyter.widget-view+json": {
       "version_major": 2,
       "version_minor": 0,
       "model_id": "7a215729c75844fb9eeefccc4db06569"
      }
     },
     "metadata": {},
     "output_type": "display_data"
    },
    {
     "data": {
      "text/plain": [
       "  0%|          | 0/29 [00:00<?, ?it/s]"
      ],
      "application/vnd.jupyter.widget-view+json": {
       "version_major": 2,
       "version_minor": 0,
       "model_id": "d71b4d2b057d4645abf82c76d27345a0"
      }
     },
     "metadata": {},
     "output_type": "display_data"
    },
    {
     "data": {
      "text/plain": [
       "  0%|          | 0/29 [00:00<?, ?it/s]"
      ],
      "application/vnd.jupyter.widget-view+json": {
       "version_major": 2,
       "version_minor": 0,
       "model_id": "b0bcd44f440143c69f657140ee17ed5a"
      }
     },
     "metadata": {},
     "output_type": "display_data"
    },
    {
     "data": {
      "text/plain": [
       "  0%|          | 0/29 [00:00<?, ?it/s]"
      ],
      "application/vnd.jupyter.widget-view+json": {
       "version_major": 2,
       "version_minor": 0,
       "model_id": "33782e3aa2d14c3f98a4c61a7afba502"
      }
     },
     "metadata": {},
     "output_type": "display_data"
    },
    {
     "data": {
      "text/plain": [
       "  0%|          | 0/29 [00:00<?, ?it/s]"
      ],
      "application/vnd.jupyter.widget-view+json": {
       "version_major": 2,
       "version_minor": 0,
       "model_id": "c2bba1f342084d2788f6713bf032d822"
      }
     },
     "metadata": {},
     "output_type": "display_data"
    },
    {
     "data": {
      "text/plain": [
       "  0%|          | 0/29 [00:00<?, ?it/s]"
      ],
      "application/vnd.jupyter.widget-view+json": {
       "version_major": 2,
       "version_minor": 0,
       "model_id": "dcc6e0c9bd544e42b1412b42af664970"
      }
     },
     "metadata": {},
     "output_type": "display_data"
    },
    {
     "data": {
      "text/plain": [
       "  0%|          | 0/29 [00:00<?, ?it/s]"
      ],
      "application/vnd.jupyter.widget-view+json": {
       "version_major": 2,
       "version_minor": 0,
       "model_id": "2b21bf9694ee452f8abf5c198121a72b"
      }
     },
     "metadata": {},
     "output_type": "display_data"
    },
    {
     "data": {
      "text/plain": [
       "  0%|          | 0/29 [00:00<?, ?it/s]"
      ],
      "application/vnd.jupyter.widget-view+json": {
       "version_major": 2,
       "version_minor": 0,
       "model_id": "65624c38a0a9438a982b0fb7523fba07"
      }
     },
     "metadata": {},
     "output_type": "display_data"
    },
    {
     "data": {
      "text/plain": [
       "  0%|          | 0/29 [00:00<?, ?it/s]"
      ],
      "application/vnd.jupyter.widget-view+json": {
       "version_major": 2,
       "version_minor": 0,
       "model_id": "8527e5c0601f4c20928c2a51a6ae6435"
      }
     },
     "metadata": {},
     "output_type": "display_data"
    },
    {
     "data": {
      "text/plain": [
       "  0%|          | 0/29 [00:00<?, ?it/s]"
      ],
      "application/vnd.jupyter.widget-view+json": {
       "version_major": 2,
       "version_minor": 0,
       "model_id": "0526bca9fb4048cda8e5323da6d08dde"
      }
     },
     "metadata": {},
     "output_type": "display_data"
    },
    {
     "data": {
      "text/plain": [
       "  0%|          | 0/29 [00:00<?, ?it/s]"
      ],
      "application/vnd.jupyter.widget-view+json": {
       "version_major": 2,
       "version_minor": 0,
       "model_id": "8b6ad2662f0649879587e550a41079ab"
      }
     },
     "metadata": {},
     "output_type": "display_data"
    },
    {
     "data": {
      "text/plain": [
       "  0%|          | 0/29 [00:00<?, ?it/s]"
      ],
      "application/vnd.jupyter.widget-view+json": {
       "version_major": 2,
       "version_minor": 0,
       "model_id": "4aadf4b7fb094f68b31366f506d2c48b"
      }
     },
     "metadata": {},
     "output_type": "display_data"
    },
    {
     "data": {
      "text/plain": [
       "  0%|          | 0/29 [00:00<?, ?it/s]"
      ],
      "application/vnd.jupyter.widget-view+json": {
       "version_major": 2,
       "version_minor": 0,
       "model_id": "3df0fdc2286d459c9745b83559e30101"
      }
     },
     "metadata": {},
     "output_type": "display_data"
    },
    {
     "data": {
      "text/plain": [
       "  0%|          | 0/29 [00:00<?, ?it/s]"
      ],
      "application/vnd.jupyter.widget-view+json": {
       "version_major": 2,
       "version_minor": 0,
       "model_id": "680cbd68e1cf4cf0b862f4dcd45bd398"
      }
     },
     "metadata": {},
     "output_type": "display_data"
    },
    {
     "data": {
      "text/plain": [
       "  0%|          | 0/29 [00:00<?, ?it/s]"
      ],
      "application/vnd.jupyter.widget-view+json": {
       "version_major": 2,
       "version_minor": 0,
       "model_id": "3a3901f169d94964bb95c7e14999a236"
      }
     },
     "metadata": {},
     "output_type": "display_data"
    },
    {
     "data": {
      "text/plain": [
       "  0%|          | 0/29 [00:00<?, ?it/s]"
      ],
      "application/vnd.jupyter.widget-view+json": {
       "version_major": 2,
       "version_minor": 0,
       "model_id": "60d10ccbb75146f1901ee87d424a4a83"
      }
     },
     "metadata": {},
     "output_type": "display_data"
    },
    {
     "data": {
      "text/plain": [
       "  0%|          | 0/29 [00:00<?, ?it/s]"
      ],
      "application/vnd.jupyter.widget-view+json": {
       "version_major": 2,
       "version_minor": 0,
       "model_id": "733ecc283b0d4f7385496331f2338652"
      }
     },
     "metadata": {},
     "output_type": "display_data"
    },
    {
     "data": {
      "text/plain": [
       "  0%|          | 0/29 [00:00<?, ?it/s]"
      ],
      "application/vnd.jupyter.widget-view+json": {
       "version_major": 2,
       "version_minor": 0,
       "model_id": "086001f406d04108bfa0524328c91c60"
      }
     },
     "metadata": {},
     "output_type": "display_data"
    },
    {
     "data": {
      "text/plain": [
       "  0%|          | 0/29 [00:00<?, ?it/s]"
      ],
      "application/vnd.jupyter.widget-view+json": {
       "version_major": 2,
       "version_minor": 0,
       "model_id": "ad06e6f180174e8d8993e14e89b8a30e"
      }
     },
     "metadata": {},
     "output_type": "display_data"
    },
    {
     "data": {
      "text/plain": [
       "  0%|          | 0/29 [00:00<?, ?it/s]"
      ],
      "application/vnd.jupyter.widget-view+json": {
       "version_major": 2,
       "version_minor": 0,
       "model_id": "ee6922537f3640d3a8d814d6f4dba2dd"
      }
     },
     "metadata": {},
     "output_type": "display_data"
    },
    {
     "data": {
      "text/plain": [
       "  0%|          | 0/29 [00:00<?, ?it/s]"
      ],
      "application/vnd.jupyter.widget-view+json": {
       "version_major": 2,
       "version_minor": 0,
       "model_id": "45eb4cf1ba6940039ec1d06f78bcb5cb"
      }
     },
     "metadata": {},
     "output_type": "display_data"
    },
    {
     "data": {
      "text/plain": [
       "  0%|          | 0/29 [00:00<?, ?it/s]"
      ],
      "application/vnd.jupyter.widget-view+json": {
       "version_major": 2,
       "version_minor": 0,
       "model_id": "f74a7a98f52f4c268f76a03671a61353"
      }
     },
     "metadata": {},
     "output_type": "display_data"
    },
    {
     "data": {
      "text/plain": [
       "  0%|          | 0/29 [00:00<?, ?it/s]"
      ],
      "application/vnd.jupyter.widget-view+json": {
       "version_major": 2,
       "version_minor": 0,
       "model_id": "c7f77a5090a943ceaeafb98eb38f3420"
      }
     },
     "metadata": {},
     "output_type": "display_data"
    },
    {
     "data": {
      "text/plain": [
       "  0%|          | 0/29 [00:00<?, ?it/s]"
      ],
      "application/vnd.jupyter.widget-view+json": {
       "version_major": 2,
       "version_minor": 0,
       "model_id": "61cbe9b8680648909398f25ec6f73fbf"
      }
     },
     "metadata": {},
     "output_type": "display_data"
    },
    {
     "data": {
      "text/plain": [
       "  0%|          | 0/29 [00:00<?, ?it/s]"
      ],
      "application/vnd.jupyter.widget-view+json": {
       "version_major": 2,
       "version_minor": 0,
       "model_id": "25e059185d6f499bb54d6e84235ae654"
      }
     },
     "metadata": {},
     "output_type": "display_data"
    },
    {
     "data": {
      "text/plain": [
       "  0%|          | 0/29 [00:00<?, ?it/s]"
      ],
      "application/vnd.jupyter.widget-view+json": {
       "version_major": 2,
       "version_minor": 0,
       "model_id": "55ce288bbe0d4f038a082a33b720033c"
      }
     },
     "metadata": {},
     "output_type": "display_data"
    },
    {
     "data": {
      "text/plain": [
       "  0%|          | 0/29 [00:00<?, ?it/s]"
      ],
      "application/vnd.jupyter.widget-view+json": {
       "version_major": 2,
       "version_minor": 0,
       "model_id": "a9e50f42b0204532944d501e6e86816e"
      }
     },
     "metadata": {},
     "output_type": "display_data"
    },
    {
     "data": {
      "text/plain": [
       "  0%|          | 0/29 [00:00<?, ?it/s]"
      ],
      "application/vnd.jupyter.widget-view+json": {
       "version_major": 2,
       "version_minor": 0,
       "model_id": "6b27f8c464da4347bb170478d17fc46f"
      }
     },
     "metadata": {},
     "output_type": "display_data"
    },
    {
     "data": {
      "text/plain": [
       "  0%|          | 0/29 [00:00<?, ?it/s]"
      ],
      "application/vnd.jupyter.widget-view+json": {
       "version_major": 2,
       "version_minor": 0,
       "model_id": "e9117f4c89de4152a2eea76379a29756"
      }
     },
     "metadata": {},
     "output_type": "display_data"
    },
    {
     "data": {
      "text/plain": [
       "  0%|          | 0/29 [00:00<?, ?it/s]"
      ],
      "application/vnd.jupyter.widget-view+json": {
       "version_major": 2,
       "version_minor": 0,
       "model_id": "f2712166ff804a2e974e64429d19ba7f"
      }
     },
     "metadata": {},
     "output_type": "display_data"
    },
    {
     "data": {
      "text/plain": [
       "  0%|          | 0/29 [00:00<?, ?it/s]"
      ],
      "application/vnd.jupyter.widget-view+json": {
       "version_major": 2,
       "version_minor": 0,
       "model_id": "ee7ba0f7834c4c7883797b6ebb4c367d"
      }
     },
     "metadata": {},
     "output_type": "display_data"
    },
    {
     "data": {
      "text/plain": [
       "  0%|          | 0/29 [00:00<?, ?it/s]"
      ],
      "application/vnd.jupyter.widget-view+json": {
       "version_major": 2,
       "version_minor": 0,
       "model_id": "d8ec19762a1f4180a53dfbc0258ef4b4"
      }
     },
     "metadata": {},
     "output_type": "display_data"
    },
    {
     "data": {
      "text/plain": [
       "  0%|          | 0/29 [00:00<?, ?it/s]"
      ],
      "application/vnd.jupyter.widget-view+json": {
       "version_major": 2,
       "version_minor": 0,
       "model_id": "38b4e93f769a486d904a4f08c415e32b"
      }
     },
     "metadata": {},
     "output_type": "display_data"
    },
    {
     "data": {
      "text/plain": [
       "  0%|          | 0/29 [00:00<?, ?it/s]"
      ],
      "application/vnd.jupyter.widget-view+json": {
       "version_major": 2,
       "version_minor": 0,
       "model_id": "5c980faec911490f9ecc7b6472c1c222"
      }
     },
     "metadata": {},
     "output_type": "display_data"
    },
    {
     "data": {
      "text/plain": [
       "  0%|          | 0/29 [00:00<?, ?it/s]"
      ],
      "application/vnd.jupyter.widget-view+json": {
       "version_major": 2,
       "version_minor": 0,
       "model_id": "a7d953bc309f45379c7a8b423a583143"
      }
     },
     "metadata": {},
     "output_type": "display_data"
    },
    {
     "data": {
      "text/plain": [
       "  0%|          | 0/29 [00:00<?, ?it/s]"
      ],
      "application/vnd.jupyter.widget-view+json": {
       "version_major": 2,
       "version_minor": 0,
       "model_id": "8e65612d93124a779ffc1a1938684990"
      }
     },
     "metadata": {},
     "output_type": "display_data"
    },
    {
     "data": {
      "text/plain": [
       "  0%|          | 0/29 [00:00<?, ?it/s]"
      ],
      "application/vnd.jupyter.widget-view+json": {
       "version_major": 2,
       "version_minor": 0,
       "model_id": "30c31c28e59c47ca881e346292699cb0"
      }
     },
     "metadata": {},
     "output_type": "display_data"
    },
    {
     "data": {
      "text/plain": [
       "  0%|          | 0/29 [00:00<?, ?it/s]"
      ],
      "application/vnd.jupyter.widget-view+json": {
       "version_major": 2,
       "version_minor": 0,
       "model_id": "82f720a15c3f445ab95d48e5d5478082"
      }
     },
     "metadata": {},
     "output_type": "display_data"
    },
    {
     "data": {
      "text/plain": [
       "  0%|          | 0/29 [00:00<?, ?it/s]"
      ],
      "application/vnd.jupyter.widget-view+json": {
       "version_major": 2,
       "version_minor": 0,
       "model_id": "f010115538264e9c915b74cda1a20b96"
      }
     },
     "metadata": {},
     "output_type": "display_data"
    },
    {
     "data": {
      "text/plain": [
       "  0%|          | 0/29 [00:00<?, ?it/s]"
      ],
      "application/vnd.jupyter.widget-view+json": {
       "version_major": 2,
       "version_minor": 0,
       "model_id": "b7b8c34d5cfa439081ba3c8b2c260058"
      }
     },
     "metadata": {},
     "output_type": "display_data"
    },
    {
     "data": {
      "text/plain": [
       "  0%|          | 0/29 [00:00<?, ?it/s]"
      ],
      "application/vnd.jupyter.widget-view+json": {
       "version_major": 2,
       "version_minor": 0,
       "model_id": "6539572ece4c48a1b036945e5d4281a7"
      }
     },
     "metadata": {},
     "output_type": "display_data"
    },
    {
     "data": {
      "text/plain": [
       "  0%|          | 0/29 [00:00<?, ?it/s]"
      ],
      "application/vnd.jupyter.widget-view+json": {
       "version_major": 2,
       "version_minor": 0,
       "model_id": "bdaf1690ee8a42da96c60451032f5628"
      }
     },
     "metadata": {},
     "output_type": "display_data"
    },
    {
     "data": {
      "text/plain": [
       "  0%|          | 0/29 [00:00<?, ?it/s]"
      ],
      "application/vnd.jupyter.widget-view+json": {
       "version_major": 2,
       "version_minor": 0,
       "model_id": "005f1fe3e8ff44fca7df77ba2abf25f9"
      }
     },
     "metadata": {},
     "output_type": "display_data"
    },
    {
     "data": {
      "text/plain": [
       "  0%|          | 0/29 [00:00<?, ?it/s]"
      ],
      "application/vnd.jupyter.widget-view+json": {
       "version_major": 2,
       "version_minor": 0,
       "model_id": "02007469a68b47c39436aafce4153b7b"
      }
     },
     "metadata": {},
     "output_type": "display_data"
    },
    {
     "data": {
      "text/plain": [
       "  0%|          | 0/29 [00:00<?, ?it/s]"
      ],
      "application/vnd.jupyter.widget-view+json": {
       "version_major": 2,
       "version_minor": 0,
       "model_id": "699fd408cc24437181cd4a18a940be06"
      }
     },
     "metadata": {},
     "output_type": "display_data"
    },
    {
     "data": {
      "text/plain": [
       "  0%|          | 0/29 [00:00<?, ?it/s]"
      ],
      "application/vnd.jupyter.widget-view+json": {
       "version_major": 2,
       "version_minor": 0,
       "model_id": "711e76be1ce640579792478dfbdf1e4a"
      }
     },
     "metadata": {},
     "output_type": "display_data"
    },
    {
     "data": {
      "text/plain": [
       "  0%|          | 0/29 [00:00<?, ?it/s]"
      ],
      "application/vnd.jupyter.widget-view+json": {
       "version_major": 2,
       "version_minor": 0,
       "model_id": "a2c14a1884bf4782b07f89c4da052b87"
      }
     },
     "metadata": {},
     "output_type": "display_data"
    },
    {
     "data": {
      "text/plain": [
       "  0%|          | 0/29 [00:00<?, ?it/s]"
      ],
      "application/vnd.jupyter.widget-view+json": {
       "version_major": 2,
       "version_minor": 0,
       "model_id": "c9389e4342264c58ba0b86c4d34ef9b4"
      }
     },
     "metadata": {},
     "output_type": "display_data"
    },
    {
     "data": {
      "text/plain": [
       "  0%|          | 0/29 [00:00<?, ?it/s]"
      ],
      "application/vnd.jupyter.widget-view+json": {
       "version_major": 2,
       "version_minor": 0,
       "model_id": "ade8342d16cc4cfeba014b9cd597f9be"
      }
     },
     "metadata": {},
     "output_type": "display_data"
    },
    {
     "data": {
      "text/plain": [
       "  0%|          | 0/29 [00:00<?, ?it/s]"
      ],
      "application/vnd.jupyter.widget-view+json": {
       "version_major": 2,
       "version_minor": 0,
       "model_id": "f8b1e085f0d047cc8c670c3aa31e3784"
      }
     },
     "metadata": {},
     "output_type": "display_data"
    },
    {
     "data": {
      "text/plain": [
       "  0%|          | 0/29 [00:00<?, ?it/s]"
      ],
      "application/vnd.jupyter.widget-view+json": {
       "version_major": 2,
       "version_minor": 0,
       "model_id": "77bc059078ce44609695264e45cde61f"
      }
     },
     "metadata": {},
     "output_type": "display_data"
    },
    {
     "data": {
      "text/plain": [
       "  0%|          | 0/29 [00:00<?, ?it/s]"
      ],
      "application/vnd.jupyter.widget-view+json": {
       "version_major": 2,
       "version_minor": 0,
       "model_id": "82688fddc0634205b44265cfa28b9a2f"
      }
     },
     "metadata": {},
     "output_type": "display_data"
    },
    {
     "data": {
      "text/plain": [
       "  0%|          | 0/29 [00:00<?, ?it/s]"
      ],
      "application/vnd.jupyter.widget-view+json": {
       "version_major": 2,
       "version_minor": 0,
       "model_id": "f04ff6b27ec649aeb1399c899c2dbad3"
      }
     },
     "metadata": {},
     "output_type": "display_data"
    },
    {
     "data": {
      "text/plain": [
       "  0%|          | 0/29 [00:00<?, ?it/s]"
      ],
      "application/vnd.jupyter.widget-view+json": {
       "version_major": 2,
       "version_minor": 0,
       "model_id": "114f4618547a4b3898b9d48df1177994"
      }
     },
     "metadata": {},
     "output_type": "display_data"
    },
    {
     "data": {
      "text/plain": [
       "  0%|          | 0/29 [00:00<?, ?it/s]"
      ],
      "application/vnd.jupyter.widget-view+json": {
       "version_major": 2,
       "version_minor": 0,
       "model_id": "e4a9796581b84f20b0d26c9d3b31b066"
      }
     },
     "metadata": {},
     "output_type": "display_data"
    },
    {
     "data": {
      "text/plain": [
       "  0%|          | 0/29 [00:00<?, ?it/s]"
      ],
      "application/vnd.jupyter.widget-view+json": {
       "version_major": 2,
       "version_minor": 0,
       "model_id": "338a92d9047e4df9854706776f05ae33"
      }
     },
     "metadata": {},
     "output_type": "display_data"
    },
    {
     "data": {
      "text/plain": [
       "  0%|          | 0/29 [00:00<?, ?it/s]"
      ],
      "application/vnd.jupyter.widget-view+json": {
       "version_major": 2,
       "version_minor": 0,
       "model_id": "4c306af70a3b432993024422eeecb4c0"
      }
     },
     "metadata": {},
     "output_type": "display_data"
    },
    {
     "data": {
      "text/plain": [
       "  0%|          | 0/29 [00:00<?, ?it/s]"
      ],
      "application/vnd.jupyter.widget-view+json": {
       "version_major": 2,
       "version_minor": 0,
       "model_id": "84c68b25847d4eee8a492c42b3e7a940"
      }
     },
     "metadata": {},
     "output_type": "display_data"
    },
    {
     "data": {
      "text/plain": [
       "  0%|          | 0/29 [00:00<?, ?it/s]"
      ],
      "application/vnd.jupyter.widget-view+json": {
       "version_major": 2,
       "version_minor": 0,
       "model_id": "e245144971b54093ae271786d3d4a30e"
      }
     },
     "metadata": {},
     "output_type": "display_data"
    },
    {
     "data": {
      "text/plain": [
       "  0%|          | 0/29 [00:00<?, ?it/s]"
      ],
      "application/vnd.jupyter.widget-view+json": {
       "version_major": 2,
       "version_minor": 0,
       "model_id": "968517d6c14942b0916127cc2d300b00"
      }
     },
     "metadata": {},
     "output_type": "display_data"
    },
    {
     "data": {
      "text/plain": [
       "  0%|          | 0/29 [00:00<?, ?it/s]"
      ],
      "application/vnd.jupyter.widget-view+json": {
       "version_major": 2,
       "version_minor": 0,
       "model_id": "085e5b2d9e314d76a71293360017bb10"
      }
     },
     "metadata": {},
     "output_type": "display_data"
    },
    {
     "data": {
      "text/plain": [
       "  0%|          | 0/29 [00:00<?, ?it/s]"
      ],
      "application/vnd.jupyter.widget-view+json": {
       "version_major": 2,
       "version_minor": 0,
       "model_id": "9088e5236fab43d280762dc8351ddff2"
      }
     },
     "metadata": {},
     "output_type": "display_data"
    },
    {
     "data": {
      "text/plain": [
       "  0%|          | 0/29 [00:00<?, ?it/s]"
      ],
      "application/vnd.jupyter.widget-view+json": {
       "version_major": 2,
       "version_minor": 0,
       "model_id": "45f109aabc23443f8cbe79ebce887591"
      }
     },
     "metadata": {},
     "output_type": "display_data"
    },
    {
     "data": {
      "text/plain": [
       "  0%|          | 0/29 [00:00<?, ?it/s]"
      ],
      "application/vnd.jupyter.widget-view+json": {
       "version_major": 2,
       "version_minor": 0,
       "model_id": "400c7f6d92cc4e9281d3c546f43a70e0"
      }
     },
     "metadata": {},
     "output_type": "display_data"
    },
    {
     "data": {
      "text/plain": [
       "  0%|          | 0/29 [00:00<?, ?it/s]"
      ],
      "application/vnd.jupyter.widget-view+json": {
       "version_major": 2,
       "version_minor": 0,
       "model_id": "00f7ba9833e844d08df750ffbf99e7aa"
      }
     },
     "metadata": {},
     "output_type": "display_data"
    },
    {
     "data": {
      "text/plain": [
       "  0%|          | 0/29 [00:00<?, ?it/s]"
      ],
      "application/vnd.jupyter.widget-view+json": {
       "version_major": 2,
       "version_minor": 0,
       "model_id": "c06593704a954215aa77b78b46fe6eba"
      }
     },
     "metadata": {},
     "output_type": "display_data"
    },
    {
     "data": {
      "text/plain": [
       "  0%|          | 0/29 [00:00<?, ?it/s]"
      ],
      "application/vnd.jupyter.widget-view+json": {
       "version_major": 2,
       "version_minor": 0,
       "model_id": "cb13a7b61c964e9d88e5589c9770c223"
      }
     },
     "metadata": {},
     "output_type": "display_data"
    },
    {
     "data": {
      "text/plain": [
       "  0%|          | 0/29 [00:00<?, ?it/s]"
      ],
      "application/vnd.jupyter.widget-view+json": {
       "version_major": 2,
       "version_minor": 0,
       "model_id": "a8620c3a197c4396ac2f930b196891e9"
      }
     },
     "metadata": {},
     "output_type": "display_data"
    },
    {
     "data": {
      "text/plain": [
       "  0%|          | 0/29 [00:00<?, ?it/s]"
      ],
      "application/vnd.jupyter.widget-view+json": {
       "version_major": 2,
       "version_minor": 0,
       "model_id": "b503cc496c5a4b969512be54925f04fc"
      }
     },
     "metadata": {},
     "output_type": "display_data"
    },
    {
     "data": {
      "text/plain": [
       "  0%|          | 0/29 [00:00<?, ?it/s]"
      ],
      "application/vnd.jupyter.widget-view+json": {
       "version_major": 2,
       "version_minor": 0,
       "model_id": "07880e090f3844eba7a565bbda4fa4ae"
      }
     },
     "metadata": {},
     "output_type": "display_data"
    },
    {
     "data": {
      "text/plain": [
       "  0%|          | 0/29 [00:00<?, ?it/s]"
      ],
      "application/vnd.jupyter.widget-view+json": {
       "version_major": 2,
       "version_minor": 0,
       "model_id": "b1fb9b45d08149429ca7af6c9f906bd3"
      }
     },
     "metadata": {},
     "output_type": "display_data"
    },
    {
     "data": {
      "text/plain": [
       "  0%|          | 0/29 [00:00<?, ?it/s]"
      ],
      "application/vnd.jupyter.widget-view+json": {
       "version_major": 2,
       "version_minor": 0,
       "model_id": "7182766660fb4a65a3127803e8b6af8a"
      }
     },
     "metadata": {},
     "output_type": "display_data"
    },
    {
     "data": {
      "text/plain": [
       "  0%|          | 0/29 [00:00<?, ?it/s]"
      ],
      "application/vnd.jupyter.widget-view+json": {
       "version_major": 2,
       "version_minor": 0,
       "model_id": "8ec849ed170a4217b307a64ce482df35"
      }
     },
     "metadata": {},
     "output_type": "display_data"
    },
    {
     "data": {
      "text/plain": [
       "  0%|          | 0/29 [00:00<?, ?it/s]"
      ],
      "application/vnd.jupyter.widget-view+json": {
       "version_major": 2,
       "version_minor": 0,
       "model_id": "32638cb130dc44e68ee1a087a9df0436"
      }
     },
     "metadata": {},
     "output_type": "display_data"
    },
    {
     "data": {
      "text/plain": [
       "  0%|          | 0/29 [00:00<?, ?it/s]"
      ],
      "application/vnd.jupyter.widget-view+json": {
       "version_major": 2,
       "version_minor": 0,
       "model_id": "a7cb1aae31224c3bacdd7e8408682aed"
      }
     },
     "metadata": {},
     "output_type": "display_data"
    },
    {
     "data": {
      "text/plain": [
       "  0%|          | 0/29 [00:00<?, ?it/s]"
      ],
      "application/vnd.jupyter.widget-view+json": {
       "version_major": 2,
       "version_minor": 0,
       "model_id": "871ad6a97c704ecdacf592e3b4a51dc2"
      }
     },
     "metadata": {},
     "output_type": "display_data"
    },
    {
     "data": {
      "text/plain": [
       "  0%|          | 0/29 [00:00<?, ?it/s]"
      ],
      "application/vnd.jupyter.widget-view+json": {
       "version_major": 2,
       "version_minor": 0,
       "model_id": "f06c1ba0d4b14a3a9d8f6bf669ff2ede"
      }
     },
     "metadata": {},
     "output_type": "display_data"
    },
    {
     "data": {
      "text/plain": [
       "  0%|          | 0/29 [00:00<?, ?it/s]"
      ],
      "application/vnd.jupyter.widget-view+json": {
       "version_major": 2,
       "version_minor": 0,
       "model_id": "61f6bf08bb8f42bb834bed3bb11545dc"
      }
     },
     "metadata": {},
     "output_type": "display_data"
    },
    {
     "data": {
      "text/plain": [
       "  0%|          | 0/29 [00:00<?, ?it/s]"
      ],
      "application/vnd.jupyter.widget-view+json": {
       "version_major": 2,
       "version_minor": 0,
       "model_id": "c921995de1d744b881a04ab7ff9c5b42"
      }
     },
     "metadata": {},
     "output_type": "display_data"
    },
    {
     "data": {
      "text/plain": [
       "  0%|          | 0/29 [00:00<?, ?it/s]"
      ],
      "application/vnd.jupyter.widget-view+json": {
       "version_major": 2,
       "version_minor": 0,
       "model_id": "0217502cd76246afa80f8bd495c20b2b"
      }
     },
     "metadata": {},
     "output_type": "display_data"
    },
    {
     "data": {
      "text/plain": [
       "  0%|          | 0/29 [00:00<?, ?it/s]"
      ],
      "application/vnd.jupyter.widget-view+json": {
       "version_major": 2,
       "version_minor": 0,
       "model_id": "7d1b53b265d949ecb7c73a6f65d696ce"
      }
     },
     "metadata": {},
     "output_type": "display_data"
    },
    {
     "data": {
      "text/plain": [
       "  0%|          | 0/29 [00:00<?, ?it/s]"
      ],
      "application/vnd.jupyter.widget-view+json": {
       "version_major": 2,
       "version_minor": 0,
       "model_id": "4e0b94a342ee469a83cf1183075b92de"
      }
     },
     "metadata": {},
     "output_type": "display_data"
    },
    {
     "data": {
      "text/plain": [
       "  0%|          | 0/29 [00:00<?, ?it/s]"
      ],
      "application/vnd.jupyter.widget-view+json": {
       "version_major": 2,
       "version_minor": 0,
       "model_id": "a9d2181ea976459ebf5725e838c58ca4"
      }
     },
     "metadata": {},
     "output_type": "display_data"
    },
    {
     "data": {
      "text/plain": [
       "  0%|          | 0/29 [00:00<?, ?it/s]"
      ],
      "application/vnd.jupyter.widget-view+json": {
       "version_major": 2,
       "version_minor": 0,
       "model_id": "5df4651b91f94d62997bc5d22a1cf79f"
      }
     },
     "metadata": {},
     "output_type": "display_data"
    },
    {
     "data": {
      "text/plain": [
       "  0%|          | 0/29 [00:00<?, ?it/s]"
      ],
      "application/vnd.jupyter.widget-view+json": {
       "version_major": 2,
       "version_minor": 0,
       "model_id": "85a3d1f4843c494cb1a2557f5744ca87"
      }
     },
     "metadata": {},
     "output_type": "display_data"
    },
    {
     "data": {
      "text/plain": [
       "  0%|          | 0/29 [00:00<?, ?it/s]"
      ],
      "application/vnd.jupyter.widget-view+json": {
       "version_major": 2,
       "version_minor": 0,
       "model_id": "9caecf760fec4263840dc76aa4c6cb2a"
      }
     },
     "metadata": {},
     "output_type": "display_data"
    },
    {
     "data": {
      "text/plain": [
       "  0%|          | 0/29 [00:00<?, ?it/s]"
      ],
      "application/vnd.jupyter.widget-view+json": {
       "version_major": 2,
       "version_minor": 0,
       "model_id": "876f7096607a45e0bdd9b393ec7ea9dd"
      }
     },
     "metadata": {},
     "output_type": "display_data"
    },
    {
     "data": {
      "text/plain": [
       "  0%|          | 0/29 [00:00<?, ?it/s]"
      ],
      "application/vnd.jupyter.widget-view+json": {
       "version_major": 2,
       "version_minor": 0,
       "model_id": "09c5e96ef9934a7d9b261a9c5d329862"
      }
     },
     "metadata": {},
     "output_type": "display_data"
    },
    {
     "data": {
      "text/plain": [
       "  0%|          | 0/29 [00:00<?, ?it/s]"
      ],
      "application/vnd.jupyter.widget-view+json": {
       "version_major": 2,
       "version_minor": 0,
       "model_id": "2f97f6063c5f4767a8b64c8345424e83"
      }
     },
     "metadata": {},
     "output_type": "display_data"
    },
    {
     "data": {
      "text/plain": [
       "  0%|          | 0/29 [00:00<?, ?it/s]"
      ],
      "application/vnd.jupyter.widget-view+json": {
       "version_major": 2,
       "version_minor": 0,
       "model_id": "648f7c65c8ab425a86a70c6284aa493f"
      }
     },
     "metadata": {},
     "output_type": "display_data"
    },
    {
     "data": {
      "text/plain": [
       "  0%|          | 0/29 [00:00<?, ?it/s]"
      ],
      "application/vnd.jupyter.widget-view+json": {
       "version_major": 2,
       "version_minor": 0,
       "model_id": "e3f493b0a4ec47dcbb091820178f5277"
      }
     },
     "metadata": {},
     "output_type": "display_data"
    },
    {
     "data": {
      "text/plain": [
       "  0%|          | 0/29 [00:00<?, ?it/s]"
      ],
      "application/vnd.jupyter.widget-view+json": {
       "version_major": 2,
       "version_minor": 0,
       "model_id": "4b7efd5bd7cf42108005418baff7bb8c"
      }
     },
     "metadata": {},
     "output_type": "display_data"
    },
    {
     "data": {
      "text/plain": [
       "  0%|          | 0/29 [00:00<?, ?it/s]"
      ],
      "application/vnd.jupyter.widget-view+json": {
       "version_major": 2,
       "version_minor": 0,
       "model_id": "f0daa5806eee4127a5f9f512d1180365"
      }
     },
     "metadata": {},
     "output_type": "display_data"
    },
    {
     "data": {
      "text/plain": [
       "  0%|          | 0/29 [00:00<?, ?it/s]"
      ],
      "application/vnd.jupyter.widget-view+json": {
       "version_major": 2,
       "version_minor": 0,
       "model_id": "932b00d99dda4ca8b3cf7ec84b91aa30"
      }
     },
     "metadata": {},
     "output_type": "display_data"
    },
    {
     "data": {
      "text/plain": [
       "  0%|          | 0/29 [00:00<?, ?it/s]"
      ],
      "application/vnd.jupyter.widget-view+json": {
       "version_major": 2,
       "version_minor": 0,
       "model_id": "6a9d616567174728bcd4c0d01e3ce541"
      }
     },
     "metadata": {},
     "output_type": "display_data"
    },
    {
     "data": {
      "text/plain": [
       "  0%|          | 0/29 [00:00<?, ?it/s]"
      ],
      "application/vnd.jupyter.widget-view+json": {
       "version_major": 2,
       "version_minor": 0,
       "model_id": "4a12db8e5b2a476da898ee95867fff5f"
      }
     },
     "metadata": {},
     "output_type": "display_data"
    },
    {
     "data": {
      "text/plain": [
       "  0%|          | 0/29 [00:00<?, ?it/s]"
      ],
      "application/vnd.jupyter.widget-view+json": {
       "version_major": 2,
       "version_minor": 0,
       "model_id": "76acfc28f4664de5a96ec175ba76c399"
      }
     },
     "metadata": {},
     "output_type": "display_data"
    },
    {
     "data": {
      "text/plain": [
       "  0%|          | 0/29 [00:00<?, ?it/s]"
      ],
      "application/vnd.jupyter.widget-view+json": {
       "version_major": 2,
       "version_minor": 0,
       "model_id": "2bee0b65663840a1a2ff8d22c032cc53"
      }
     },
     "metadata": {},
     "output_type": "display_data"
    },
    {
     "data": {
      "text/plain": [
       "  0%|          | 0/29 [00:00<?, ?it/s]"
      ],
      "application/vnd.jupyter.widget-view+json": {
       "version_major": 2,
       "version_minor": 0,
       "model_id": "4a65a9c5ab0948f6a59820e2137a00dc"
      }
     },
     "metadata": {},
     "output_type": "display_data"
    },
    {
     "data": {
      "text/plain": [
       "  0%|          | 0/29 [00:00<?, ?it/s]"
      ],
      "application/vnd.jupyter.widget-view+json": {
       "version_major": 2,
       "version_minor": 0,
       "model_id": "1bf1cbd1bdd9482a89323a671b96469b"
      }
     },
     "metadata": {},
     "output_type": "display_data"
    },
    {
     "data": {
      "text/plain": [
       "  0%|          | 0/29 [00:00<?, ?it/s]"
      ],
      "application/vnd.jupyter.widget-view+json": {
       "version_major": 2,
       "version_minor": 0,
       "model_id": "0896efd4af7c452bb814cb2c6e2cdb92"
      }
     },
     "metadata": {},
     "output_type": "display_data"
    },
    {
     "data": {
      "text/plain": [
       "  0%|          | 0/29 [00:00<?, ?it/s]"
      ],
      "application/vnd.jupyter.widget-view+json": {
       "version_major": 2,
       "version_minor": 0,
       "model_id": "994d96980c8440ddbcb41364f50af881"
      }
     },
     "metadata": {},
     "output_type": "display_data"
    },
    {
     "data": {
      "text/plain": [
       "  0%|          | 0/29 [00:00<?, ?it/s]"
      ],
      "application/vnd.jupyter.widget-view+json": {
       "version_major": 2,
       "version_minor": 0,
       "model_id": "742338dddf2b42899419763d16d470d3"
      }
     },
     "metadata": {},
     "output_type": "display_data"
    },
    {
     "data": {
      "text/plain": [
       "  0%|          | 0/29 [00:00<?, ?it/s]"
      ],
      "application/vnd.jupyter.widget-view+json": {
       "version_major": 2,
       "version_minor": 0,
       "model_id": "7150bfe2bfa64d32959c01a47b1a83cc"
      }
     },
     "metadata": {},
     "output_type": "display_data"
    },
    {
     "data": {
      "text/plain": [
       "  0%|          | 0/29 [00:00<?, ?it/s]"
      ],
      "application/vnd.jupyter.widget-view+json": {
       "version_major": 2,
       "version_minor": 0,
       "model_id": "d1fec32a0b334a51b43dcbccd438362b"
      }
     },
     "metadata": {},
     "output_type": "display_data"
    },
    {
     "data": {
      "text/plain": [
       "  0%|          | 0/29 [00:00<?, ?it/s]"
      ],
      "application/vnd.jupyter.widget-view+json": {
       "version_major": 2,
       "version_minor": 0,
       "model_id": "aba0bbcd4a2d48d58c03a9acc05cacc7"
      }
     },
     "metadata": {},
     "output_type": "display_data"
    },
    {
     "data": {
      "text/plain": [
       "  0%|          | 0/29 [00:00<?, ?it/s]"
      ],
      "application/vnd.jupyter.widget-view+json": {
       "version_major": 2,
       "version_minor": 0,
       "model_id": "01337abc65ec449c984c3e85c3670d5a"
      }
     },
     "metadata": {},
     "output_type": "display_data"
    },
    {
     "data": {
      "text/plain": [
       "  0%|          | 0/29 [00:00<?, ?it/s]"
      ],
      "application/vnd.jupyter.widget-view+json": {
       "version_major": 2,
       "version_minor": 0,
       "model_id": "4564b573e0a943748113ea446191b0f0"
      }
     },
     "metadata": {},
     "output_type": "display_data"
    },
    {
     "data": {
      "text/plain": [
       "  0%|          | 0/29 [00:00<?, ?it/s]"
      ],
      "application/vnd.jupyter.widget-view+json": {
       "version_major": 2,
       "version_minor": 0,
       "model_id": "261ad021ba81417a8072132d294f3f05"
      }
     },
     "metadata": {},
     "output_type": "display_data"
    },
    {
     "data": {
      "text/plain": [
       "  0%|          | 0/29 [00:00<?, ?it/s]"
      ],
      "application/vnd.jupyter.widget-view+json": {
       "version_major": 2,
       "version_minor": 0,
       "model_id": "d5a9ad8d998842368050c02e0b3c47da"
      }
     },
     "metadata": {},
     "output_type": "display_data"
    },
    {
     "data": {
      "text/plain": [
       "  0%|          | 0/29 [00:00<?, ?it/s]"
      ],
      "application/vnd.jupyter.widget-view+json": {
       "version_major": 2,
       "version_minor": 0,
       "model_id": "2ba9a8c311d143ae832c920bf9704cfb"
      }
     },
     "metadata": {},
     "output_type": "display_data"
    },
    {
     "data": {
      "text/plain": [
       "  0%|          | 0/29 [00:00<?, ?it/s]"
      ],
      "application/vnd.jupyter.widget-view+json": {
       "version_major": 2,
       "version_minor": 0,
       "model_id": "61090effd4db4e66bc41a12c961c8ed7"
      }
     },
     "metadata": {},
     "output_type": "display_data"
    },
    {
     "data": {
      "text/plain": [
       "  0%|          | 0/29 [00:00<?, ?it/s]"
      ],
      "application/vnd.jupyter.widget-view+json": {
       "version_major": 2,
       "version_minor": 0,
       "model_id": "20951d147c6944679b5e2d44fe3566d6"
      }
     },
     "metadata": {},
     "output_type": "display_data"
    },
    {
     "data": {
      "text/plain": [
       "  0%|          | 0/29 [00:00<?, ?it/s]"
      ],
      "application/vnd.jupyter.widget-view+json": {
       "version_major": 2,
       "version_minor": 0,
       "model_id": "f2b4ac031e1d4ecd886f827755742d75"
      }
     },
     "metadata": {},
     "output_type": "display_data"
    },
    {
     "data": {
      "text/plain": [
       "  0%|          | 0/29 [00:00<?, ?it/s]"
      ],
      "application/vnd.jupyter.widget-view+json": {
       "version_major": 2,
       "version_minor": 0,
       "model_id": "eac53fcb544f4e80b238fe6fba1d1b3d"
      }
     },
     "metadata": {},
     "output_type": "display_data"
    },
    {
     "data": {
      "text/plain": [
       "  0%|          | 0/29 [00:00<?, ?it/s]"
      ],
      "application/vnd.jupyter.widget-view+json": {
       "version_major": 2,
       "version_minor": 0,
       "model_id": "4756e2444167434aa1a37f1f1c5faefd"
      }
     },
     "metadata": {},
     "output_type": "display_data"
    },
    {
     "data": {
      "text/plain": [
       "  0%|          | 0/29 [00:00<?, ?it/s]"
      ],
      "application/vnd.jupyter.widget-view+json": {
       "version_major": 2,
       "version_minor": 0,
       "model_id": "d8601a86be914d9d99f7db14a3a7fd9b"
      }
     },
     "metadata": {},
     "output_type": "display_data"
    },
    {
     "data": {
      "text/plain": [
       "  0%|          | 0/29 [00:00<?, ?it/s]"
      ],
      "application/vnd.jupyter.widget-view+json": {
       "version_major": 2,
       "version_minor": 0,
       "model_id": "366cd18faa97401abea799250f19237b"
      }
     },
     "metadata": {},
     "output_type": "display_data"
    },
    {
     "data": {
      "text/plain": [
       "  0%|          | 0/29 [00:00<?, ?it/s]"
      ],
      "application/vnd.jupyter.widget-view+json": {
       "version_major": 2,
       "version_minor": 0,
       "model_id": "180fa75352134c5ea6948cd537ab7b7c"
      }
     },
     "metadata": {},
     "output_type": "display_data"
    },
    {
     "data": {
      "text/plain": [
       "  0%|          | 0/29 [00:00<?, ?it/s]"
      ],
      "application/vnd.jupyter.widget-view+json": {
       "version_major": 2,
       "version_minor": 0,
       "model_id": "8dc49e8ca07041e5b28a8f636bf1b255"
      }
     },
     "metadata": {},
     "output_type": "display_data"
    },
    {
     "data": {
      "text/plain": [
       "  0%|          | 0/29 [00:00<?, ?it/s]"
      ],
      "application/vnd.jupyter.widget-view+json": {
       "version_major": 2,
       "version_minor": 0,
       "model_id": "a7568f176e68402f87b4f9460a9aed0f"
      }
     },
     "metadata": {},
     "output_type": "display_data"
    },
    {
     "data": {
      "text/plain": [
       "  0%|          | 0/29 [00:00<?, ?it/s]"
      ],
      "application/vnd.jupyter.widget-view+json": {
       "version_major": 2,
       "version_minor": 0,
       "model_id": "b13f1c3400404642b8e951e9908d3a1e"
      }
     },
     "metadata": {},
     "output_type": "display_data"
    },
    {
     "data": {
      "text/plain": [
       "  0%|          | 0/29 [00:00<?, ?it/s]"
      ],
      "application/vnd.jupyter.widget-view+json": {
       "version_major": 2,
       "version_minor": 0,
       "model_id": "6b34a3dea718408499d585aae7464a10"
      }
     },
     "metadata": {},
     "output_type": "display_data"
    },
    {
     "data": {
      "text/plain": [
       "  0%|          | 0/29 [00:00<?, ?it/s]"
      ],
      "application/vnd.jupyter.widget-view+json": {
       "version_major": 2,
       "version_minor": 0,
       "model_id": "8647ec61f315411d89d996b9cd25f208"
      }
     },
     "metadata": {},
     "output_type": "display_data"
    },
    {
     "data": {
      "text/plain": [
       "  0%|          | 0/29 [00:00<?, ?it/s]"
      ],
      "application/vnd.jupyter.widget-view+json": {
       "version_major": 2,
       "version_minor": 0,
       "model_id": "d76f1a8f7b494786bb03bd49accc87cd"
      }
     },
     "metadata": {},
     "output_type": "display_data"
    },
    {
     "data": {
      "text/plain": [
       "  0%|          | 0/29 [00:00<?, ?it/s]"
      ],
      "application/vnd.jupyter.widget-view+json": {
       "version_major": 2,
       "version_minor": 0,
       "model_id": "1dc006ac685345978ea996cda2aa3382"
      }
     },
     "metadata": {},
     "output_type": "display_data"
    },
    {
     "data": {
      "text/plain": [
       "  0%|          | 0/29 [00:00<?, ?it/s]"
      ],
      "application/vnd.jupyter.widget-view+json": {
       "version_major": 2,
       "version_minor": 0,
       "model_id": "662b105f124f45818a5abce97ebd062f"
      }
     },
     "metadata": {},
     "output_type": "display_data"
    },
    {
     "data": {
      "text/plain": [
       "  0%|          | 0/29 [00:00<?, ?it/s]"
      ],
      "application/vnd.jupyter.widget-view+json": {
       "version_major": 2,
       "version_minor": 0,
       "model_id": "bd675a23cb774916ae61b3cc606649a8"
      }
     },
     "metadata": {},
     "output_type": "display_data"
    },
    {
     "data": {
      "text/plain": [
       "  0%|          | 0/29 [00:00<?, ?it/s]"
      ],
      "application/vnd.jupyter.widget-view+json": {
       "version_major": 2,
       "version_minor": 0,
       "model_id": "3b1d0325e24b47d799a2f52613140805"
      }
     },
     "metadata": {},
     "output_type": "display_data"
    },
    {
     "data": {
      "text/plain": [
       "  0%|          | 0/29 [00:00<?, ?it/s]"
      ],
      "application/vnd.jupyter.widget-view+json": {
       "version_major": 2,
       "version_minor": 0,
       "model_id": "f2ae21096ede46a1a5563ba50a8ba945"
      }
     },
     "metadata": {},
     "output_type": "display_data"
    },
    {
     "data": {
      "text/plain": [
       "  0%|          | 0/29 [00:00<?, ?it/s]"
      ],
      "application/vnd.jupyter.widget-view+json": {
       "version_major": 2,
       "version_minor": 0,
       "model_id": "910c3945d83147a1bfd91cf63f7e81e6"
      }
     },
     "metadata": {},
     "output_type": "display_data"
    },
    {
     "data": {
      "text/plain": [
       "  0%|          | 0/29 [00:00<?, ?it/s]"
      ],
      "application/vnd.jupyter.widget-view+json": {
       "version_major": 2,
       "version_minor": 0,
       "model_id": "dc4c364d36574591b5f35962a6c5b05c"
      }
     },
     "metadata": {},
     "output_type": "display_data"
    },
    {
     "data": {
      "text/plain": [
       "  0%|          | 0/29 [00:00<?, ?it/s]"
      ],
      "application/vnd.jupyter.widget-view+json": {
       "version_major": 2,
       "version_minor": 0,
       "model_id": "0616c751b4554853ab3ad49f5fbfa073"
      }
     },
     "metadata": {},
     "output_type": "display_data"
    },
    {
     "data": {
      "text/plain": [
       "  0%|          | 0/29 [00:00<?, ?it/s]"
      ],
      "application/vnd.jupyter.widget-view+json": {
       "version_major": 2,
       "version_minor": 0,
       "model_id": "78eb8e1fcd8249688d8070827f9eb4a0"
      }
     },
     "metadata": {},
     "output_type": "display_data"
    },
    {
     "data": {
      "text/plain": [
       "  0%|          | 0/29 [00:00<?, ?it/s]"
      ],
      "application/vnd.jupyter.widget-view+json": {
       "version_major": 2,
       "version_minor": 0,
       "model_id": "1ac23d38c815447a8d32c88ed1306810"
      }
     },
     "metadata": {},
     "output_type": "display_data"
    },
    {
     "data": {
      "text/plain": [
       "  0%|          | 0/29 [00:00<?, ?it/s]"
      ],
      "application/vnd.jupyter.widget-view+json": {
       "version_major": 2,
       "version_minor": 0,
       "model_id": "3c0544766e644249ae9dd179adefa6a9"
      }
     },
     "metadata": {},
     "output_type": "display_data"
    },
    {
     "data": {
      "text/plain": [
       "  0%|          | 0/29 [00:00<?, ?it/s]"
      ],
      "application/vnd.jupyter.widget-view+json": {
       "version_major": 2,
       "version_minor": 0,
       "model_id": "350c9a594e24414383d187e0f0891245"
      }
     },
     "metadata": {},
     "output_type": "display_data"
    },
    {
     "data": {
      "text/plain": [
       "  0%|          | 0/29 [00:00<?, ?it/s]"
      ],
      "application/vnd.jupyter.widget-view+json": {
       "version_major": 2,
       "version_minor": 0,
       "model_id": "4ffabe4becee4ae28cc4aaae184323e4"
      }
     },
     "metadata": {},
     "output_type": "display_data"
    },
    {
     "data": {
      "text/plain": [
       "  0%|          | 0/29 [00:00<?, ?it/s]"
      ],
      "application/vnd.jupyter.widget-view+json": {
       "version_major": 2,
       "version_minor": 0,
       "model_id": "66b98df7d26b495a8cffa0e0799df754"
      }
     },
     "metadata": {},
     "output_type": "display_data"
    },
    {
     "data": {
      "text/plain": [
       "  0%|          | 0/29 [00:00<?, ?it/s]"
      ],
      "application/vnd.jupyter.widget-view+json": {
       "version_major": 2,
       "version_minor": 0,
       "model_id": "c7cf275962674e05b858a1e58b30aaf8"
      }
     },
     "metadata": {},
     "output_type": "display_data"
    },
    {
     "data": {
      "text/plain": [
       "  0%|          | 0/29 [00:00<?, ?it/s]"
      ],
      "application/vnd.jupyter.widget-view+json": {
       "version_major": 2,
       "version_minor": 0,
       "model_id": "b53d8018c76d4945a396164b8f4fcd10"
      }
     },
     "metadata": {},
     "output_type": "display_data"
    },
    {
     "data": {
      "text/plain": [
       "  0%|          | 0/29 [00:00<?, ?it/s]"
      ],
      "application/vnd.jupyter.widget-view+json": {
       "version_major": 2,
       "version_minor": 0,
       "model_id": "1f92ae9ee40542b9b13247c113a28f9c"
      }
     },
     "metadata": {},
     "output_type": "display_data"
    },
    {
     "data": {
      "text/plain": [
       "  0%|          | 0/29 [00:00<?, ?it/s]"
      ],
      "application/vnd.jupyter.widget-view+json": {
       "version_major": 2,
       "version_minor": 0,
       "model_id": "e8be4cf575ca4583ae1b4b32aa2282da"
      }
     },
     "metadata": {},
     "output_type": "display_data"
    },
    {
     "data": {
      "text/plain": [
       "  0%|          | 0/29 [00:00<?, ?it/s]"
      ],
      "application/vnd.jupyter.widget-view+json": {
       "version_major": 2,
       "version_minor": 0,
       "model_id": "14a5ae7e47f04b1b8a173df3bca65ec2"
      }
     },
     "metadata": {},
     "output_type": "display_data"
    },
    {
     "data": {
      "text/plain": [
       "  0%|          | 0/29 [00:00<?, ?it/s]"
      ],
      "application/vnd.jupyter.widget-view+json": {
       "version_major": 2,
       "version_minor": 0,
       "model_id": "851518fe3d3d476a9fc3bfbae071174f"
      }
     },
     "metadata": {},
     "output_type": "display_data"
    },
    {
     "data": {
      "text/plain": [
       "  0%|          | 0/29 [00:00<?, ?it/s]"
      ],
      "application/vnd.jupyter.widget-view+json": {
       "version_major": 2,
       "version_minor": 0,
       "model_id": "417d0840c5cf4b4b954bfd1637648ecc"
      }
     },
     "metadata": {},
     "output_type": "display_data"
    },
    {
     "data": {
      "text/plain": [
       "  0%|          | 0/29 [00:00<?, ?it/s]"
      ],
      "application/vnd.jupyter.widget-view+json": {
       "version_major": 2,
       "version_minor": 0,
       "model_id": "9bc10838b6504d6f9e1e3c68551afdf7"
      }
     },
     "metadata": {},
     "output_type": "display_data"
    },
    {
     "data": {
      "text/plain": [
       "  0%|          | 0/29 [00:00<?, ?it/s]"
      ],
      "application/vnd.jupyter.widget-view+json": {
       "version_major": 2,
       "version_minor": 0,
       "model_id": "03732a19389e4103a3eb34505f206078"
      }
     },
     "metadata": {},
     "output_type": "display_data"
    },
    {
     "data": {
      "text/plain": [
       "  0%|          | 0/29 [00:00<?, ?it/s]"
      ],
      "application/vnd.jupyter.widget-view+json": {
       "version_major": 2,
       "version_minor": 0,
       "model_id": "1f3c8ace9cce4287b70663e6f95b7840"
      }
     },
     "metadata": {},
     "output_type": "display_data"
    },
    {
     "data": {
      "text/plain": [
       "  0%|          | 0/29 [00:00<?, ?it/s]"
      ],
      "application/vnd.jupyter.widget-view+json": {
       "version_major": 2,
       "version_minor": 0,
       "model_id": "d3d288e42eb34a6a815eb09a27c8bcce"
      }
     },
     "metadata": {},
     "output_type": "display_data"
    },
    {
     "data": {
      "text/plain": [
       "  0%|          | 0/29 [00:00<?, ?it/s]"
      ],
      "application/vnd.jupyter.widget-view+json": {
       "version_major": 2,
       "version_minor": 0,
       "model_id": "4db69a8806264a9f82da10eed1d766da"
      }
     },
     "metadata": {},
     "output_type": "display_data"
    },
    {
     "data": {
      "text/plain": [
       "  0%|          | 0/29 [00:00<?, ?it/s]"
      ],
      "application/vnd.jupyter.widget-view+json": {
       "version_major": 2,
       "version_minor": 0,
       "model_id": "57bd5029b1df4fef830366e786f245ae"
      }
     },
     "metadata": {},
     "output_type": "display_data"
    },
    {
     "data": {
      "text/plain": [
       "  0%|          | 0/29 [00:00<?, ?it/s]"
      ],
      "application/vnd.jupyter.widget-view+json": {
       "version_major": 2,
       "version_minor": 0,
       "model_id": "9ca59cb052d2416e917471483fc8874c"
      }
     },
     "metadata": {},
     "output_type": "display_data"
    },
    {
     "data": {
      "text/plain": [
       "  0%|          | 0/29 [00:00<?, ?it/s]"
      ],
      "application/vnd.jupyter.widget-view+json": {
       "version_major": 2,
       "version_minor": 0,
       "model_id": "147f38bf4ccb41d793a1a97e81c1f47c"
      }
     },
     "metadata": {},
     "output_type": "display_data"
    },
    {
     "data": {
      "text/plain": [
       "  0%|          | 0/29 [00:00<?, ?it/s]"
      ],
      "application/vnd.jupyter.widget-view+json": {
       "version_major": 2,
       "version_minor": 0,
       "model_id": "a2424b539c224bb3a2f0661d0504afdb"
      }
     },
     "metadata": {},
     "output_type": "display_data"
    },
    {
     "data": {
      "text/plain": [
       "  0%|          | 0/29 [00:00<?, ?it/s]"
      ],
      "application/vnd.jupyter.widget-view+json": {
       "version_major": 2,
       "version_minor": 0,
       "model_id": "fdd1b71d73704ffda33155f63d256883"
      }
     },
     "metadata": {},
     "output_type": "display_data"
    },
    {
     "data": {
      "text/plain": [
       "  0%|          | 0/29 [00:00<?, ?it/s]"
      ],
      "application/vnd.jupyter.widget-view+json": {
       "version_major": 2,
       "version_minor": 0,
       "model_id": "d0cd33487cb3487582e81b2076262f32"
      }
     },
     "metadata": {},
     "output_type": "display_data"
    },
    {
     "data": {
      "text/plain": [
       "  0%|          | 0/29 [00:00<?, ?it/s]"
      ],
      "application/vnd.jupyter.widget-view+json": {
       "version_major": 2,
       "version_minor": 0,
       "model_id": "c5ae7833b234466cb98ccb9826ab22c6"
      }
     },
     "metadata": {},
     "output_type": "display_data"
    },
    {
     "data": {
      "text/plain": [
       "  0%|          | 0/29 [00:00<?, ?it/s]"
      ],
      "application/vnd.jupyter.widget-view+json": {
       "version_major": 2,
       "version_minor": 0,
       "model_id": "d1c16f95bd6848f19733f99f75141fa5"
      }
     },
     "metadata": {},
     "output_type": "display_data"
    },
    {
     "data": {
      "text/plain": [
       "  0%|          | 0/29 [00:00<?, ?it/s]"
      ],
      "application/vnd.jupyter.widget-view+json": {
       "version_major": 2,
       "version_minor": 0,
       "model_id": "193ed9dc550f44d888b0130c390a311b"
      }
     },
     "metadata": {},
     "output_type": "display_data"
    },
    {
     "data": {
      "text/plain": [
       "  0%|          | 0/29 [00:00<?, ?it/s]"
      ],
      "application/vnd.jupyter.widget-view+json": {
       "version_major": 2,
       "version_minor": 0,
       "model_id": "f1d2bed7d03f40598ab66d1cc7e7ca4f"
      }
     },
     "metadata": {},
     "output_type": "display_data"
    },
    {
     "data": {
      "text/plain": [
       "  0%|          | 0/29 [00:00<?, ?it/s]"
      ],
      "application/vnd.jupyter.widget-view+json": {
       "version_major": 2,
       "version_minor": 0,
       "model_id": "72f07c7126ec43dab73820dc3ababa54"
      }
     },
     "metadata": {},
     "output_type": "display_data"
    },
    {
     "data": {
      "text/plain": [
       "  0%|          | 0/29 [00:00<?, ?it/s]"
      ],
      "application/vnd.jupyter.widget-view+json": {
       "version_major": 2,
       "version_minor": 0,
       "model_id": "aa99d0a789284524a915b15f3104837a"
      }
     },
     "metadata": {},
     "output_type": "display_data"
    },
    {
     "data": {
      "text/plain": [
       "  0%|          | 0/29 [00:00<?, ?it/s]"
      ],
      "application/vnd.jupyter.widget-view+json": {
       "version_major": 2,
       "version_minor": 0,
       "model_id": "ecf0e83778f74cf9b840d1010d2fb01a"
      }
     },
     "metadata": {},
     "output_type": "display_data"
    },
    {
     "data": {
      "text/plain": [
       "  0%|          | 0/29 [00:00<?, ?it/s]"
      ],
      "application/vnd.jupyter.widget-view+json": {
       "version_major": 2,
       "version_minor": 0,
       "model_id": "58e3dcddf8044bccac825eb1b8a9af28"
      }
     },
     "metadata": {},
     "output_type": "display_data"
    },
    {
     "data": {
      "text/plain": [
       "  0%|          | 0/29 [00:00<?, ?it/s]"
      ],
      "application/vnd.jupyter.widget-view+json": {
       "version_major": 2,
       "version_minor": 0,
       "model_id": "5d2063786b224d9c8f6f868cb9e2b2d6"
      }
     },
     "metadata": {},
     "output_type": "display_data"
    },
    {
     "data": {
      "text/plain": [
       "  0%|          | 0/29 [00:00<?, ?it/s]"
      ],
      "application/vnd.jupyter.widget-view+json": {
       "version_major": 2,
       "version_minor": 0,
       "model_id": "6ab990da87a548c6b9f996cc069f05be"
      }
     },
     "metadata": {},
     "output_type": "display_data"
    },
    {
     "data": {
      "text/plain": [
       "  0%|          | 0/29 [00:00<?, ?it/s]"
      ],
      "application/vnd.jupyter.widget-view+json": {
       "version_major": 2,
       "version_minor": 0,
       "model_id": "7c189f548ca74dea9ce5cfe46e1fa637"
      }
     },
     "metadata": {},
     "output_type": "display_data"
    },
    {
     "data": {
      "text/plain": [
       "  0%|          | 0/29 [00:00<?, ?it/s]"
      ],
      "application/vnd.jupyter.widget-view+json": {
       "version_major": 2,
       "version_minor": 0,
       "model_id": "f7c0dc42201a484cbe6b5c53a4abf12d"
      }
     },
     "metadata": {},
     "output_type": "display_data"
    },
    {
     "data": {
      "text/plain": [
       "  0%|          | 0/29 [00:00<?, ?it/s]"
      ],
      "application/vnd.jupyter.widget-view+json": {
       "version_major": 2,
       "version_minor": 0,
       "model_id": "a78ee7caee2c4c53bdd5e325489d4f21"
      }
     },
     "metadata": {},
     "output_type": "display_data"
    },
    {
     "data": {
      "text/plain": [
       "  0%|          | 0/29 [00:00<?, ?it/s]"
      ],
      "application/vnd.jupyter.widget-view+json": {
       "version_major": 2,
       "version_minor": 0,
       "model_id": "68fc78f0e2d74ad5958625c11f8dea0f"
      }
     },
     "metadata": {},
     "output_type": "display_data"
    },
    {
     "data": {
      "text/plain": [
       "  0%|          | 0/29 [00:00<?, ?it/s]"
      ],
      "application/vnd.jupyter.widget-view+json": {
       "version_major": 2,
       "version_minor": 0,
       "model_id": "06e7133449f64e0abe87a2129f3b1c84"
      }
     },
     "metadata": {},
     "output_type": "display_data"
    },
    {
     "data": {
      "text/plain": [
       "  0%|          | 0/29 [00:00<?, ?it/s]"
      ],
      "application/vnd.jupyter.widget-view+json": {
       "version_major": 2,
       "version_minor": 0,
       "model_id": "2f88d2e0e981476ca821a180b77eb70f"
      }
     },
     "metadata": {},
     "output_type": "display_data"
    },
    {
     "data": {
      "text/plain": [
       "  0%|          | 0/29 [00:00<?, ?it/s]"
      ],
      "application/vnd.jupyter.widget-view+json": {
       "version_major": 2,
       "version_minor": 0,
       "model_id": "576ca348a2154b47b67b3cb982a60aa0"
      }
     },
     "metadata": {},
     "output_type": "display_data"
    },
    {
     "data": {
      "text/plain": [
       "  0%|          | 0/29 [00:00<?, ?it/s]"
      ],
      "application/vnd.jupyter.widget-view+json": {
       "version_major": 2,
       "version_minor": 0,
       "model_id": "9573e1d5ce874df49d314f95ca8da00d"
      }
     },
     "metadata": {},
     "output_type": "display_data"
    },
    {
     "data": {
      "text/plain": [
       "  0%|          | 0/29 [00:00<?, ?it/s]"
      ],
      "application/vnd.jupyter.widget-view+json": {
       "version_major": 2,
       "version_minor": 0,
       "model_id": "bb677d86d72a461f9f40db43084e5495"
      }
     },
     "metadata": {},
     "output_type": "display_data"
    },
    {
     "data": {
      "text/plain": [
       "  0%|          | 0/29 [00:00<?, ?it/s]"
      ],
      "application/vnd.jupyter.widget-view+json": {
       "version_major": 2,
       "version_minor": 0,
       "model_id": "1ec6370a29814714a50c7e93de4adb12"
      }
     },
     "metadata": {},
     "output_type": "display_data"
    },
    {
     "data": {
      "text/plain": [
       "  0%|          | 0/29 [00:00<?, ?it/s]"
      ],
      "application/vnd.jupyter.widget-view+json": {
       "version_major": 2,
       "version_minor": 0,
       "model_id": "0fb34ce273514cdb85f9e379423aa54f"
      }
     },
     "metadata": {},
     "output_type": "display_data"
    },
    {
     "data": {
      "text/plain": [
       "  0%|          | 0/29 [00:00<?, ?it/s]"
      ],
      "application/vnd.jupyter.widget-view+json": {
       "version_major": 2,
       "version_minor": 0,
       "model_id": "44702f9deb9248c280cf2f8bad536d73"
      }
     },
     "metadata": {},
     "output_type": "display_data"
    },
    {
     "data": {
      "text/plain": [
       "  0%|          | 0/29 [00:00<?, ?it/s]"
      ],
      "application/vnd.jupyter.widget-view+json": {
       "version_major": 2,
       "version_minor": 0,
       "model_id": "47e56cd038db404bbecaf5f1e930baa0"
      }
     },
     "metadata": {},
     "output_type": "display_data"
    },
    {
     "data": {
      "text/plain": [
       "  0%|          | 0/29 [00:00<?, ?it/s]"
      ],
      "application/vnd.jupyter.widget-view+json": {
       "version_major": 2,
       "version_minor": 0,
       "model_id": "83fb7abe1511431fa073ea37ac0030d5"
      }
     },
     "metadata": {},
     "output_type": "display_data"
    },
    {
     "data": {
      "text/plain": [
       "  0%|          | 0/29 [00:00<?, ?it/s]"
      ],
      "application/vnd.jupyter.widget-view+json": {
       "version_major": 2,
       "version_minor": 0,
       "model_id": "e43cd116d9fb4821b70d87d89623bfbb"
      }
     },
     "metadata": {},
     "output_type": "display_data"
    },
    {
     "data": {
      "text/plain": [
       "  0%|          | 0/29 [00:00<?, ?it/s]"
      ],
      "application/vnd.jupyter.widget-view+json": {
       "version_major": 2,
       "version_minor": 0,
       "model_id": "1ad73ec4e290418ab37fe662eccacb12"
      }
     },
     "metadata": {},
     "output_type": "display_data"
    },
    {
     "data": {
      "text/plain": [
       "  0%|          | 0/29 [00:00<?, ?it/s]"
      ],
      "application/vnd.jupyter.widget-view+json": {
       "version_major": 2,
       "version_minor": 0,
       "model_id": "2b51c27488e84975acb04ee9b7184987"
      }
     },
     "metadata": {},
     "output_type": "display_data"
    },
    {
     "data": {
      "text/plain": [
       "  0%|          | 0/29 [00:00<?, ?it/s]"
      ],
      "application/vnd.jupyter.widget-view+json": {
       "version_major": 2,
       "version_minor": 0,
       "model_id": "5019d0fece6246be925eb018ae1f4634"
      }
     },
     "metadata": {},
     "output_type": "display_data"
    },
    {
     "data": {
      "text/plain": [
       "  0%|          | 0/29 [00:00<?, ?it/s]"
      ],
      "application/vnd.jupyter.widget-view+json": {
       "version_major": 2,
       "version_minor": 0,
       "model_id": "63c58a4bdc8d439fa3f9cafbe92ce0a2"
      }
     },
     "metadata": {},
     "output_type": "display_data"
    },
    {
     "data": {
      "text/plain": [
       "  0%|          | 0/29 [00:00<?, ?it/s]"
      ],
      "application/vnd.jupyter.widget-view+json": {
       "version_major": 2,
       "version_minor": 0,
       "model_id": "2169950dc23040c6adbc8274d7e8a50c"
      }
     },
     "metadata": {},
     "output_type": "display_data"
    },
    {
     "data": {
      "text/plain": [
       "  0%|          | 0/29 [00:00<?, ?it/s]"
      ],
      "application/vnd.jupyter.widget-view+json": {
       "version_major": 2,
       "version_minor": 0,
       "model_id": "ff1e484aa63942a4a8b63199465605d9"
      }
     },
     "metadata": {},
     "output_type": "display_data"
    },
    {
     "data": {
      "text/plain": [
       "  0%|          | 0/29 [00:00<?, ?it/s]"
      ],
      "application/vnd.jupyter.widget-view+json": {
       "version_major": 2,
       "version_minor": 0,
       "model_id": "cbf064ab001c48b1a8ea3fcc9cf401c8"
      }
     },
     "metadata": {},
     "output_type": "display_data"
    },
    {
     "data": {
      "text/plain": [
       "  0%|          | 0/29 [00:00<?, ?it/s]"
      ],
      "application/vnd.jupyter.widget-view+json": {
       "version_major": 2,
       "version_minor": 0,
       "model_id": "c2bd555ab25d4338994d1c1790c9daba"
      }
     },
     "metadata": {},
     "output_type": "display_data"
    },
    {
     "data": {
      "text/plain": [
       "  0%|          | 0/29 [00:00<?, ?it/s]"
      ],
      "application/vnd.jupyter.widget-view+json": {
       "version_major": 2,
       "version_minor": 0,
       "model_id": "313ead9ac1344fffb2c0a401f865b06b"
      }
     },
     "metadata": {},
     "output_type": "display_data"
    },
    {
     "data": {
      "text/plain": [
       "  0%|          | 0/29 [00:00<?, ?it/s]"
      ],
      "application/vnd.jupyter.widget-view+json": {
       "version_major": 2,
       "version_minor": 0,
       "model_id": "aba16e19b1fa49d9a0252fd02b8d7e6c"
      }
     },
     "metadata": {},
     "output_type": "display_data"
    },
    {
     "data": {
      "text/plain": [
       "  0%|          | 0/29 [00:00<?, ?it/s]"
      ],
      "application/vnd.jupyter.widget-view+json": {
       "version_major": 2,
       "version_minor": 0,
       "model_id": "eb7c24fa369b4c0da2823b2dc44c6c8d"
      }
     },
     "metadata": {},
     "output_type": "display_data"
    },
    {
     "data": {
      "text/plain": [
       "  0%|          | 0/29 [00:00<?, ?it/s]"
      ],
      "application/vnd.jupyter.widget-view+json": {
       "version_major": 2,
       "version_minor": 0,
       "model_id": "870936bf86f748568cf4cad0324e8032"
      }
     },
     "metadata": {},
     "output_type": "display_data"
    },
    {
     "data": {
      "text/plain": [
       "  0%|          | 0/29 [00:00<?, ?it/s]"
      ],
      "application/vnd.jupyter.widget-view+json": {
       "version_major": 2,
       "version_minor": 0,
       "model_id": "8f26a01dd15149489007ce7d6d6711cf"
      }
     },
     "metadata": {},
     "output_type": "display_data"
    },
    {
     "data": {
      "text/plain": [
       "  0%|          | 0/29 [00:00<?, ?it/s]"
      ],
      "application/vnd.jupyter.widget-view+json": {
       "version_major": 2,
       "version_minor": 0,
       "model_id": "3947f90f086d4eecb64d089a2b6f5a06"
      }
     },
     "metadata": {},
     "output_type": "display_data"
    },
    {
     "data": {
      "text/plain": [
       "  0%|          | 0/29 [00:00<?, ?it/s]"
      ],
      "application/vnd.jupyter.widget-view+json": {
       "version_major": 2,
       "version_minor": 0,
       "model_id": "690a46f5d94d493a9ab31785da2388b8"
      }
     },
     "metadata": {},
     "output_type": "display_data"
    },
    {
     "data": {
      "text/plain": [
       "  0%|          | 0/29 [00:00<?, ?it/s]"
      ],
      "application/vnd.jupyter.widget-view+json": {
       "version_major": 2,
       "version_minor": 0,
       "model_id": "1959bd601c5e4568becb548d8dc4a0db"
      }
     },
     "metadata": {},
     "output_type": "display_data"
    },
    {
     "data": {
      "text/plain": [
       "  0%|          | 0/29 [00:00<?, ?it/s]"
      ],
      "application/vnd.jupyter.widget-view+json": {
       "version_major": 2,
       "version_minor": 0,
       "model_id": "0ff99b87d905411e9a8746d705cea904"
      }
     },
     "metadata": {},
     "output_type": "display_data"
    },
    {
     "data": {
      "text/plain": [
       "  0%|          | 0/29 [00:00<?, ?it/s]"
      ],
      "application/vnd.jupyter.widget-view+json": {
       "version_major": 2,
       "version_minor": 0,
       "model_id": "f0a39684130b4d469663fe2be375974e"
      }
     },
     "metadata": {},
     "output_type": "display_data"
    },
    {
     "data": {
      "text/plain": [
       "  0%|          | 0/29 [00:00<?, ?it/s]"
      ],
      "application/vnd.jupyter.widget-view+json": {
       "version_major": 2,
       "version_minor": 0,
       "model_id": "205111f3701f4b56bbbb7c17b88cb6be"
      }
     },
     "metadata": {},
     "output_type": "display_data"
    },
    {
     "data": {
      "text/plain": [
       "  0%|          | 0/29 [00:00<?, ?it/s]"
      ],
      "application/vnd.jupyter.widget-view+json": {
       "version_major": 2,
       "version_minor": 0,
       "model_id": "1916b42b09e347c1a5b9921a61167b18"
      }
     },
     "metadata": {},
     "output_type": "display_data"
    },
    {
     "data": {
      "text/plain": [
       "  0%|          | 0/29 [00:00<?, ?it/s]"
      ],
      "application/vnd.jupyter.widget-view+json": {
       "version_major": 2,
       "version_minor": 0,
       "model_id": "8fb33bc01234458f895b9a58721a192d"
      }
     },
     "metadata": {},
     "output_type": "display_data"
    },
    {
     "data": {
      "text/plain": [
       "  0%|          | 0/29 [00:00<?, ?it/s]"
      ],
      "application/vnd.jupyter.widget-view+json": {
       "version_major": 2,
       "version_minor": 0,
       "model_id": "cf41c22cfb464b3088be96fe78b8d1ec"
      }
     },
     "metadata": {},
     "output_type": "display_data"
    },
    {
     "data": {
      "text/plain": [
       "  0%|          | 0/29 [00:00<?, ?it/s]"
      ],
      "application/vnd.jupyter.widget-view+json": {
       "version_major": 2,
       "version_minor": 0,
       "model_id": "d05d05faa07e4b84bd9a5d9ae5b68ff7"
      }
     },
     "metadata": {},
     "output_type": "display_data"
    },
    {
     "data": {
      "text/plain": [
       "  0%|          | 0/29 [00:00<?, ?it/s]"
      ],
      "application/vnd.jupyter.widget-view+json": {
       "version_major": 2,
       "version_minor": 0,
       "model_id": "ff864f1930654bdb810162186a3b78ae"
      }
     },
     "metadata": {},
     "output_type": "display_data"
    },
    {
     "data": {
      "text/plain": [
       "  0%|          | 0/29 [00:00<?, ?it/s]"
      ],
      "application/vnd.jupyter.widget-view+json": {
       "version_major": 2,
       "version_minor": 0,
       "model_id": "fa2a90467c404845be21174e5453ae07"
      }
     },
     "metadata": {},
     "output_type": "display_data"
    },
    {
     "data": {
      "text/plain": [
       "  0%|          | 0/29 [00:00<?, ?it/s]"
      ],
      "application/vnd.jupyter.widget-view+json": {
       "version_major": 2,
       "version_minor": 0,
       "model_id": "607451c0a3bf4e10891951a0dc93bcde"
      }
     },
     "metadata": {},
     "output_type": "display_data"
    },
    {
     "data": {
      "text/plain": [
       "  0%|          | 0/29 [00:00<?, ?it/s]"
      ],
      "application/vnd.jupyter.widget-view+json": {
       "version_major": 2,
       "version_minor": 0,
       "model_id": "14660db89ab74222b6e77e7850fd31a9"
      }
     },
     "metadata": {},
     "output_type": "display_data"
    },
    {
     "data": {
      "text/plain": [
       "  0%|          | 0/29 [00:00<?, ?it/s]"
      ],
      "application/vnd.jupyter.widget-view+json": {
       "version_major": 2,
       "version_minor": 0,
       "model_id": "7a2697140dd6490a9a8268c7f4f38ef6"
      }
     },
     "metadata": {},
     "output_type": "display_data"
    },
    {
     "data": {
      "text/plain": [
       "  0%|          | 0/29 [00:00<?, ?it/s]"
      ],
      "application/vnd.jupyter.widget-view+json": {
       "version_major": 2,
       "version_minor": 0,
       "model_id": "146b9e1051b24e66b7d78ae8f65ed6c5"
      }
     },
     "metadata": {},
     "output_type": "display_data"
    },
    {
     "data": {
      "text/plain": [
       "  0%|          | 0/29 [00:00<?, ?it/s]"
      ],
      "application/vnd.jupyter.widget-view+json": {
       "version_major": 2,
       "version_minor": 0,
       "model_id": "fdd8f2091ad2459184c1564e43268cca"
      }
     },
     "metadata": {},
     "output_type": "display_data"
    },
    {
     "data": {
      "text/plain": [
       "  0%|          | 0/29 [00:00<?, ?it/s]"
      ],
      "application/vnd.jupyter.widget-view+json": {
       "version_major": 2,
       "version_minor": 0,
       "model_id": "34e8c758affc47e8a09eea51c6ed0b45"
      }
     },
     "metadata": {},
     "output_type": "display_data"
    },
    {
     "data": {
      "text/plain": [
       "  0%|          | 0/29 [00:00<?, ?it/s]"
      ],
      "application/vnd.jupyter.widget-view+json": {
       "version_major": 2,
       "version_minor": 0,
       "model_id": "150ddfc219c2434fa1cc4f5045c9a707"
      }
     },
     "metadata": {},
     "output_type": "display_data"
    },
    {
     "data": {
      "text/plain": [
       "  0%|          | 0/29 [00:00<?, ?it/s]"
      ],
      "application/vnd.jupyter.widget-view+json": {
       "version_major": 2,
       "version_minor": 0,
       "model_id": "a9fb99ed7615429dab9717d4f87ca6ec"
      }
     },
     "metadata": {},
     "output_type": "display_data"
    },
    {
     "data": {
      "text/plain": [
       "  0%|          | 0/29 [00:00<?, ?it/s]"
      ],
      "application/vnd.jupyter.widget-view+json": {
       "version_major": 2,
       "version_minor": 0,
       "model_id": "b82adcde66d84e11a799dab3dfa48685"
      }
     },
     "metadata": {},
     "output_type": "display_data"
    },
    {
     "data": {
      "text/plain": [
       "  0%|          | 0/29 [00:00<?, ?it/s]"
      ],
      "application/vnd.jupyter.widget-view+json": {
       "version_major": 2,
       "version_minor": 0,
       "model_id": "4ec679a8dbe646fa884b695bea7b02fd"
      }
     },
     "metadata": {},
     "output_type": "display_data"
    },
    {
     "data": {
      "text/plain": [
       "  0%|          | 0/29 [00:00<?, ?it/s]"
      ],
      "application/vnd.jupyter.widget-view+json": {
       "version_major": 2,
       "version_minor": 0,
       "model_id": "d66f7e73ab954396a6acf20b94a18791"
      }
     },
     "metadata": {},
     "output_type": "display_data"
    },
    {
     "data": {
      "text/plain": [
       "  0%|          | 0/29 [00:00<?, ?it/s]"
      ],
      "application/vnd.jupyter.widget-view+json": {
       "version_major": 2,
       "version_minor": 0,
       "model_id": "782d9269aade45a1b676c0d25c114398"
      }
     },
     "metadata": {},
     "output_type": "display_data"
    },
    {
     "data": {
      "text/plain": [
       "  0%|          | 0/29 [00:00<?, ?it/s]"
      ],
      "application/vnd.jupyter.widget-view+json": {
       "version_major": 2,
       "version_minor": 0,
       "model_id": "6e1374e03508449a95b03c4571c6af73"
      }
     },
     "metadata": {},
     "output_type": "display_data"
    },
    {
     "data": {
      "text/plain": [
       "  0%|          | 0/29 [00:00<?, ?it/s]"
      ],
      "application/vnd.jupyter.widget-view+json": {
       "version_major": 2,
       "version_minor": 0,
       "model_id": "8a116815844a46138ce37ee55fe9bcb0"
      }
     },
     "metadata": {},
     "output_type": "display_data"
    },
    {
     "data": {
      "text/plain": [
       "  0%|          | 0/29 [00:00<?, ?it/s]"
      ],
      "application/vnd.jupyter.widget-view+json": {
       "version_major": 2,
       "version_minor": 0,
       "model_id": "f39657cf14ad4fb98be5f1c12bdd4610"
      }
     },
     "metadata": {},
     "output_type": "display_data"
    },
    {
     "data": {
      "text/plain": [
       "  0%|          | 0/29 [00:00<?, ?it/s]"
      ],
      "application/vnd.jupyter.widget-view+json": {
       "version_major": 2,
       "version_minor": 0,
       "model_id": "fecef96df47b454980f146a339dd083d"
      }
     },
     "metadata": {},
     "output_type": "display_data"
    },
    {
     "data": {
      "text/plain": [
       "  0%|          | 0/29 [00:00<?, ?it/s]"
      ],
      "application/vnd.jupyter.widget-view+json": {
       "version_major": 2,
       "version_minor": 0,
       "model_id": "63573636d0b346f29f1c9d1fe8bf6029"
      }
     },
     "metadata": {},
     "output_type": "display_data"
    },
    {
     "data": {
      "text/plain": [
       "  0%|          | 0/29 [00:00<?, ?it/s]"
      ],
      "application/vnd.jupyter.widget-view+json": {
       "version_major": 2,
       "version_minor": 0,
       "model_id": "58f19f175670432891e7a6eb670b3694"
      }
     },
     "metadata": {},
     "output_type": "display_data"
    },
    {
     "data": {
      "text/plain": [
       "  0%|          | 0/29 [00:00<?, ?it/s]"
      ],
      "application/vnd.jupyter.widget-view+json": {
       "version_major": 2,
       "version_minor": 0,
       "model_id": "13ea68331ffa476589a8de8f30970e64"
      }
     },
     "metadata": {},
     "output_type": "display_data"
    },
    {
     "data": {
      "text/plain": [
       "  0%|          | 0/29 [00:00<?, ?it/s]"
      ],
      "application/vnd.jupyter.widget-view+json": {
       "version_major": 2,
       "version_minor": 0,
       "model_id": "9f296399d3864c35bdad08869cef58cc"
      }
     },
     "metadata": {},
     "output_type": "display_data"
    },
    {
     "data": {
      "text/plain": [
       "  0%|          | 0/29 [00:00<?, ?it/s]"
      ],
      "application/vnd.jupyter.widget-view+json": {
       "version_major": 2,
       "version_minor": 0,
       "model_id": "3a5835ba50524c538406f63cd7609347"
      }
     },
     "metadata": {},
     "output_type": "display_data"
    },
    {
     "data": {
      "text/plain": [
       "  0%|          | 0/29 [00:00<?, ?it/s]"
      ],
      "application/vnd.jupyter.widget-view+json": {
       "version_major": 2,
       "version_minor": 0,
       "model_id": "13dedc4fcf334296a8f969475cee2919"
      }
     },
     "metadata": {},
     "output_type": "display_data"
    },
    {
     "data": {
      "text/plain": [
       "  0%|          | 0/29 [00:00<?, ?it/s]"
      ],
      "application/vnd.jupyter.widget-view+json": {
       "version_major": 2,
       "version_minor": 0,
       "model_id": "f42ccd8162bc4139b04fa66ed19e45ec"
      }
     },
     "metadata": {},
     "output_type": "display_data"
    },
    {
     "data": {
      "text/plain": [
       "  0%|          | 0/29 [00:00<?, ?it/s]"
      ],
      "application/vnd.jupyter.widget-view+json": {
       "version_major": 2,
       "version_minor": 0,
       "model_id": "86380609fa80427886773795536e822c"
      }
     },
     "metadata": {},
     "output_type": "display_data"
    },
    {
     "data": {
      "text/plain": [
       "  0%|          | 0/29 [00:00<?, ?it/s]"
      ],
      "application/vnd.jupyter.widget-view+json": {
       "version_major": 2,
       "version_minor": 0,
       "model_id": "397f9f97c1f14819a54c71980c093a4f"
      }
     },
     "metadata": {},
     "output_type": "display_data"
    },
    {
     "name": "stderr",
     "output_type": "stream",
     "text": [
      "IOPub message rate exceeded.\n",
      "The Jupyter server will temporarily stop sending output\n",
      "to the client in order to avoid crashing it.\n",
      "To change this limit, set the config variable\n",
      "`--ServerApp.iopub_msg_rate_limit`.\n",
      "\n",
      "Current values:\n",
      "ServerApp.iopub_msg_rate_limit=1000.0 (msgs/sec)\n",
      "ServerApp.rate_limit_window=3.0 (secs)\n",
      "\n"
     ]
    },
    {
     "data": {
      "text/plain": [
       "  0%|          | 0/29 [00:00<?, ?it/s]"
      ],
      "application/vnd.jupyter.widget-view+json": {
       "version_major": 2,
       "version_minor": 0,
       "model_id": "9112c2048d4e4871a2f3d41d025f524e"
      }
     },
     "metadata": {},
     "output_type": "display_data"
    },
    {
     "data": {
      "text/plain": [
       "  0%|          | 0/29 [00:00<?, ?it/s]"
      ],
      "application/vnd.jupyter.widget-view+json": {
       "version_major": 2,
       "version_minor": 0,
       "model_id": "2a2498df18504f5684a00a3b8cc277af"
      }
     },
     "metadata": {},
     "output_type": "display_data"
    },
    {
     "data": {
      "text/plain": [
       "  0%|          | 0/29 [00:00<?, ?it/s]"
      ],
      "application/vnd.jupyter.widget-view+json": {
       "version_major": 2,
       "version_minor": 0,
       "model_id": "e8c4cfc366144de3adb757b956ec48e3"
      }
     },
     "metadata": {},
     "output_type": "display_data"
    },
    {
     "data": {
      "text/plain": [
       "<Figure size 1200x600 with 1 Axes>"
      ],
      "image/png": "[encoded data removed]"
     },
     "metadata": {},
     "output_type": "display_data"
    },
    {
     "name": "stdout",
     "output_type": "stream",
     "text": [
      "Estimated Option Price: 0.69\n"
     ]
    }
   ],
   "execution_count": 11
  },
  {
   "cell_type": "code",
   "id": "2303f9e4-2f23-4b34-ae31-70ed953a77f1",
   "metadata": {},
   "source": [
    "import matplotlib.pyplot as plt\n",
    "import numpy as np\n",
    "\n",
    "def plot_trajectories(x, y, cnt, title, ylabel, plot_mean=False):\n",
    "    plt.figure(figsize=(10, 5))\n",
    "    for i in range(min(cnt, y.shape[0])):\n",
    "        plt.plot(x, y[i], alpha=0.5)\n",
    "    if plot_mean:\n",
    "        plt.plot(x, np.mean(y, axis=0), color='black', label='Mean', linewidth=2)\n",
    "    plt.title(title)\n",
    "    plt.xlabel('Time, $t$')\n",
    "    plt.ylabel(ylabel)\n",
    "    plt.grid(True)\n",
    "    plt.legend()\n",
    "    plt.show()"
   ],
   "outputs": [],
   "execution_count": 12
  },
  {
   "cell_type": "code",
   "id": "9229742a-b622-45bf-92ae-d92e903e51ff",
   "metadata": {},
   "source": [
    "model.sampler.plot(cnt=10, plot_mean=True, y=\"markov_state\")\n",
    "model.sampler.plot(cnt=10, plot_mean=True, y=\"payoff, discount_factor\")"
   ],
   "outputs": [
    {
     "data": {
      "text/plain": [
       "<Figure size 640x480 with 1 Axes>"
      ],
      "image/png": "[encoded data removed]"
     },
     "metadata": {},
     "output_type": "display_data"
    },
    {
     "data": {
      "text/plain": [
       "<Figure size 640x480 with 1 Axes>"
      ],
      "image/png": "[encoded data removed]"
     },
     "metadata": {},
     "output_type": "display_data"
    },
    {
     "data": {
      "text/plain": [
       "<Figure size 640x480 with 1 Axes>"
      ],
      "image/png": "[encoded data removed]"
     },
     "metadata": {},
     "output_type": "display_data"
    },
    {
     "data": {
      "text/plain": [
       "<Figure size 640x480 with 1 Axes>"
      ],
      "image/png": "[encoded data removed]"
     },
     "metadata": {},
     "output_type": "display_data"
    },
    {
     "data": {
      "text/plain": [
       "<Figure size 640x480 with 1 Axes>"
      ],
      "image/png": "[encoded data removed]"
     },
     "metadata": {},
     "output_type": "display_data"
    },
    {
     "data": {
      "text/plain": [
       "<Figure size 640x480 with 1 Axes>"
      ],
      "image/png": "[encoded data removed]"
     },
     "metadata": {},
     "output_type": "display_data"
    }
   ],
   "execution_count": 13
  },
  {
   "cell_type": "code",
   "id": "39820dd1-2051-4f2b-9d40-786c2c6cb73a",
   "metadata": {},
   "source": [
    "# class AmericanOptionLSPI:\n",
    "#     def __init__(self, sampler, num_components=4, gamma=1.0, epsilon=1e-5, iterations=20):\n",
    "#         self.sampler = sampler\n",
    "#         self.num_components = num_components  # Adjusted to match the number of available features\n",
    "#         self.gamma = gamma\n",
    "#         self.epsilon = epsilon\n",
    "#         self.iterations = iterations\n",
    "#         self.policy = None\n",
    "#         self.q_approximation = None\n",
    "#         self.result = {}\n",
    "#         self.pca = PCA(n_components=num_components)\n",
    "\n",
    "#     def feature_functions(self, state, t):\n",
    "#         \"\"\"Custom feature functions for state at given time.\"\"\"\n",
    "#         M_t = state / self.sampler.strike\n",
    "#         T_minus_t = self.sampler.t - t\n",
    "\n",
    "#         return np.array([\n",
    "#             1,\n",
    "#             np.exp(-0.5 * M_t),\n",
    "#             np.exp(-0.5 * M_t) * (1 - M_t),\n",
    "#             np.exp(-0.5 * M_t) * (1 - 2 * M_t + (M_t ** 2) / 2),\n",
    "#         ])\n",
    "\n",
    "#     def _generate_transitions(self):\n",
    "#         \"\"\"Simulates the process and generates transitions for LSPI.\"\"\"\n",
    "#         self.sampler.sample()\n",
    "#         raw_features = [self.feature_functions(state, t)\n",
    "#                         for t in range(self.sampler.cnt_times)\n",
    "#                         for state in self.sampler.markov_state[:, t, 0]]\n",
    "        \n",
    "#         # Fit PCA and transform features\n",
    "#         transformed_features = self.pca.fit_transform(raw_features)\n",
    "\n",
    "#         # Generate transitions using PCA-reduced features\n",
    "#         transitions = []\n",
    "#         index = 0\n",
    "#         for i in range(self.sampler.cnt_trajectories):\n",
    "#             for t in range(self.sampler.cnt_times - 1):\n",
    "#                 state_features = transformed_features[index]\n",
    "#                 next_state_features = transformed_features[index + 1]\n",
    "#                 action = 0  # Continue action\n",
    "#                 reward = 0  # No reward unless exercised\n",
    "#                 transitions.append((state_features, action, reward, next_state_features, t))\n",
    "#                 index += 1\n",
    "#         return transitions\n",
    "\n",
    "#     def price(self, test=False, quiet=False):\n",
    "#         transitions = self._generate_transitions()\n",
    "#         actions = lambda state: [0, 1]  # Define action space\n",
    "\n",
    "#         # Convert numpy array state to tuple for use as dictionary key\n",
    "#         initial_policy = {tuple(state): np.random.choice([0, 1]) for state, _, _, _, _ in transitions}\n",
    "\n",
    "#         # LSPI Algorithm\n",
    "#         lspi_generator = least_squares_policy_iteration(\n",
    "#             transitions=transitions,\n",
    "#             actions=actions,\n",
    "#             feature_functions=self.pca.components_.tolist(),  # Ensure components are list of lists\n",
    "#             initial_target_policy=initial_policy,\n",
    "#             gamma=self.gamma,\n",
    "#             epsilon=self.epsilon\n",
    "#         )\n",
    "\n",
    "#         for _ in tqdm(range(self.iterations), desc=\"LSPI Iteration\"):\n",
    "#             self.q_approximation = next(lspi_generator)\n",
    "\n",
    "#         if not quiet:\n",
    "#             self._plot_results(plot_mean=True)\n",
    "\n",
    "#         # Storing results\n",
    "#         self.result = {\"LSPI Policy\": self.q_approximation}\n",
    "#         return self.result\n",
    "\n",
    "# # Example usage\n",
    "# sampler = GeometricBrownianMotionPutSampler(\n",
    "#     cnt_trajectories=10000,\n",
    "#     cnt_times=30,\n",
    "#     t=1,\n",
    "#     time_grid=None,\n",
    "#     seed=345,\n",
    "#     sigma=0.2,\n",
    "#     asset0=100.,\n",
    "#     strike=100.,\n",
    "#     mu=0.1\n",
    "# )\n",
    "\n",
    "# amc_lspi = AmericanOptionLSPI(sampler)\n",
    "# result = amc_lspi.price(quiet=False)"
   ],
   "outputs": [],
   "execution_count": 14
  },
  {
   "cell_type": "code",
   "id": "f5259fc9d644a97c",
   "metadata": {},
   "source": [
    "# class BasisFunction:\n",
    "#     def __init__(self, indim, numCenters, outdim):\n",
    "#         self.indim = indim\n",
    "#         self.outdim = outdim\n",
    "#         self.numCenters = numCenters\n",
    "#         self.centers = [np.random.uniform(-1, 1, indim) for i in xrange(numCenters)]\n",
    "#         print \"Centers\",self.centers\n",
    "#         self.beta = 8\n",
    "#         self.W = np.random.random((self.numCenters, self.outdim))\n",
    "\n",
    "#     def _basisfunc(self, c, d):\n",
    "#         assert len(d) == self.indim\n",
    "#         norm_1 = (c-d)/((c**2)+(d**2))**(1/2)\n",
    "#         print (c-d),(norm_1)\n",
    "#         return np.exp(-self.beta *( (c-d)[0]** 2))\n",
    "\n",
    "#     # Berechnen de basis FUnction for each sample and gaussion\n",
    "#     def _calcAct(self, X):\n",
    "#         # calculate activations of RBFs\n",
    "#         G = np.zeros((X.shape[0], self.numCenters), float)\n",
    "#         for ci, c in enumerate(self.centers):\n",
    "#             for xi, x in enumerate(X):\n",
    "#                 G[xi, ci] = self._basisfunc(c, x)\n",
    "#         return G\n",
    "\n",
    "#     def train(self, X, Y):\n",
    "#         \"\"\" X: matrix of dimensions n x indim\n",
    "#             y: column vector of dimension n x 1 \"\"\"\n",
    "\n",
    "#         # choose random center vectors from training set\n",
    "#         rnd_idx = np.random.permutation(X.shape[0])[:self.numCenters]\n",
    "#         self.centers = [X[i, :] for i in rnd_idx]\n",
    "\n",
    "#         #print \"center\", self.centers\n",
    "#         # calculate activations of RBFs\n",
    "#         G = self._calcAct(X)\n",
    "#         #print G\n",
    "\n",
    "\n",
    "#         # calculate output weights (pseudoinverse)\n",
    "#         Maximun_likelihood= pinv(G) #pseudoinverse\n",
    "#         self.W = np.dot(Maximun_likelihood, Y)\n",
    "\n",
    "#     def test(self, X):\n",
    "#         \"\"\" X: matrix of dimensions n x indim \"\"\"\n",
    "\n",
    "#         G = self._calcAct(X)\n",
    "#         Y = np.dot(G, self.W)\n",
    "#         return Y\n",
    "\n",
    "\n",
    "\n",
    "# class Policy:\n",
    "\n",
    "#     def __init__(self,basis, num_theta, theta=None ):\n",
    "#         self.basis_function=basis\n",
    "#         self.actions = [0, 1, 2]\n",
    "\n",
    "#         self.num_theta=num_theta\n",
    "\n",
    "#         # uniform distribution of the actions\n",
    "\n",
    "\n",
    "#         self.theta_behavior= theta\n",
    "\n",
    "#         if theta is None:\n",
    "#             self.weights = np.random.uniform(-1.0, 1.0, size=(num_theta,))\n",
    "\n",
    "#         else:\n",
    "#             self.weights=theta\n",
    "\n",
    "#     def set_theta(self, theta):\n",
    "#         self.weights = (self.weights+theta)*0*5\n",
    "\n",
    "\n",
    "#     def behavior(self,state,action):\n",
    "#         prob=0.0\n",
    "#         if self.theta_behavior is None:\n",
    "#             self.theta_behavior = np.random.uniform(-1.0, 1.0, size=(self.num_theta,))\n",
    "\n",
    "\n",
    "#         vector_basis = self.basis_function.evaluate(state, action)\n",
    "#         return np.dot(vector_basis, self.theta_behavior)\n",
    "\n",
    "\n",
    "\n",
    "\n",
    "#     def q_value_function(self, state, action ):\n",
    "#         vector_basis = self.basis_function.evaluate(state,action)\n",
    "#         return np.dot(vector_basis,self.weights)\n",
    "\n",
    "#     def get_actions(self, state):\n",
    "\n",
    "\n",
    "#         q_state_action=[self.q_value_function(state,self.actions[i]) for i in range(len(self.actions))]\n",
    "#         q_state_action = np.reshape(q_state_action,[len(q_state_action),1])# convert to column vector\n",
    "\n",
    "#         index = np.argmax(q_state_action)\n",
    "#         q_max = q_state_action[index]\n",
    "\n",
    "\n",
    "#         best_actions = [self.actions[index]]\n",
    "#         ind =[index]\n",
    "\n",
    "#         for i in range(len(q_state_action)):\n",
    "#             if q_state_action[i]==q_max and index!=i:\n",
    "#                 best_actions.append(self.actions[i])\n",
    "#                 ind.append(i)\n",
    "\n",
    "\n",
    "\n",
    "#         return best_actions\n",
    "\n",
    "\n",
    "# \"\"\"\n",
    "# important property of LSPI is that it does not require an approximate policy representation,\n",
    "# At each iteration, a different policy is evaluated\n",
    "# and certain sets of basis functions may be more appropriate than others for representing\n",
    "# the state-action value function for each of these policies.\n",
    "\n",
    "# since LSPI approximates state-action value\n",
    "# functions, it can use samples from any policy to estimate the state-action value function of\n",
    "# another policy. This focuses attention more clearly on the issue of exploration since any\n",
    "# policy can be followed while collecting samples.\n",
    "# \"\"\"\n",
    "\n",
    "\n",
    "# class LSPI:\n",
    "\n",
    "#     def __init__(self, num_actions=3, num_means=2 ,gamma=0.99 ):\n",
    "\n",
    "#         print num_actions, num_means\n",
    "\n",
    "#         self.basis_function = Basis_Function(num_means, num_means, num_actions, gamma)\n",
    "#         num_basis = self.basis_function._num_basis()\n",
    "\n",
    "#         self.policy = Policy(self.basis_function, num_basis)\n",
    "#         self.lstdq  = LSTDQ(self.basis_function, gamma, self.policy)\n",
    "\n",
    "#         self.stop_criterium= 10**-5\n",
    "#         self.gamma = gamma\n",
    "\n",
    "\n",
    "\n",
    "#     #def agent (self,sample,total_iterationen):\n",
    "\n",
    "\n",
    "#     def _act(self,state):\n",
    "#         index =  self.policy.get_actions(state)  # TODO: validation for random actions\n",
    "#         action = self.policy.actions[index[0]]\n",
    "#         return action\n",
    "\n",
    "\n",
    "\n",
    "#     def train( self,  sample,  total_iterationen, w_important_Sampling=False  ):\n",
    "\n",
    "#         error = float('inf')\n",
    "#         num_interation=0\n",
    "#         epsilon = 0.001\n",
    "\n",
    "#         #print \"policy weights\", self.policy.weights\n",
    "\n",
    "#         while  (epsilon * (1 - self.gamma) / self.gamma) < error and num_interation< total_iterationen :\n",
    "\n",
    "#             if w_important_Sampling:\n",
    "#                 new_weights = self.lstdq.train_weight_parameter ( sample,\n",
    "#                                                                   self.policy,\n",
    "#                                                                   self.basis_function )\n",
    "#             else:\n",
    "#                 new_weights = self.lstdq.train_parameter(sample,\n",
    "#                                                          self.policy,\n",
    "#                                                          self.basis_function)\n",
    "\n",
    "\n",
    "#             error = np.linalg.norm((new_weights - self.policy.weights))#difference between current policy and target policy\n",
    "#             self.policy.theta_behavior  = self.policy.weights\n",
    "#             self.policy.weights = new_weights\n",
    "#             #print \"new weights\", self.policy.weights\n",
    "\n",
    "\n",
    "#             num_interation += 1\n",
    "\n",
    "\n",
    "#         return self.policy\n",
    "\n",
    "\n",
    "#     def td_error(self, sample):\n",
    "\n",
    "#         states = sample[0]\n",
    "#         actions = sample[1]\n",
    "#         rewards = sample[2]\n",
    "#         next_states = sample[3]\n",
    "#         sample_size = len(states)\n",
    "#         td_e = 0.0\n",
    "\n",
    "#         for i in range(sample_size):\n",
    "\n",
    "#             index = self.policy.get_actions(next_states[i])  # TODO: validation in case more actions\n",
    "#             action = self.policy.actions[index[0]]\n",
    "\n",
    "#             index = self.policy.get_actions(states[i])  # TODO: validation in case more actions\n",
    "#             act = self.policy.actions[index[0]]\n",
    "\n",
    "#             Vst = self.policy.q_value_function(next_states[i], action)\n",
    "#             Vs = self.policy.q_value_function(states[i], act)\n",
    "\n",
    "#             td_e += ((rewards[i] + self.gamma * Vst) - Vs) ** 2\n",
    "#             # td_e = (rewards[i]- Vs)**2\n",
    "\n",
    "#         print\"td_error=\", (td_e / float(sample_size))\n",
    "\n",
    "\n",
    "#         # return (td_e/sample_size)"
   ],
   "outputs": [],
   "execution_count": 15
  },
  {
   "cell_type": "code",
   "id": "b3cfda05-86c2-48c8-98a9-ed0a79738624",
   "metadata": {},
   "source": [],
   "outputs": [],
   "execution_count": 15
  }
 ],
 "metadata": {
  "kernelspec": {
   "display_name": "Python 3 (ipykernel)",
   "language": "python",
   "name": "python3"
  },
  "language_info": {
   "codemirror_mode": {
    "name": "ipython",
    "version": 3
   },
   "file_extension": ".py",
   "mimetype": "text/x-python",
   "name": "python",
   "nbconvert_exporter": "python",
   "pygments_lexer": "ipython3",
   "version": "3.11.7"
  }
 },
 "nbformat": 4,
 "nbformat_minor": 5
}
